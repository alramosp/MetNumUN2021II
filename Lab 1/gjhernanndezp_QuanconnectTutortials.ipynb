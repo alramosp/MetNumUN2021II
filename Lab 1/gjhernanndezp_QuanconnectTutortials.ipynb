{
  "nbformat": 4,
  "nbformat_minor": 0,
  "metadata": {
    "colab": {
      "name": "gjhernanndezp_QuanconnectTutortials.ipynb",
      "provenance": [],
      "collapsed_sections": [],
      "include_colab_link": true
    },
    "kernelspec": {
      "display_name": "Python 3",
      "language": "python",
      "name": "python3"
    },
    "language_info": {
      "codemirror_mode": {
        "name": "ipython",
        "version": 3
      },
      "file_extension": ".py",
      "mimetype": "text/x-python",
      "name": "python",
      "nbconvert_exporter": "python",
      "pygments_lexer": "ipython3",
      "version": "3.6.4"
    }
  },
  "cells": [
    {
      "cell_type": "markdown",
      "metadata": {
        "id": "view-in-github",
        "colab_type": "text"
      },
      "source": [
        "<a href=\"https://colab.research.google.com/github/alramosp/MetNumUN2021II/blob/main/Lab%201/gjhernanndezp_QuanconnectTutortials.ipynb\" target=\"_parent\"><img src=\"https://colab.research.google.com/assets/colab-badge.svg\" alt=\"Open In Colab\"/></a>"
      ]
    },
    {
      "cell_type": "markdown",
      "metadata": {
        "id": "eQzBbvyKQymx"
      },
      "source": [
        "<div align=\"center\">\n",
        "<img style=\"display: block; margin: auto;\" alt=\"photo\" src=\"https://cdn.quantconnect.com/web/i/icon.png\">\n",
        "\n",
        "Quantconnect\n",
        "\n",
        "Introduction to Financial Python\n",
        "</div>\n",
        "\n",
        "# 01 Data Types and Data Structures\n",
        "\n",
        "# Introduction\n",
        "\n",
        "This tutorial provides a basic introduction to the Python programming language. If you are new to Python, you should run the code snippets while reading this tutorial. If you are an advanced Python user, please feel free to skip this chapter.\n",
        "\n",
        "# Basic Variable Types\n",
        "The basic types of variables in Python are: strings, integers, floating point numbers and booleans.\n",
        "\n",
        "Strings in python are identified as a contiguous set of characters represented in either single quotes (' ') or double quotes (\" \").\n"
      ]
    },
    {
      "cell_type": "code",
      "metadata": {
        "colab": {
          "base_uri": "https://localhost:8080/"
        },
        "id": "N5t-UrcfOqid",
        "outputId": "499f2091-544c-4421-9be7-4466a6f4e06f"
      },
      "source": [
        "my_string1 = 'Welcome to'\n",
        "my_string2 = \"QuantConnect\"\n",
        "print(my_string1 + ' ' + my_string2)"
      ],
      "execution_count": null,
      "outputs": [
        {
          "output_type": "stream",
          "name": "stdout",
          "text": [
            "Welcome to QuantConnect\n"
          ]
        }
      ]
    },
    {
      "cell_type": "code",
      "metadata": {
        "colab": {
          "base_uri": "https://localhost:8080/"
        },
        "id": "nRqZfg7Jg_Ny",
        "outputId": "ed5c9def-7702-4479-ffb4-97ba659defe3"
      },
      "source": [
        "my_string1 = 'Bienvenido'\n",
        "my_string2 = \"Alejandro Ramos\"\n",
        "print(my_string1 + ' ' + my_string2)"
      ],
      "execution_count": null,
      "outputs": [
        {
          "output_type": "stream",
          "name": "stdout",
          "text": [
            "Bienvenido Alejandro Ramos\n"
          ]
        }
      ]
    },
    {
      "cell_type": "markdown",
      "metadata": {
        "id": "bXHnxZyHSd1M"
      },
      "source": [
        "An integer is a round number with no values after the decimal point."
      ]
    },
    {
      "cell_type": "code",
      "metadata": {
        "colab": {
          "base_uri": "https://localhost:8080/"
        },
        "id": "pNjuz3toOqif",
        "outputId": "1806fa13-12f1-4ab3-fa96-56b7c9b5019d"
      },
      "source": [
        "my_int = 10\n",
        "print(my_int)\n",
        "print(type(my_int))"
      ],
      "execution_count": null,
      "outputs": [
        {
          "output_type": "stream",
          "name": "stdout",
          "text": [
            "10\n",
            "<class 'int'>\n"
          ]
        }
      ]
    },
    {
      "cell_type": "code",
      "metadata": {
        "colab": {
          "base_uri": "https://localhost:8080/"
        },
        "id": "z9YphwmChKhQ",
        "outputId": "1ebd108a-bef1-4544-c2e7-b4b378219f14"
      },
      "source": [
        "my_int = 2001\n",
        "print(my_int)\n",
        "print(type(my_int))"
      ],
      "execution_count": null,
      "outputs": [
        {
          "output_type": "stream",
          "name": "stdout",
          "text": [
            "2001\n",
            "<class 'int'>\n"
          ]
        }
      ]
    },
    {
      "cell_type": "markdown",
      "metadata": {
        "id": "_1ZanWrYSnzF"
      },
      "source": [
        "The built-in function int() can convert a string into an integer."
      ]
    },
    {
      "cell_type": "code",
      "metadata": {
        "colab": {
          "base_uri": "https://localhost:8080/"
        },
        "id": "zPwGb20FOqif",
        "outputId": "f97dafe4-8930-4ed7-df97-01e0be4e3066"
      },
      "source": [
        "my_string = \"100\"\n",
        "print(type(my_string))\n",
        "my_int = int(my_string)\n",
        "print(type(my_int))"
      ],
      "execution_count": null,
      "outputs": [
        {
          "output_type": "stream",
          "name": "stdout",
          "text": [
            "<class 'str'>\n",
            "<class 'int'>\n"
          ]
        }
      ]
    },
    {
      "cell_type": "code",
      "metadata": {
        "colab": {
          "base_uri": "https://localhost:8080/"
        },
        "id": "1oxyTcJzi7ac",
        "outputId": "f0a12a0e-4afb-4582-fd96-83e3983dfaab"
      },
      "source": [
        "mi_cadena = \"5642\"\n",
        "print(type(mi_cadena))\n",
        "miNuevo_int = int(mi_cadena)\n",
        "print(type(miNuevo_int))\n"
      ],
      "execution_count": null,
      "outputs": [
        {
          "output_type": "stream",
          "name": "stdout",
          "text": [
            "<class 'str'>\n",
            "<class 'int'>\n"
          ]
        }
      ]
    },
    {
      "cell_type": "markdown",
      "metadata": {
        "id": "WqMDPDTHSrE9"
      },
      "source": [
        "A floating point number, or a float, is a real number in mathematics. In Python we need to include a value after a decimal point to define it as a float"
      ]
    },
    {
      "cell_type": "code",
      "metadata": {
        "colab": {
          "base_uri": "https://localhost:8080/"
        },
        "id": "otCzKKW9Oqig",
        "outputId": "4693cf36-fcfe-41e2-9048-8a454ee46e1c"
      },
      "source": [
        "my_string = \"100\"\n",
        "my_float = float(my_string)\n",
        "print(type(my_float))"
      ],
      "execution_count": null,
      "outputs": [
        {
          "output_type": "stream",
          "name": "stdout",
          "text": [
            "<class 'float'>\n"
          ]
        }
      ]
    },
    {
      "cell_type": "code",
      "metadata": {
        "colab": {
          "base_uri": "https://localhost:8080/"
        },
        "id": "kmZXvjbmjhAx",
        "outputId": "5e5d465f-80bc-4a3b-80c5-15d2ac1613ed"
      },
      "source": [
        "my_string = \"230\"\n",
        "my_float = float(my_string)\n",
        "print(type(my_float))\n"
      ],
      "execution_count": null,
      "outputs": [
        {
          "output_type": "stream",
          "name": "stdout",
          "text": [
            "<class 'float'>\n"
          ]
        }
      ]
    },
    {
      "cell_type": "markdown",
      "metadata": {
        "id": "2iuyv8Q7StTJ"
      },
      "source": [
        "As you can see above, if we don't include a decimal value, the variable would be defined as an integer. The built-in function float() can convert a string or an integer into a float."
      ]
    },
    {
      "cell_type": "code",
      "metadata": {
        "colab": {
          "base_uri": "https://localhost:8080/"
        },
        "id": "wwLw5VthOqig",
        "outputId": "aa208e65-19c4-4366-ccc1-9ba2ce51bf64"
      },
      "source": [
        "my_bool = False\n",
        "print(my_bool)\n",
        "print(type(my_bool))"
      ],
      "execution_count": null,
      "outputs": [
        {
          "output_type": "stream",
          "name": "stdout",
          "text": [
            "False\n",
            "<class 'bool'>\n"
          ]
        }
      ]
    },
    {
      "cell_type": "code",
      "metadata": {
        "colab": {
          "base_uri": "https://localhost:8080/"
        },
        "id": "oIaWBjm8lQmC",
        "outputId": "a2727b49-c3e3-432a-b042-54688a94dc60"
      },
      "source": [
        "my_bool = True\n",
        "print(my_bool)\n",
        "print(type(my_bool))"
      ],
      "execution_count": null,
      "outputs": [
        {
          "output_type": "stream",
          "name": "stdout",
          "text": [
            "True\n",
            "<class 'bool'>\n"
          ]
        }
      ]
    },
    {
      "cell_type": "markdown",
      "metadata": {
        "id": "bnGMwH21Szr_"
      },
      "source": [
        "A boolean, or bool, is a binary variable. Its value can only be True or False. It is useful when we do some logic operations, which would be covered in our next chapter."
      ]
    },
    {
      "cell_type": "code",
      "metadata": {
        "colab": {
          "base_uri": "https://localhost:8080/"
        },
        "id": "DMa6pDl5Oqig",
        "outputId": "c837dfb6-4fec-43db-82cf-5476e588bbfb"
      },
      "source": [
        "print(\"Addition \", 1+1)\n",
        "print(\"Subtraction \", 5-2)\n",
        "print(\"Multiplication \", 2*3)\n",
        "print(\"Division \", 10/2)\n",
        "print('exponent', 2**3)"
      ],
      "execution_count": null,
      "outputs": [
        {
          "output_type": "stream",
          "name": "stdout",
          "text": [
            "Addition  2\n",
            "Subtraction  3\n",
            "Multiplication  6\n",
            "Division  5.0\n",
            "exponent 8\n"
          ]
        }
      ]
    },
    {
      "cell_type": "code",
      "metadata": {
        "colab": {
          "base_uri": "https://localhost:8080/"
        },
        "id": "Wxn829FJlqO6",
        "outputId": "51ff2836-9cfc-4ef1-8463-d209cd287caf"
      },
      "source": [
        "print(\"Addition \", 8+1)\n",
        "print(\"Subtraction \", 24-5)\n",
        "print(\"Multiplication \", 8*3)\n",
        "print(\"Division \", 12/3)\n",
        "print('exponent', 4**3)"
      ],
      "execution_count": null,
      "outputs": [
        {
          "output_type": "stream",
          "name": "stdout",
          "text": [
            "Addition  9\n",
            "Subtraction  19\n",
            "Multiplication  24\n",
            "Division  4.0\n",
            "exponent 64\n"
          ]
        }
      ]
    },
    {
      "cell_type": "markdown",
      "metadata": {
        "id": "1Xc9G9_sS2ju"
      },
      "source": [
        "# Basic Math Operations\n",
        "\n",
        "The basic math operators in python are demonstrated below:"
      ]
    },
    {
      "cell_type": "code",
      "metadata": {
        "colab": {
          "base_uri": "https://localhost:8080/"
        },
        "id": "KE9gUryAOqig",
        "outputId": "8bfe8709-58a2-45a2-d81f-b012fde6ec80"
      },
      "source": [
        "print(1/3)\n",
        "print(1.0/3)"
      ],
      "execution_count": null,
      "outputs": [
        {
          "output_type": "stream",
          "name": "stdout",
          "text": [
            "0.3333333333333333\n",
            "0.3333333333333333\n"
          ]
        }
      ]
    },
    {
      "cell_type": "code",
      "metadata": {
        "colab": {
          "base_uri": "https://localhost:8080/"
        },
        "id": "Bd0Q4SxGmSK7",
        "outputId": "a51f4e33-4fd8-4d55-d54f-6a08be64301b"
      },
      "source": [
        "print(3/4)\n",
        "print(3.0/4)"
      ],
      "execution_count": null,
      "outputs": [
        {
          "output_type": "stream",
          "name": "stdout",
          "text": [
            "0.75\n",
            "0.75\n"
          ]
        }
      ]
    },
    {
      "cell_type": "markdown",
      "metadata": {
        "id": "AN5Oa3DoS_Nf"
      },
      "source": [
        "# Data Collections\n",
        "\n",
        "## List\n",
        "A list is an ordered collection of values. A list is mutable, which means you can change a list's value without changing the list itself. Creating a list is simply putting different comma-separated values between square brackets."
      ]
    },
    {
      "cell_type": "code",
      "metadata": {
        "colab": {
          "base_uri": "https://localhost:8080/"
        },
        "id": "-tQdNqCvOqig",
        "outputId": "865e1903-8deb-4a25-bc26-7b5d0e1a3a34"
      },
      "source": [
        "my_list = ['Quant', 'Connect', 1,2,3]\n",
        "print(my_list)"
      ],
      "execution_count": null,
      "outputs": [
        {
          "output_type": "stream",
          "name": "stdout",
          "text": [
            "['Quant', 'Connect', 1, 2, 3]\n"
          ]
        }
      ]
    },
    {
      "cell_type": "code",
      "metadata": {
        "colab": {
          "base_uri": "https://localhost:8080/"
        },
        "id": "6aP7dYcCm6aO",
        "outputId": "3f1f481c-da09-4130-95a4-bf39cbc8c686"
      },
      "source": [
        "mi_lista = ['Alejandro', 'Ramos', 6,22,78,108]\n",
        "print(mi_lista)"
      ],
      "execution_count": null,
      "outputs": [
        {
          "output_type": "stream",
          "name": "stdout",
          "text": [
            "['Alejandro', 'Ramos', 6, 22, 78, 108]\n"
          ]
        }
      ]
    },
    {
      "cell_type": "markdown",
      "metadata": {
        "id": "1O0TsgZCTHrM"
      },
      "source": [
        "The values in a list are called \"elements\". We can access list elements by indexing. Python index starts from 0. So if you have a list of length n, the index of the first element will be 0, and that of the last element will be n − 1. By the way, the length of a list can be obtained by the built-in function len()."
      ]
    },
    {
      "cell_type": "code",
      "metadata": {
        "colab": {
          "base_uri": "https://localhost:8080/"
        },
        "id": "QhuVhRR5Oqih",
        "outputId": "5c1f055d-1b75-4183-adf8-730f206e6654"
      },
      "source": [
        "my_list = ['Quant', 'Connect', 1,2,3]\n",
        "print(len(my_list))\n",
        "print(my_list[0])\n",
        "print(my_list[len(my_list) -1])"
      ],
      "execution_count": null,
      "outputs": [
        {
          "output_type": "stream",
          "name": "stdout",
          "text": [
            "5\n",
            "Quant\n",
            "3\n"
          ]
        }
      ]
    },
    {
      "cell_type": "code",
      "metadata": {
        "colab": {
          "base_uri": "https://localhost:8080/"
        },
        "id": "gc14-KfIoahx",
        "outputId": "92fcf406-f4fd-4624-d1aa-9ce4bf78edb0"
      },
      "source": [
        "mi_lista = ['Alejandro', 'Ramos', 6,22,78,108]\n",
        "print(len(mi_lista))\n",
        "print(mi_lista[1])\n",
        "print(mi_lista[len(mi_lista) -2])"
      ],
      "execution_count": null,
      "outputs": [
        {
          "output_type": "stream",
          "name": "stdout",
          "text": [
            "6\n",
            "Ramos\n",
            "78\n"
          ]
        }
      ]
    },
    {
      "cell_type": "markdown",
      "metadata": {
        "id": "jgSZy1VGTKSc"
      },
      "source": [
        "You can also change the elements in the list by accessing an index and assigning a new value."
      ]
    },
    {
      "cell_type": "code",
      "metadata": {
        "colab": {
          "base_uri": "https://localhost:8080/"
        },
        "id": "NQBNLjAvOqih",
        "outputId": "d670f049-6aee-4790-e9ad-f71143711dda"
      },
      "source": [
        "my_list = ['Quant','Connect',1,2,3]\n",
        "my_list[2] = 'go'\n",
        "print(my_list)"
      ],
      "execution_count": null,
      "outputs": [
        {
          "output_type": "stream",
          "name": "stdout",
          "text": [
            "['Quant', 'Connect', 'go', 2, 3]\n"
          ]
        }
      ]
    },
    {
      "cell_type": "code",
      "metadata": {
        "colab": {
          "base_uri": "https://localhost:8080/"
        },
        "id": "-ZacP2LIpMJF",
        "outputId": "fe2242ca-095a-4281-fde9-e91f6741ba78"
      },
      "source": [
        "mi_lista = ['Alejandro', 'Ramos', 6,22,78,108]\n",
        "mi_lista [3] = \"Pérez\"\n",
        "print(mi_lista)"
      ],
      "execution_count": null,
      "outputs": [
        {
          "output_type": "stream",
          "name": "stdout",
          "text": [
            "['Alejandro', 'Ramos', 6, 'Pérez', 78, 108]\n"
          ]
        }
      ]
    },
    {
      "cell_type": "markdown",
      "metadata": {
        "id": "EQPs5ojoTVrk"
      },
      "source": [
        "A list can also be sliced with a colon:"
      ]
    },
    {
      "cell_type": "code",
      "metadata": {
        "colab": {
          "base_uri": "https://localhost:8080/"
        },
        "id": "keNX2RbtOqii",
        "outputId": "eeb04243-0f4d-4986-e281-17ce1c15f8e4"
      },
      "source": [
        "my_list = ['Quant','Connect',1,2,3]\n",
        "print(my_list[1:3])"
      ],
      "execution_count": null,
      "outputs": [
        {
          "output_type": "stream",
          "name": "stdout",
          "text": [
            "['Connect', 1]\n"
          ]
        }
      ]
    },
    {
      "cell_type": "code",
      "metadata": {
        "colab": {
          "base_uri": "https://localhost:8080/"
        },
        "id": "FycuszX7qWaP",
        "outputId": "3a911677-2af4-45a6-c9fa-b1050ea80ab9"
      },
      "source": [
        "mi_lista = ['Alejandro', 'Ramos', 6,22,78,108]\n",
        "print(mi_lista[2:5])"
      ],
      "execution_count": null,
      "outputs": [
        {
          "output_type": "stream",
          "name": "stdout",
          "text": [
            "[6, 22, 78]\n"
          ]
        }
      ]
    },
    {
      "cell_type": "markdown",
      "metadata": {
        "id": "AZqQd0K8TYul"
      },
      "source": [
        "The slice starts from the first element indicated, but excludes the last element indicated. Here we select all elements starting from index 1, which refers to the second element:"
      ]
    },
    {
      "cell_type": "code",
      "metadata": {
        "colab": {
          "base_uri": "https://localhost:8080/"
        },
        "id": "0-76sLfkOqii",
        "outputId": "d288c39c-bf43-4a6d-8144-7a7f45e678ae"
      },
      "source": [
        "print(my_list[1:])"
      ],
      "execution_count": null,
      "outputs": [
        {
          "output_type": "stream",
          "name": "stdout",
          "text": [
            "['Connect', 1, 2, 3]\n"
          ]
        }
      ]
    },
    {
      "cell_type": "code",
      "metadata": {
        "colab": {
          "base_uri": "https://localhost:8080/"
        },
        "id": "L4-73h0rq8B1",
        "outputId": "13a85efe-8c8c-42fb-d7ee-33973cb655b0"
      },
      "source": [
        "print(mi_lista[2:])"
      ],
      "execution_count": null,
      "outputs": [
        {
          "output_type": "stream",
          "name": "stdout",
          "text": [
            "[6, 22, 78, 108]\n"
          ]
        }
      ]
    },
    {
      "cell_type": "markdown",
      "metadata": {
        "id": "XBqvhUdZVKWs"
      },
      "source": [
        "And all elements up to but excluding index 3:"
      ]
    },
    {
      "cell_type": "code",
      "metadata": {
        "colab": {
          "base_uri": "https://localhost:8080/"
        },
        "id": "5NWr75L9Oqii",
        "outputId": "28043f9b-8c9e-4073-dd91-563ab75ad097"
      },
      "source": [
        "print(my_list[:3])"
      ],
      "execution_count": null,
      "outputs": [
        {
          "output_type": "stream",
          "name": "stdout",
          "text": [
            "['Quant', 'Connect', 1]\n"
          ]
        }
      ]
    },
    {
      "cell_type": "code",
      "metadata": {
        "colab": {
          "base_uri": "https://localhost:8080/"
        },
        "id": "K83zmeN1rIXz",
        "outputId": "0d1cdcba-f075-451e-977d-1854019790f7"
      },
      "source": [
        "print(mi_lista[:5])"
      ],
      "execution_count": null,
      "outputs": [
        {
          "output_type": "stream",
          "name": "stdout",
          "text": [
            "['Alejandro', 'Ramos', 6, 22, 78]\n"
          ]
        }
      ]
    },
    {
      "cell_type": "markdown",
      "metadata": {
        "id": "eAFmM6bkTZz9"
      },
      "source": [
        "If you wish to add or remove an element from a list, you can use the append() and remove() methods for lists as follows:"
      ]
    },
    {
      "cell_type": "code",
      "metadata": {
        "colab": {
          "base_uri": "https://localhost:8080/"
        },
        "id": "pHmgTPElTo19",
        "outputId": "a8a8db33-1f62-44aa-c7b2-bbfd20d595cd"
      },
      "source": [
        "my_list = ['Hello', 'Quant']\n",
        "my_list.append('Hello')\n",
        "print(my_list)\n",
        "\n"
      ],
      "execution_count": null,
      "outputs": [
        {
          "output_type": "stream",
          "name": "stdout",
          "text": [
            "['Hello', 'Quant', 'Hello']\n"
          ]
        }
      ]
    },
    {
      "cell_type": "code",
      "metadata": {
        "colab": {
          "base_uri": "https://localhost:8080/"
        },
        "id": "ZsQyep1ArlAz",
        "outputId": "a08cae5c-2c5b-4459-ed0b-8f03f617803d"
      },
      "source": [
        "mi_lista = ['Alejandro', 'Ramos']\n",
        "mi_lista.append('Pérez')\n",
        "print(mi_lista)"
      ],
      "execution_count": null,
      "outputs": [
        {
          "output_type": "stream",
          "name": "stdout",
          "text": [
            "['Alejandro', 'Ramos', 'Pérez']\n"
          ]
        }
      ]
    },
    {
      "cell_type": "code",
      "metadata": {
        "colab": {
          "base_uri": "https://localhost:8080/"
        },
        "id": "4C4U1Yf0Tr8l",
        "outputId": "4ffd7d76-ec1d-42b8-e8b3-7e09a17867d9"
      },
      "source": [
        "my_list.remove('Hello')\n",
        "print(my_list)"
      ],
      "execution_count": null,
      "outputs": [
        {
          "output_type": "stream",
          "name": "stdout",
          "text": [
            "['Quant', 'Hello']\n"
          ]
        }
      ]
    },
    {
      "cell_type": "code",
      "metadata": {
        "colab": {
          "base_uri": "https://localhost:8080/"
        },
        "id": "lTXZ0_8Ur-Cg",
        "outputId": "f33fb010-832f-4bc7-a771-9eb99ef96a0a"
      },
      "source": [
        "mi_lista.remove('Ramos')\n",
        "print(mi_lista)"
      ],
      "execution_count": null,
      "outputs": [
        {
          "output_type": "stream",
          "name": "stdout",
          "text": [
            "['Alejandro', 'Pérez']\n"
          ]
        }
      ]
    },
    {
      "cell_type": "markdown",
      "metadata": {
        "id": "11W1gG-cVmOU"
      },
      "source": [
        "When there are repeated instances of \"Hello\", the first one is removed.\n",
        "\n",
        "## Tuple\n",
        "A tuple is a data structure type similar to a list. The difference is that a tuple is immutable, which means you can't change the elements in it once it's defined. We create a tuple by putting comma-separated values between parentheses."
      ]
    },
    {
      "cell_type": "code",
      "metadata": {
        "collapsed": true,
        "id": "vPmn6BAaOqii"
      },
      "source": [
        "my_tuple = ('Welcome','to','QuantConnect')"
      ],
      "execution_count": null,
      "outputs": []
    },
    {
      "cell_type": "code",
      "metadata": {
        "id": "EDrg3bm_tXWZ"
      },
      "source": [
        "mi_tupla =('Bienvenido','Alejandro','Ramos','Pérez')"
      ],
      "execution_count": null,
      "outputs": []
    },
    {
      "cell_type": "markdown",
      "metadata": {
        "id": "zMIme4dDV0Wz"
      },
      "source": [
        "Just like a list, a tuple can be sliced by using index."
      ]
    },
    {
      "cell_type": "code",
      "metadata": {
        "colab": {
          "base_uri": "https://localhost:8080/"
        },
        "id": "8P-ddO0sOqii",
        "outputId": "718df06f-de7e-4cea-f61a-b6e692986a16"
      },
      "source": [
        "my_tuple = ('Welcome','to','QuantConnect')\n",
        "print(my_tuple[1:])"
      ],
      "execution_count": null,
      "outputs": [
        {
          "output_type": "stream",
          "name": "stdout",
          "text": [
            "('to', 'QuantConnect')\n"
          ]
        }
      ]
    },
    {
      "cell_type": "code",
      "metadata": {
        "colab": {
          "base_uri": "https://localhost:8080/"
        },
        "id": "dPslVjhdti2e",
        "outputId": "b88e5165-7986-4a0b-d874-e061a04192b7"
      },
      "source": [
        "mi_tupla =('Bienvenido','Alejandro','Ramos','Pérez')\n",
        "print(mi_tupla[1:])"
      ],
      "execution_count": null,
      "outputs": [
        {
          "output_type": "stream",
          "name": "stdout",
          "text": [
            "('Alejandro', 'Ramos', 'Pérez')\n"
          ]
        }
      ]
    },
    {
      "cell_type": "markdown",
      "metadata": {
        "id": "l2JqbusAV1Y2"
      },
      "source": [
        "## Set\n",
        "A set is an **unordered**  collection with **no duplicate** elements. The built-in function **set()** can be used to create sets."
      ]
    },
    {
      "cell_type": "code",
      "metadata": {
        "colab": {
          "base_uri": "https://localhost:8080/"
        },
        "id": "Plau8r-UOqij",
        "outputId": "2adac41c-76e0-4dd6-e011-9bd02bbb27f0"
      },
      "source": [
        "stock_list = ['AAPL','GOOG','IBM','AAPL','IBM','FB','F','GOOG']\n",
        "stock_set = set(stock_list)\n",
        "print(stock_set)"
      ],
      "execution_count": null,
      "outputs": [
        {
          "output_type": "stream",
          "name": "stdout",
          "text": [
            "{'AAPL', 'FB', 'IBM', 'GOOG', 'F'}\n"
          ]
        }
      ]
    },
    {
      "cell_type": "code",
      "metadata": {
        "colab": {
          "base_uri": "https://localhost:8080/"
        },
        "id": "LCf_qcyVuJBv",
        "outputId": "1cdfd2ff-7614-4a64-c74c-52ba12abb006"
      },
      "source": [
        "stock_lista = ['li','lo','lu','li','le','le']\n",
        "stock_listaSet = set(stock_lista)\n",
        "print(stock_listaSet)"
      ],
      "execution_count": null,
      "outputs": [
        {
          "output_type": "stream",
          "name": "stdout",
          "text": [
            "{'le', 'li', 'lo', 'lu'}\n"
          ]
        }
      ]
    },
    {
      "cell_type": "markdown",
      "metadata": {
        "id": "Jyb4GGIoWIHk"
      },
      "source": [
        "Set is an easy way to remove duplicate elements from a list.\n",
        "\n",
        "##Dictionary\n",
        "A dictionary is one of the most important data structures in Python. Unlike sequences which are indexed by integers, dictionaries are indexed by keys which can be either strings or floats.\n",
        "\n",
        "A dictionary is an **unordered** collection of key : value pairs, with the requirement that the keys are unique. We create a dictionary by placing a comma-separated list of key : value pairs within the braces."
      ]
    },
    {
      "cell_type": "code",
      "metadata": {
        "collapsed": true,
        "id": "36mTe5BaOqij"
      },
      "source": [
        "my_dic = {'AAPL':'AAPLE', 'FB':'FaceBook', 'GOOG':'Alphabet'}"
      ],
      "execution_count": 1,
      "outputs": []
    },
    {
      "cell_type": "code",
      "metadata": {
        "id": "wOSl8W-RGV-6"
      },
      "source": [
        "mi_dic ={'CR':'Carro','DS':'Disco','CN':'Cancion'}"
      ],
      "execution_count": 6,
      "outputs": []
    },
    {
      "cell_type": "code",
      "metadata": {
        "colab": {
          "base_uri": "https://localhost:8080/"
        },
        "id": "KUfdVf43Oqij",
        "outputId": "62eaf1b4-e635-49f3-adae-666f63aec586"
      },
      "source": [
        "print(my_dic['GOOG'])"
      ],
      "execution_count": 4,
      "outputs": [
        {
          "output_type": "stream",
          "name": "stdout",
          "text": [
            "Alphabet\n"
          ]
        }
      ]
    },
    {
      "cell_type": "code",
      "metadata": {
        "colab": {
          "base_uri": "https://localhost:8080/"
        },
        "id": "yTcRGGb_G8Xg",
        "outputId": "368b8f36-0131-4d0f-da0b-bd822bc7b773"
      },
      "source": [
        "print(mi_dic['DS'])"
      ],
      "execution_count": 7,
      "outputs": [
        {
          "output_type": "stream",
          "name": "stdout",
          "text": [
            "Disco\n"
          ]
        }
      ]
    },
    {
      "cell_type": "markdown",
      "metadata": {
        "id": "gSicoNqDWP4c"
      },
      "source": [
        "After defining a dictionary, we can access any value by indicating its key in brackets."
      ]
    },
    {
      "cell_type": "code",
      "metadata": {
        "colab": {
          "base_uri": "https://localhost:8080/"
        },
        "id": "IrTZdq9FOqij",
        "outputId": "1343554b-53d6-41a0-a08d-ff0a43c4f823"
      },
      "source": [
        "my_dic['GOOG'] = 'Alphabet Company'\n",
        "print(my_dic['GOOG'])"
      ],
      "execution_count": 8,
      "outputs": [
        {
          "output_type": "stream",
          "name": "stdout",
          "text": [
            "Alphabet Company\n"
          ]
        }
      ]
    },
    {
      "cell_type": "code",
      "metadata": {
        "colab": {
          "base_uri": "https://localhost:8080/"
        },
        "id": "zh47GiXCH9pj",
        "outputId": "297b31db-dcb3-4703-805b-d7be3c8314e4"
      },
      "source": [
        "mi_dic['DS'] = 'Discoteca'\n",
        "print(mi_dic['DS'])"
      ],
      "execution_count": 10,
      "outputs": [
        {
          "output_type": "stream",
          "name": "stdout",
          "text": [
            "Discoteca\n"
          ]
        }
      ]
    },
    {
      "cell_type": "markdown",
      "metadata": {
        "id": "M9sDsTEMWQvc"
      },
      "source": [
        "We can also change the value associated with a specified key:"
      ]
    },
    {
      "cell_type": "code",
      "metadata": {
        "colab": {
          "base_uri": "https://localhost:8080/"
        },
        "id": "lupRHf1_Oqij",
        "outputId": "e69ea947-f708-49c7-bc43-250f8907c8a8"
      },
      "source": [
        "print(my_dic.keys())"
      ],
      "execution_count": 11,
      "outputs": [
        {
          "output_type": "stream",
          "name": "stdout",
          "text": [
            "dict_keys(['AAPL', 'FB', 'GOOG'])\n"
          ]
        }
      ]
    },
    {
      "cell_type": "code",
      "metadata": {
        "colab": {
          "base_uri": "https://localhost:8080/"
        },
        "id": "tWT8NgB3IbsP",
        "outputId": "b310f545-c898-4575-fa73-74b75adcab2b"
      },
      "source": [
        "print(mi_dic.keys())"
      ],
      "execution_count": 12,
      "outputs": [
        {
          "output_type": "stream",
          "name": "stdout",
          "text": [
            "dict_keys(['CR', 'DS', 'CN'])\n"
          ]
        }
      ]
    },
    {
      "cell_type": "markdown",
      "metadata": {
        "id": "VPuDinlwWS9D"
      },
      "source": [
        "The built-in method of the dictionary object dict.keys() returns a list of all the keys used in the dictionary."
      ]
    },
    {
      "cell_type": "markdown",
      "metadata": {
        "id": "kSGzgNb2Womz"
      },
      "source": [
        "# Common String Operations\n",
        "A string is an immutable sequence of characters. It can be sliced by index just like a tuple:"
      ]
    },
    {
      "cell_type": "code",
      "metadata": {
        "colab": {
          "base_uri": "https://localhost:8080/"
        },
        "id": "xPojDnm9Oqik",
        "outputId": "4dd5d05d-fe30-4085-d603-e352b5eae727"
      },
      "source": [
        "my_str = 'Welcome to QuantConnect'\n",
        "print(my_str[8:])"
      ],
      "execution_count": 15,
      "outputs": [
        {
          "output_type": "stream",
          "name": "stdout",
          "text": [
            "to QuantConnect\n"
          ]
        }
      ]
    },
    {
      "cell_type": "code",
      "metadata": {
        "colab": {
          "base_uri": "https://localhost:8080/"
        },
        "id": "mcNwZhNtIwtR",
        "outputId": "a561382a-b707-4b6f-9e64-643620fe2373"
      },
      "source": [
        "my_str = 'Bienvenido Alejandro Ramos'\n",
        "print(my_str[10:])"
      ],
      "execution_count": 16,
      "outputs": [
        {
          "output_type": "stream",
          "name": "stdout",
          "text": [
            " Alejandro Ramos\n"
          ]
        }
      ]
    },
    {
      "cell_type": "markdown",
      "metadata": {
        "id": "wuJYy7tvWtM7"
      },
      "source": [
        "There are many methods associated with strings. We can use string.count() to count the occurrences of a character in a string, use string.find() to return the index of a specific character, and use string.replace() to replace characters"
      ]
    },
    {
      "cell_type": "code",
      "metadata": {
        "colab": {
          "base_uri": "https://localhost:8080/"
        },
        "id": "u9deZq1SOqik",
        "outputId": "3625e5a8-8f08-4b2f-be85-60a144e47e08"
      },
      "source": [
        "print('Counting the number of e appears in this sentence'.count('e'))\n",
        "print('The first time e appears in this sentence'.find('e'))\n",
        "print('all the a in this sentence now becomes e'.replace('a','e'))"
      ],
      "execution_count": 19,
      "outputs": [
        {
          "output_type": "stream",
          "name": "stdout",
          "text": [
            "7\n",
            "2\n",
            "ell the e in this sentence now becomes e\n"
          ]
        }
      ]
    },
    {
      "cell_type": "code",
      "metadata": {
        "colab": {
          "base_uri": "https://localhost:8080/"
        },
        "id": "HQTQsnHmKTtI",
        "outputId": "e8ecc864-c992-40a5-9140-b65bfe8f01fe"
      },
      "source": [
        "print('Este año no volvemos a la universidad'.count('a'))\n",
        "print('la virtualidad cansa'.find('u'))\n",
        "print('la presencialidad hace falta'.replace('e','a'))"
      ],
      "execution_count": 20,
      "outputs": [
        {
          "output_type": "stream",
          "name": "stdout",
          "text": [
            "4\n",
            "7\n",
            "la prasancialidad haca falta\n"
          ]
        }
      ]
    },
    {
      "cell_type": "markdown",
      "metadata": {
        "id": "sJPn3rkvWwHN"
      },
      "source": [
        "The most commonly used method for strings is string.split(). This method will split the string by the indicated character and return a list:"
      ]
    },
    {
      "cell_type": "code",
      "metadata": {
        "colab": {
          "base_uri": "https://localhost:8080/"
        },
        "id": "hbIaFLFHOqik",
        "outputId": "6a92deeb-0d95-4514-c670-501dfac283e7"
      },
      "source": [
        "Time = '2016-04-01 09:43:00'\n",
        "splited_list = Time.split(' ')\n",
        "date = splited_list[0]\n",
        "time = splited_list[1]\n",
        "print(date, time)\n",
        "hour = time.split(':')[0]\n",
        "print(hour)"
      ],
      "execution_count": 23,
      "outputs": [
        {
          "output_type": "stream",
          "name": "stdout",
          "text": [
            "2016-04-01 09:43:00\n",
            "09\n"
          ]
        }
      ]
    },
    {
      "cell_type": "code",
      "metadata": {
        "colab": {
          "base_uri": "https://localhost:8080/"
        },
        "id": "fnkzRUm-L7AF",
        "outputId": "135b51b1-ad55-4879-9daa-e0450de87b90"
      },
      "source": [
        "Time = '2021-10-19 13:14:00'\n",
        "splited_list = Time.split(' ')\n",
        "date = splited_list[0]\n",
        "time = splited_list[1]\n",
        "print(date, time)\n",
        "hour = time.split(':')[0]\n",
        "print(hour)"
      ],
      "execution_count": 24,
      "outputs": [
        {
          "output_type": "stream",
          "name": "stdout",
          "text": [
            "2021-10-19 13:14:00\n",
            "13\n"
          ]
        }
      ]
    },
    {
      "cell_type": "markdown",
      "metadata": {
        "id": "9cJQGk96WyVc"
      },
      "source": [
        "We can replace parts of a string by our variable. This is called string formatting."
      ]
    },
    {
      "cell_type": "code",
      "metadata": {
        "colab": {
          "base_uri": "https://localhost:8080/"
        },
        "id": "-E_rIvv6Oqik",
        "outputId": "36b0c53c-566f-4172-c32b-9605edd366e4"
      },
      "source": [
        "my_time = 'Hour: {}, Minute:{}'.format('09','43')\n",
        "print(my_time)"
      ],
      "execution_count": 25,
      "outputs": [
        {
          "output_type": "stream",
          "name": "stdout",
          "text": [
            "Hour: 09, Minute:43\n"
          ]
        }
      ]
    },
    {
      "cell_type": "code",
      "metadata": {
        "colab": {
          "base_uri": "https://localhost:8080/"
        },
        "id": "W_aInB6yMqt5",
        "outputId": "edbd3ea1-ae2c-4d9b-8bc7-94e86107e3ae"
      },
      "source": [
        "my_time = 'Hour: {}, Minute:{}'.format('13','14')\n",
        "print(my_time)"
      ],
      "execution_count": 26,
      "outputs": [
        {
          "output_type": "stream",
          "name": "stdout",
          "text": [
            "Hour: 13, Minute:14\n"
          ]
        }
      ]
    },
    {
      "cell_type": "markdown",
      "metadata": {
        "id": "1_NbVldpWzAs"
      },
      "source": [
        "Another way to format a string is to use the % symbol."
      ]
    },
    {
      "cell_type": "code",
      "metadata": {
        "colab": {
          "base_uri": "https://localhost:8080/"
        },
        "id": "4rZ4rkD2Oqik",
        "outputId": "701e00d3-4232-45d5-9a45-33fc0a7c21a8"
      },
      "source": [
        "print('the pi number is %f'%3.14)\n",
        "print('%s to %s'%('Welcome','Quantconnect'))"
      ],
      "execution_count": 29,
      "outputs": [
        {
          "output_type": "stream",
          "name": "stdout",
          "text": [
            "the pi number is 3.140000\n",
            "Welcome to Quantconnect\n"
          ]
        }
      ]
    },
    {
      "cell_type": "code",
      "metadata": {
        "colab": {
          "base_uri": "https://localhost:8080/"
        },
        "id": "ihncVZOlNNhQ",
        "outputId": "e013f4aa-1c21-4e4b-b0bb-8653b27f802f"
      },
      "source": [
        "print('el año actual es %i'%2021)\n",
        "print('Estamos en %s , dia %s'%('Octubre','Catorce'))"
      ],
      "execution_count": 34,
      "outputs": [
        {
          "output_type": "stream",
          "name": "stdout",
          "text": [
            "el año actual es 2021\n",
            "Estamos en Octubre , dia Catorce\n"
          ]
        }
      ]
    },
    {
      "cell_type": "markdown",
      "metadata": {
        "id": "v_5cocrDW3MN"
      },
      "source": [
        "# Summary\n",
        "\n",
        "Weave seen the basic data types and data structures in Python. It's important to keep practicing to become familiar with these data structures. In the next tutorial, we will cover for and while loops and logical operations in Python."
      ]
    },
    {
      "cell_type": "markdown",
      "metadata": {
        "id": "QL6dNxwCXNEt"
      },
      "source": [
        "<div align=\"center\">\n",
        "<img style=\"display: block; margin: auto;\" alt=\"photo\" src=\"https://cdn.quantconnect.com/web/i/icon.png\">\n",
        "\n",
        "Quantconnect\n",
        "\n",
        "Introduction to Financial Python\n",
        "</div>\n",
        "\n",
        "# 02 Logical Operations and Loops\n",
        "\n",
        "# Introduction\n",
        "We discussed the basic data types and data structures in Python in the last tutorial. This chapter covers logical operations and loops in Python, which are very common in programming.\n",
        "\n",
        "# Logical Operations\n",
        "Like most programming languages, Python has comparison operators:"
      ]
    },
    {
      "cell_type": "code",
      "metadata": {
        "colab": {
          "base_uri": "https://localhost:8080/"
        },
        "id": "70Guys_rOv7a",
        "outputId": "8cbdda1a-8236-41e4-cf6d-74f7641576c1"
      },
      "source": [
        "print(1 == 0)\n",
        "print(1 == 1)\n",
        "print(1 != 0)\n",
        "print(5 >= 5)\n",
        "print(5 >= 6)"
      ],
      "execution_count": 35,
      "outputs": [
        {
          "output_type": "stream",
          "name": "stdout",
          "text": [
            "False\n",
            "True\n",
            "True\n",
            "True\n",
            "False\n"
          ]
        }
      ]
    },
    {
      "cell_type": "code",
      "metadata": {
        "colab": {
          "base_uri": "https://localhost:8080/"
        },
        "id": "Mi7rtcKkQ5dB",
        "outputId": "6a0c2574-8b68-438e-887d-3252c5f1a34b"
      },
      "source": [
        "print(25 == 25)\n",
        "print(12 == 1)\n",
        "print(0 != 0)\n",
        "print(85 >= 80)\n",
        "print(41 >= 41)"
      ],
      "execution_count": 36,
      "outputs": [
        {
          "output_type": "stream",
          "name": "stdout",
          "text": [
            "True\n",
            "False\n",
            "False\n",
            "True\n",
            "True\n"
          ]
        }
      ]
    },
    {
      "cell_type": "markdown",
      "metadata": {
        "id": "8aFHYDj-YTXt"
      },
      "source": [
        "Each statement above has a boolean value, which must be either True or False, but not both.\n",
        "\n",
        "We can combine simple statements P and Q to form complex statements using logical operators:\n",
        "\n",
        "- The statement \"P and Q\" is true if both P and Q are true, otherwise it is false.\n",
        "- The statement \"P or Q\" is false if both P and Q are false, otherwise it is true.\n",
        "- The statement \"not P\" is true if P is false, and vice versa."
      ]
    },
    {
      "cell_type": "code",
      "metadata": {
        "colab": {
          "base_uri": "https://localhost:8080/"
        },
        "id": "O5YEEcUbOv7d",
        "outputId": "13ddd905-48fc-4add-cc31-0207e22946f5"
      },
      "source": [
        "print(2 > 1 and 3 > 2)\n",
        "print(2 > 1 and 3 < 2) \n",
        "print(2 > 1 or 3 < 2)\n",
        "print(2 < 1 and 3 < 2)"
      ],
      "execution_count": 37,
      "outputs": [
        {
          "output_type": "stream",
          "name": "stdout",
          "text": [
            "True\n",
            "False\n",
            "True\n",
            "False\n"
          ]
        }
      ]
    },
    {
      "cell_type": "code",
      "metadata": {
        "colab": {
          "base_uri": "https://localhost:8080/"
        },
        "id": "cy3kuoZ8R3bn",
        "outputId": "e636b370-e749-4b10-b009-e0f157b29460"
      },
      "source": [
        "print(32 > 20 and 1 > 2)\n",
        "print(10 > 8 and 3 < 5) \n",
        "print(16 > 40 or 5 < 2)\n",
        "print(0 < 1 or 3 < 2)"
      ],
      "execution_count": 40,
      "outputs": [
        {
          "output_type": "stream",
          "name": "stdout",
          "text": [
            "False\n",
            "True\n",
            "False\n",
            "True\n"
          ]
        }
      ]
    },
    {
      "cell_type": "markdown",
      "metadata": {
        "id": "Dy7yzoSXYXmL"
      },
      "source": [
        "When dealing with a very complex logical statement that involves in several statements, we can use brackets to separate and combine them."
      ]
    },
    {
      "cell_type": "code",
      "metadata": {
        "colab": {
          "base_uri": "https://localhost:8080/"
        },
        "id": "QZ-W2xJZOv7d",
        "outputId": "450f349d-7bbe-4866-f42c-158f9b5a81ff"
      },
      "source": [
        "print((3 > 2 or 1 < 3) and (1!=3 and 4>3) and not ( 3 < 2 or 1 < 3 and (1!=3 and 4>3)))\n",
        "print(3 > 2 or 1 < 3 and (1!=3 and 4>3) and not ( 3 < 2 or 1 < 3 and (1!=3 and 4>3)))"
      ],
      "execution_count": 41,
      "outputs": [
        {
          "output_type": "stream",
          "name": "stdout",
          "text": [
            "False\n",
            "True\n"
          ]
        }
      ]
    },
    {
      "cell_type": "code",
      "metadata": {
        "colab": {
          "base_uri": "https://localhost:8080/"
        },
        "id": "FqfdDDacYUUR",
        "outputId": "8c49f936-ef34-4971-d9c7-50a6a759043f"
      },
      "source": [
        "print((20 > 8 or 54 < 14) and not (9==45 and 4>3) and ( 0 < 35 or 7 < 3 and (5!=5 and 85>29)))\n",
        "print(0 > 5 and 65 < 80 and not (3==3 and 17>3) and not ( 1 < 7 or 1 < 0 and (12 < 22 and 24>23)))"
      ],
      "execution_count": 46,
      "outputs": [
        {
          "output_type": "stream",
          "name": "stdout",
          "text": [
            "True\n",
            "False\n"
          ]
        }
      ]
    },
    {
      "cell_type": "markdown",
      "metadata": {
        "id": "s95xoRYMYaPD"
      },
      "source": [
        "Comparing the above two statements, we can see that it's wise to use brackets when we make a complex logical statement.\n",
        "\n",
        "# If Statement\n",
        "An if statement executes a segment of code only if its condition is true. A standard if statement consists of 3 segments: if, elif and else."
      ]
    },
    {
      "cell_type": "markdown",
      "metadata": {
        "id": "aRzMMitAaBOL"
      },
      "source": [
        "```python\n",
        "if statement1:\n",
        "    # if the statement1 is true, execute the code here.\n",
        "    # code.....\n",
        "    # code.....\n",
        "elif statement2:\n",
        "    # if the statement 1 is false, skip the codes above to this part.\n",
        "    # code......\n",
        "    # code......\n",
        "else:\n",
        "    # if none of the above statements is True, skip to this part\n",
        "    # code......\n",
        "```"
      ]
    },
    {
      "cell_type": "markdown",
      "metadata": {
        "id": "l59R2AS8aH2K"
      },
      "source": [
        "An if statement doesn't necessarily has elif and else part. If it's not specified, the indented block of code will be executed when the condition is true, otherwise the whole if statement will be skipped."
      ]
    },
    {
      "cell_type": "code",
      "metadata": {
        "colab": {
          "base_uri": "https://localhost:8080/"
        },
        "id": "FZ5GoTXfOv7e",
        "outputId": "6b0c8ef8-02a5-4281-9599-36c5c383c8bd"
      },
      "source": [
        "i = 0\n",
        "if i == 0:\n",
        "    print('i==0 is True')"
      ],
      "execution_count": 47,
      "outputs": [
        {
          "output_type": "stream",
          "name": "stdout",
          "text": [
            "i==0 is True\n"
          ]
        }
      ]
    },
    {
      "cell_type": "code",
      "metadata": {
        "colab": {
          "base_uri": "https://localhost:8080/"
        },
        "id": "SEMqXQOIby6O",
        "outputId": "f727b95d-7bf1-4164-e241-6fe60d94fb30"
      },
      "source": [
        "i = 25\n",
        "if i !=0:\n",
        "    print('i==0 is False')"
      ],
      "execution_count": 50,
      "outputs": [
        {
          "output_type": "stream",
          "name": "stdout",
          "text": [
            "i==0 is False\n"
          ]
        }
      ]
    },
    {
      "cell_type": "markdown",
      "metadata": {
        "id": "nPNW-l5eaJn8"
      },
      "source": [
        "As we mentioned above, we can write some complex statements here:"
      ]
    },
    {
      "cell_type": "code",
      "metadata": {
        "colab": {
          "base_uri": "https://localhost:8080/"
        },
        "id": "gh-U6nMzOv7e",
        "outputId": "5e409b4d-732c-4ce2-8baf-9eada2503755"
      },
      "source": [
        "p = 1 > 0\n",
        "q = 2 > 3\n",
        "if p and q:\n",
        "    print('p and q is true')\n",
        "elif p and not q:\n",
        "    print('q is false')\n",
        "elif q and not p:\n",
        "    print('p is false')\n",
        "else:\n",
        "    print('None of p and q is true')"
      ],
      "execution_count": 55,
      "outputs": [
        {
          "output_type": "stream",
          "name": "stdout",
          "text": [
            "q is false\n"
          ]
        }
      ]
    },
    {
      "cell_type": "code",
      "metadata": {
        "colab": {
          "base_uri": "https://localhost:8080/"
        },
        "id": "oVrolb_MdLqe",
        "outputId": "8437e4ec-8ccd-4fd4-dbec-658d865cbda8"
      },
      "source": [
        "p = 14 > 15\n",
        "q = 24 > 1\n",
        "if p and q:\n",
        "    print('p and q is true')\n",
        "elif p and not q:\n",
        "    print('q is false')\n",
        "elif q and not p:\n",
        "    print('p is false')\n",
        "else:\n",
        "    print('None of p and q is true')"
      ],
      "execution_count": 60,
      "outputs": [
        {
          "output_type": "stream",
          "name": "stdout",
          "text": [
            "p is false\n"
          ]
        }
      ]
    },
    {
      "cell_type": "markdown",
      "metadata": {
        "id": "tgRDwiAsaMOL"
      },
      "source": [
        "# Loop Structure\n",
        "Loops are an essential part of programming. The \"for\" and \"while\" loops run a block of code repeatedly.\n",
        "\n",
        "## While Loop\n",
        "A \"while\" loop will run repeatedly until a certain condition has been met."
      ]
    },
    {
      "cell_type": "code",
      "metadata": {
        "colab": {
          "base_uri": "https://localhost:8080/"
        },
        "id": "uQLau8d5Ov7f",
        "outputId": "1327acd7-2374-471c-e8e3-79127272cb11"
      },
      "source": [
        "i = 0\n",
        "while i < 5:\n",
        "    print(i)\n",
        "    i += 1 "
      ],
      "execution_count": 61,
      "outputs": [
        {
          "output_type": "stream",
          "name": "stdout",
          "text": [
            "0\n",
            "1\n",
            "2\n",
            "3\n",
            "4\n"
          ]
        }
      ]
    },
    {
      "cell_type": "code",
      "metadata": {
        "colab": {
          "base_uri": "https://localhost:8080/"
        },
        "id": "JPpUxB40eMlC",
        "outputId": "cc661ded-200b-4851-a4bd-24c4d4938b71"
      },
      "source": [
        "j = 15\n",
        "while j > 5:\n",
        "    print(j)\n",
        "    j -= 1"
      ],
      "execution_count": 65,
      "outputs": [
        {
          "output_type": "stream",
          "name": "stdout",
          "text": [
            "15\n",
            "14\n",
            "13\n",
            "12\n",
            "11\n",
            "10\n",
            "9\n",
            "8\n",
            "7\n",
            "6\n"
          ]
        }
      ]
    },
    {
      "cell_type": "markdown",
      "metadata": {
        "id": "ydLddFAPaTOE"
      },
      "source": [
        "When making a while loop, we need to ensure that something changes from iteration to iteration so that the while loop will terminate, otherwise, it will run forever. Here we used i += 1 (short for i = i + 1) to make i larger after each iteration. This is the most commonly used method to control a while loop.\n",
        "\n",
        "## For Loop\n",
        "A \"for\" loop will iterate over a sequence of value and terminate when the sequence has ended."
      ]
    },
    {
      "cell_type": "code",
      "metadata": {
        "colab": {
          "base_uri": "https://localhost:8080/"
        },
        "id": "kt8Ie8u1Ov7f",
        "outputId": "b87342b7-a7fe-4237-dc0d-e2ad5aaeab14"
      },
      "source": [
        "for i in [1,2,3,4,5]:\n",
        "    print(i)"
      ],
      "execution_count": 66,
      "outputs": [
        {
          "output_type": "stream",
          "name": "stdout",
          "text": [
            "1\n",
            "2\n",
            "3\n",
            "4\n",
            "5\n"
          ]
        }
      ]
    },
    {
      "cell_type": "code",
      "metadata": {
        "colab": {
          "base_uri": "https://localhost:8080/"
        },
        "id": "pIYeTW_-fSWN",
        "outputId": "ba6d74d8-eb8d-4b4c-b00a-82384aeb5ff2"
      },
      "source": [
        "for j in [233,'ca',3,14,'Ramos']:\n",
        "    print(j)"
      ],
      "execution_count": 70,
      "outputs": [
        {
          "output_type": "stream",
          "name": "stdout",
          "text": [
            "233\n",
            "ca\n",
            "3\n",
            "14\n",
            "Ramos\n"
          ]
        }
      ]
    },
    {
      "cell_type": "markdown",
      "metadata": {
        "id": "yWStqpreaX-T"
      },
      "source": [
        "We can also add if statements in a for loop. Here is a real example from our pairs trading algorithm:"
      ]
    },
    {
      "cell_type": "code",
      "metadata": {
        "colab": {
          "base_uri": "https://localhost:8080/"
        },
        "id": "kElmffvFOv7f",
        "outputId": "a4abf546-c7c1-42b0-9232-3015f57db326"
      },
      "source": [
        "stocks = ['AAPL','GOOG','IBM','FB','F','V', 'G', 'GE']\n",
        "selected = ['AAPL','IBM']\n",
        "new_list = []\n",
        "for i in stocks:\n",
        "    if i not in selected:\n",
        "        new_list.append(i)\n",
        "print(stocks)"
      ],
      "execution_count": 71,
      "outputs": [
        {
          "output_type": "stream",
          "name": "stdout",
          "text": [
            "['AAPL', 'GOOG', 'IBM', 'FB', 'F', 'V', 'G', 'GE']\n"
          ]
        }
      ]
    },
    {
      "cell_type": "code",
      "metadata": {
        "colab": {
          "base_uri": "https://localhost:8080/"
        },
        "id": "3aHezSpRhNvC",
        "outputId": "9ae3ef1b-f0a5-4086-d10b-3e1228ee686d"
      },
      "source": [
        "stocks = ['CA','MI','O','NE','TA','R', 'X']\n",
        "selected = ['O','X']\n",
        "new_list = []\n",
        "for i in stocks:\n",
        "    if i not in selected:\n",
        "        new_list.append(i)\n",
        "print(stocks)"
      ],
      "execution_count": 72,
      "outputs": [
        {
          "output_type": "stream",
          "name": "stdout",
          "text": [
            "['CA', 'MI', 'O', 'NE', 'TA', 'R', 'X']\n"
          ]
        }
      ]
    },
    {
      "cell_type": "markdown",
      "metadata": {
        "id": "wb2hry9dahE0"
      },
      "source": [
        "Here we iterated all the elements in the list 'stocks'. Later in this chapter, we will introduce a smarter way to do this, which is just a one-line code.\n",
        "\n",
        "## Break and continue\n",
        "These are two commonly used commands in a for loop. If \"break\" is triggered while a loop is executing, the loop will terminate immediately:"
      ]
    },
    {
      "cell_type": "code",
      "metadata": {
        "colab": {
          "base_uri": "https://localhost:8080/"
        },
        "id": "yF5wMVItOv7g",
        "outputId": "dd69b4d9-4c72-4657-c335-65cf5a063323"
      },
      "source": [
        "stocks = ['AAPL','GOOG','IBM','FB','F','V', 'G', 'GE']\n",
        "for i in stocks:\n",
        "    print(i)\n",
        "    if i == 'FB':\n",
        "        break"
      ],
      "execution_count": 73,
      "outputs": [
        {
          "output_type": "stream",
          "name": "stdout",
          "text": [
            "AAPL\n",
            "GOOG\n",
            "IBM\n",
            "FB\n"
          ]
        }
      ]
    },
    {
      "cell_type": "code",
      "metadata": {
        "colab": {
          "base_uri": "https://localhost:8080/"
        },
        "id": "EDC_OHJgh26x",
        "outputId": "732216f3-106d-4471-8000-e16dfea88832"
      },
      "source": [
        "stocks = ['CA','MI','O','NE','TA','R', 'X']\n",
        "for i in stocks:\n",
        "    print(i)\n",
        "    if i == 'R':\n",
        "        break"
      ],
      "execution_count": 74,
      "outputs": [
        {
          "output_type": "stream",
          "name": "stdout",
          "text": [
            "CA\n",
            "MI\n",
            "O\n",
            "NE\n",
            "TA\n",
            "R\n"
          ]
        }
      ]
    },
    {
      "cell_type": "markdown",
      "metadata": {
        "id": "R0toxyp3ao0T"
      },
      "source": [
        "The \"continue\" command tells the loop to end this iteration and skip to the next iteration:"
      ]
    },
    {
      "cell_type": "code",
      "metadata": {
        "colab": {
          "base_uri": "https://localhost:8080/"
        },
        "id": "Stg-CH6IOv7g",
        "outputId": "b8122600-0f57-4e0d-ff8a-fa3ca735cb61"
      },
      "source": [
        "stocks = ['AAPL','GOOG','IBM','FB','F','V', 'G', 'GE']\n",
        "for i in stocks:\n",
        "    if i == 'FB':\n",
        "        continue\n",
        "    print(i)"
      ],
      "execution_count": 75,
      "outputs": [
        {
          "output_type": "stream",
          "name": "stdout",
          "text": [
            "AAPL\n",
            "GOOG\n",
            "IBM\n",
            "F\n",
            "V\n",
            "G\n",
            "GE\n"
          ]
        }
      ]
    },
    {
      "cell_type": "code",
      "metadata": {
        "colab": {
          "base_uri": "https://localhost:8080/"
        },
        "id": "ELJQF4UEiECl",
        "outputId": "ec82a757-d27f-41cf-e02f-7381554fedb1"
      },
      "source": [
        "stocks = ['CA','MI','O','NE','TA','R', 'X']\n",
        "for i in stocks:\n",
        "    if i == 'NE':\n",
        "        continue\n",
        "    print(i)"
      ],
      "execution_count": 76,
      "outputs": [
        {
          "output_type": "stream",
          "name": "stdout",
          "text": [
            "CA\n",
            "MI\n",
            "O\n",
            "TA\n",
            "R\n",
            "X\n"
          ]
        }
      ]
    },
    {
      "cell_type": "markdown",
      "metadata": {
        "id": "4NusvdhBaxpZ"
      },
      "source": [
        "# List Comprehension\n",
        "List comprehension is a Pythonic way to create lists. Common applications are to make new lists where each element is the result of some operations applied to each member of another sequence. For example, if we want to create a list of squares using for loop:"
      ]
    },
    {
      "cell_type": "code",
      "metadata": {
        "colab": {
          "base_uri": "https://localhost:8080/"
        },
        "id": "bdxxeOABOv7h",
        "outputId": "2179d062-e147-4e13-aab8-a6f06e55c61a"
      },
      "source": [
        "squares = []\n",
        "for i in [1,2,3,4,5]:\n",
        "    squares.append(i**2)\n",
        "print(squares)"
      ],
      "execution_count": 77,
      "outputs": [
        {
          "output_type": "stream",
          "name": "stdout",
          "text": [
            "[1, 4, 9, 16, 25]\n"
          ]
        }
      ]
    },
    {
      "cell_type": "code",
      "metadata": {
        "colab": {
          "base_uri": "https://localhost:8080/"
        },
        "id": "JlJcL0z6jDAJ",
        "outputId": "41adbee4-b1b2-4c2b-91be-1f680bc39c6e"
      },
      "source": [
        "squares = []\n",
        "for i in [4,2,4,2,4]:\n",
        "    squares.append(i**3)\n",
        "print(squares)"
      ],
      "execution_count": 78,
      "outputs": [
        {
          "output_type": "stream",
          "name": "stdout",
          "text": [
            "[64, 8, 64, 8, 64]\n"
          ]
        }
      ]
    },
    {
      "cell_type": "markdown",
      "metadata": {
        "id": "--KliJBOa1CC"
      },
      "source": [
        "Using list comprehension:"
      ]
    },
    {
      "cell_type": "code",
      "metadata": {
        "colab": {
          "base_uri": "https://localhost:8080/"
        },
        "id": "440-yjG8Ov7h",
        "outputId": "836a994a-6ec9-4b01-cb35-561428de925a"
      },
      "source": [
        "list = [1,2,3,4,5]\n",
        "squares = [x**2 for x in list]\n",
        "print(squares)"
      ],
      "execution_count": 79,
      "outputs": [
        {
          "output_type": "stream",
          "name": "stdout",
          "text": [
            "[1, 4, 9, 16, 25]\n"
          ]
        }
      ]
    },
    {
      "cell_type": "code",
      "metadata": {
        "colab": {
          "base_uri": "https://localhost:8080/"
        },
        "id": "wkQeH-ADjcV9",
        "outputId": "e4a64d00-96cd-46c8-8479-1f97933e92e3"
      },
      "source": [
        "list = [4,2,4,2,4]\n",
        "squares = [x**2 for x in list]\n",
        "print(squares)\n"
      ],
      "execution_count": 100,
      "outputs": [
        {
          "output_type": "stream",
          "name": "stdout",
          "text": [
            "[16, 4, 16, 4, 16]\n"
          ]
        }
      ]
    },
    {
      "cell_type": "code",
      "metadata": {
        "id": "IP_hN_t2pZVb"
      },
      "source": [
        "list = [1,2,3,4,5]"
      ],
      "execution_count": 101,
      "outputs": []
    },
    {
      "cell_type": "markdown",
      "metadata": {
        "id": "uMuCfR3ya3zT"
      },
      "source": [
        "Recall the example above where we used a for loop to select stocks. Here we use list comprehension:"
      ]
    },
    {
      "cell_type": "code",
      "metadata": {
        "colab": {
          "base_uri": "https://localhost:8080/"
        },
        "id": "ZGtCtog2Ov7h",
        "outputId": "48d89faf-b665-4de8-9fb8-118b31e22e59"
      },
      "source": [
        "stocks = ['AAPL','GOOG','IBM','FB','F','V', 'G', 'GE']\n",
        "selected = ['AAPL','IBM']\n",
        "new_list = [x for x in stocks if x in selected]\n",
        "print(new_list)"
      ],
      "execution_count": 81,
      "outputs": [
        {
          "output_type": "stream",
          "name": "stdout",
          "text": [
            "['AAPL', 'IBM']\n"
          ]
        }
      ]
    },
    {
      "cell_type": "code",
      "metadata": {
        "colab": {
          "base_uri": "https://localhost:8080/"
        },
        "id": "rzgGZ82fju4t",
        "outputId": "a0cf4311-4fad-454a-8600-48638f48c89b"
      },
      "source": [
        "stocks = ['CA','MI','O','NE','TA','R', 'X']\n",
        "selected = ['NE','TA','R']\n",
        "new_list = [x for x in stocks if x in selected]\n",
        "print(new_list)"
      ],
      "execution_count": 82,
      "outputs": [
        {
          "output_type": "stream",
          "name": "stdout",
          "text": [
            "['NE', 'TA', 'R']\n"
          ]
        }
      ]
    },
    {
      "cell_type": "markdown",
      "metadata": {
        "id": "EPeUv6Lia5oD"
      },
      "source": [
        "A list comprehension consists of square brackets containing an expression followed by a \"for\" clause, and possibly \"for\" or \"if\" clauses. For example:"
      ]
    },
    {
      "cell_type": "code",
      "metadata": {
        "colab": {
          "base_uri": "https://localhost:8080/"
        },
        "id": "O1AMB5d7Ov7i",
        "outputId": "c8226287-dc56-4c14-8285-b4e0a8779b56"
      },
      "source": [
        "print([(x, y) for x in [1,2,3] for y in [3,1,4] if x != y])\n",
        "print([str(x)+' vs '+str(y) for x in ['AAPL','GOOG','IBM','FB'] for y in ['F','V','G','GE'] if x!=y])"
      ],
      "execution_count": 83,
      "outputs": [
        {
          "output_type": "stream",
          "name": "stdout",
          "text": [
            "[(1, 3), (1, 4), (2, 3), (2, 1), (2, 4), (3, 1), (3, 4)]\n",
            "['AAPL vs F', 'AAPL vs V', 'AAPL vs G', 'AAPL vs GE', 'GOOG vs F', 'GOOG vs V', 'GOOG vs G', 'GOOG vs GE', 'IBM vs F', 'IBM vs V', 'IBM vs G', 'IBM vs GE', 'FB vs F', 'FB vs V', 'FB vs G', 'FB vs GE']\n"
          ]
        }
      ]
    },
    {
      "cell_type": "code",
      "metadata": {
        "colab": {
          "base_uri": "https://localhost:8080/"
        },
        "id": "YaJS9SM0kd6u",
        "outputId": "2f932f58-91ec-4f31-a0c5-e7ac684235b1"
      },
      "source": [
        "print([(x, y) for x in [4,7,1,5] for y in [5,8,2,1] if x != y])\n",
        "print([str(x)+' vs '+str(y) for x in ['CA','MI','O','NE'] for y in ['TA','R', 'X'] if x!=y])"
      ],
      "execution_count": 85,
      "outputs": [
        {
          "output_type": "stream",
          "name": "stdout",
          "text": [
            "[(4, 5), (4, 8), (4, 2), (4, 1), (7, 5), (7, 8), (7, 2), (7, 1), (1, 5), (1, 8), (1, 2), (5, 8), (5, 2), (5, 1)]\n",
            "['CA vs TA', 'CA vs R', 'CA vs X', 'MI vs TA', 'MI vs R', 'MI vs X', 'O vs TA', 'O vs R', 'O vs X', 'NE vs TA', 'NE vs R', 'NE vs X']\n"
          ]
        }
      ]
    },
    {
      "cell_type": "markdown",
      "metadata": {
        "id": "jJpvq-o4a8P7"
      },
      "source": [
        "List comprehension is an elegant way to organize one or more for loops when creating a list.\n",
        "\n",
        "# Summary\n",
        "This chapter has introduced logical operations, loops, and list comprehension. In the next chapter, we will introduce functions and object-oriented programming, which will enable us to make our codes clean and versatile."
      ]
    },
    {
      "cell_type": "markdown",
      "metadata": {
        "id": "Tef_X2wJbdhn"
      },
      "source": [
        "<div align=\"center\">\n",
        "<img style=\"display: block; margin: auto;\" alt=\"photo\" src=\"https://cdn.quantconnect.com/web/i/icon.png\">\n",
        "\n",
        "Quantconnect\n",
        "\n",
        "Introduction to Financial Python\n",
        "</div>\n",
        "\n",
        "# 03 Functions and Objective-Oriented Programming\n",
        "\n",
        "# Introduction\n",
        "\n",
        "In the last tutorial we introduced logical operations, loops and list comprehension. We will introduce functions and object-oriented programming in this chapter, which will enable us to build complex algorithms in more flexible ways.\n",
        "\n",
        "# Functions\n",
        "A function is a reusable block of code. We can use a function to output a value, or do anything else we want. We can easily define our own function by using the keyword \"def\"."
      ]
    },
    {
      "cell_type": "code",
      "metadata": {
        "colab": {
          "base_uri": "https://localhost:8080/"
        },
        "id": "eE_NkTiSO2PO",
        "outputId": "304a5862-a406-43b7-8c5d-2ead597d983a"
      },
      "source": [
        "def product(x,y):\n",
        "    return x*y\n",
        "print(product(2,3))\n",
        "print(product(5,10))"
      ],
      "execution_count": 86,
      "outputs": [
        {
          "output_type": "stream",
          "name": "stdout",
          "text": [
            "6\n",
            "50\n"
          ]
        }
      ]
    },
    {
      "cell_type": "code",
      "metadata": {
        "colab": {
          "base_uri": "https://localhost:8080/"
        },
        "id": "BDT76vWslYaw",
        "outputId": "0bd39c2c-d0ec-4795-b47e-c9cb7d1d1670"
      },
      "source": [
        "def product(i,j):\n",
        "    return i*j\n",
        "print(product(5,3))\n",
        "print(product(7,2))"
      ],
      "execution_count": 87,
      "outputs": [
        {
          "output_type": "stream",
          "name": "stdout",
          "text": [
            "15\n",
            "14\n"
          ]
        }
      ]
    },
    {
      "cell_type": "markdown",
      "metadata": {
        "id": "4oRU_dVJbsdD"
      },
      "source": [
        "The keyword \"def\" is followed by the function name and the parenthesized list of formal parameters. The statements that form the body of the function start at the next line, and must be indented. The product() function above has \"x\" and \"y\" as its parameters. A function doesn't necessarily have parameters:"
      ]
    },
    {
      "cell_type": "code",
      "metadata": {
        "colab": {
          "base_uri": "https://localhost:8080/"
        },
        "id": "JhdWVLbUO2PQ",
        "outputId": "a8c639b4-60eb-4831-b8d6-6b4af9e6d635"
      },
      "source": [
        "def say_hi():\n",
        "    print('Welcome to QuantConnect')\n",
        "say_hi()"
      ],
      "execution_count": 88,
      "outputs": [
        {
          "output_type": "stream",
          "name": "stdout",
          "text": [
            "Welcome to QuantConnect\n"
          ]
        }
      ]
    },
    {
      "cell_type": "code",
      "metadata": {
        "colab": {
          "base_uri": "https://localhost:8080/"
        },
        "id": "gQcW5aGbl3TT",
        "outputId": "56f38bb3-13b3-4570-faaf-3c2e42c3b863"
      },
      "source": [
        "def entrega():\n",
        "  print('Se realizo la entrega del trabajo con exito')\n",
        "entrega()"
      ],
      "execution_count": 89,
      "outputs": [
        {
          "output_type": "stream",
          "name": "stdout",
          "text": [
            "Se realizo la entrega del trabajo con exito\n"
          ]
        }
      ]
    },
    {
      "cell_type": "markdown",
      "metadata": {
        "id": "lHwqVpWVb1Jr"
      },
      "source": [
        "# Built-in Function\n",
        "**range()** is a function that creates a list containing an arithmetic sequence. It's often used in for loops. The arguments must be integers. If the \"step\" argument is omitted, it defaults to 1."
      ]
    },
    {
      "cell_type": "code",
      "metadata": {
        "colab": {
          "base_uri": "https://localhost:8080/"
        },
        "id": "VVOTELcIO2PQ",
        "outputId": "486e1b1e-42a6-45f8-f2da-07d387910f27"
      },
      "source": [
        "print(range(10))\n",
        "print(range(1,11))\n",
        "print(range(1,11,2))"
      ],
      "execution_count": 90,
      "outputs": [
        {
          "output_type": "stream",
          "name": "stdout",
          "text": [
            "range(0, 10)\n",
            "range(1, 11)\n",
            "range(1, 11, 2)\n"
          ]
        }
      ]
    },
    {
      "cell_type": "code",
      "metadata": {
        "colab": {
          "base_uri": "https://localhost:8080/"
        },
        "id": "2D3u1DJXm3OI",
        "outputId": "4a6a05ad-f675-4da7-e2b3-e984ce481e2c"
      },
      "source": [
        "print(range(5))\n",
        "print(range(1,12))\n",
        "print(range(1,12,3))"
      ],
      "execution_count": 91,
      "outputs": [
        {
          "output_type": "stream",
          "name": "stdout",
          "text": [
            "range(0, 5)\n",
            "range(1, 12)\n",
            "range(1, 12, 3)\n"
          ]
        }
      ]
    },
    {
      "cell_type": "markdown",
      "metadata": {
        "id": "PD0cSgiwcQ4L"
      },
      "source": [
        "**len()** is another function used together with range() to create a for loop. This function returns the length of an object. The argument must be a sequence or a collection."
      ]
    },
    {
      "cell_type": "code",
      "metadata": {
        "colab": {
          "base_uri": "https://localhost:8080/"
        },
        "id": "Hg18c7v-O2PR",
        "outputId": "d036ffc2-e8c1-4282-b597-5828b2b7f327"
      },
      "source": [
        "tickers = ['AAPL','GOOG','IBM','FB','F','V', 'G', 'GE']\n",
        "print('The length of tickers is {}'.format(len(tickers)))\n",
        "for i in range(len(tickers)):\n",
        "    print(tickers[i])"
      ],
      "execution_count": 92,
      "outputs": [
        {
          "output_type": "stream",
          "name": "stdout",
          "text": [
            "The length of tickers is 8\n",
            "AAPL\n",
            "GOOG\n",
            "IBM\n",
            "FB\n",
            "F\n",
            "V\n",
            "G\n",
            "GE\n"
          ]
        }
      ]
    },
    {
      "cell_type": "code",
      "metadata": {
        "colab": {
          "base_uri": "https://localhost:8080/"
        },
        "id": "wiTRxjEGnMNe",
        "outputId": "40da023d-8d27-43a1-dc14-c5c793754848"
      },
      "source": [
        "tickers = ['CA','MI','O','NE','TA','R', 'X']\n",
        "print('The length of tickers is {}'.format(len(tickers)))\n",
        "for i in range(len(tickers)):\n",
        "    print(tickers[i])"
      ],
      "execution_count": 94,
      "outputs": [
        {
          "output_type": "stream",
          "name": "stdout",
          "text": [
            "The length of tickers is 7\n",
            "CA\n",
            "MI\n",
            "O\n",
            "NE\n",
            "TA\n",
            "R\n",
            "X\n"
          ]
        }
      ]
    },
    {
      "cell_type": "markdown",
      "metadata": {
        "id": "OIQSuub1cWgi"
      },
      "source": [
        "Note: If you want to print only the tickers without those numbers, then simply write \"for ticker in tickers: print ticker\"\n",
        "\n",
        "**map(**) is a function that applies a specific function to every item of a sequence or collection, and returns a list of the results."
      ]
    },
    {
      "cell_type": "markdown",
      "metadata": {
        "id": "pqPuspeG5HAi"
      },
      "source": [
        "Because list at the moment is [1,2,3,4,5] and overwriting list() from builtins we del list"
      ]
    },
    {
      "cell_type": "code",
      "metadata": {
        "colab": {
          "base_uri": "https://localhost:8080/"
        },
        "id": "caV9c-qk4_eZ",
        "outputId": "205a838b-6077-4726-ee0f-166a3c2580e5"
      },
      "source": [
        "print(list)\n",
        "del list\n",
        "list"
      ],
      "execution_count": 102,
      "outputs": [
        {
          "output_type": "stream",
          "name": "stdout",
          "text": [
            "[1, 2, 3, 4, 5]\n"
          ]
        },
        {
          "output_type": "execute_result",
          "data": {
            "text/plain": [
              "list"
            ]
          },
          "metadata": {},
          "execution_count": 102
        }
      ]
    },
    {
      "cell_type": "code",
      "metadata": {
        "colab": {
          "base_uri": "https://localhost:8080/"
        },
        "id": "lJBs5ECT4mSq",
        "outputId": "eba5557f-c6da-413b-82a6-8fa6ccbe0cfa"
      },
      "source": [
        "tickers = ['AAPL','GOOG','IBM','FB','F','V', 'G', 'GE']\n",
        "list(map(len,tickers))"
      ],
      "execution_count": 96,
      "outputs": [
        {
          "output_type": "execute_result",
          "data": {
            "text/plain": [
              "[4, 4, 3, 2, 1, 1, 1, 2]"
            ]
          },
          "metadata": {},
          "execution_count": 96
        }
      ]
    },
    {
      "cell_type": "code",
      "metadata": {
        "colab": {
          "base_uri": "https://localhost:8080/"
        },
        "id": "FR7qfzAkpmAd",
        "outputId": "15c9e75a-ac78-40ef-e1cc-ff9518a11ebc"
      },
      "source": [
        "tickers = ['CA','MIO','NE','TASS','RAPIDAS', 'X']\n",
        "list(map(len,tickers))"
      ],
      "execution_count": 103,
      "outputs": [
        {
          "output_type": "execute_result",
          "data": {
            "text/plain": [
              "[2, 3, 2, 4, 7, 1]"
            ]
          },
          "metadata": {},
          "execution_count": 103
        }
      ]
    },
    {
      "cell_type": "code",
      "metadata": {
        "colab": {
          "base_uri": "https://localhost:8080/"
        },
        "id": "78DyKVOyO2PR",
        "outputId": "c29881f6-64e4-44ce-d8e8-c745f1b9f3a3"
      },
      "source": [
        "tickers = ['AAPL','GOOG','IBM','FB','F','V', 'G', 'GE']\n",
        "print(list(map(len,tickers)))"
      ],
      "execution_count": 97,
      "outputs": [
        {
          "output_type": "stream",
          "name": "stdout",
          "text": [
            "[4, 4, 3, 2, 1, 1, 1, 2]\n"
          ]
        }
      ]
    },
    {
      "cell_type": "code",
      "metadata": {
        "colab": {
          "base_uri": "https://localhost:8080/"
        },
        "id": "AWAonEGap21D",
        "outputId": "4524f701-e55a-413d-d880-a75e4d95586b"
      },
      "source": [
        "tickers = ['CA','MIO','NE','TASS','RAPIDAS', 'X']\n",
        "print(list(map(len,tickers)))"
      ],
      "execution_count": 104,
      "outputs": [
        {
          "output_type": "stream",
          "name": "stdout",
          "text": [
            "[2, 3, 2, 4, 7, 1]\n"
          ]
        }
      ]
    },
    {
      "cell_type": "markdown",
      "metadata": {
        "id": "mvr06UM7ca7b"
      },
      "source": [
        "The **lambda operator** is a way to create small anonymous functions. These functions are just needed where they have been created. For example:"
      ]
    },
    {
      "cell_type": "code",
      "metadata": {
        "colab": {
          "base_uri": "https://localhost:8080/"
        },
        "id": "pAEHADYXO2PR",
        "outputId": "fed1e9eb-8006-41c2-8922-3ed9eecb3702"
      },
      "source": [
        "list(map(lambda x: x**2, range(10)))"
      ],
      "execution_count": 105,
      "outputs": [
        {
          "output_type": "execute_result",
          "data": {
            "text/plain": [
              "[0, 1, 4, 9, 16, 25, 36, 49, 64, 81]"
            ]
          },
          "metadata": {},
          "execution_count": 105
        }
      ]
    },
    {
      "cell_type": "code",
      "metadata": {
        "colab": {
          "base_uri": "https://localhost:8080/"
        },
        "id": "oydsYUvLqytB",
        "outputId": "b0ccabcf-ca52-4865-aaad-4173a090a240"
      },
      "source": [
        "list(map(lambda x: x**3, range(5)))"
      ],
      "execution_count": 106,
      "outputs": [
        {
          "output_type": "execute_result",
          "data": {
            "text/plain": [
              "[0, 1, 8, 27, 64]"
            ]
          },
          "metadata": {},
          "execution_count": 106
        }
      ]
    },
    {
      "cell_type": "markdown",
      "metadata": {
        "id": "Mgixpxomcj3T"
      },
      "source": [
        "map() can be applied to more than one list. The lists have to have the same length."
      ]
    },
    {
      "cell_type": "code",
      "metadata": {
        "colab": {
          "base_uri": "https://localhost:8080/"
        },
        "id": "HtckhAaJO2PS",
        "outputId": "2d9dec9e-c0f1-42ce-e36d-baa736526d85"
      },
      "source": [
        "list(map(lambda x, y: x+y, [1,2,3,4,5],[5,4,3,2,1]))"
      ],
      "execution_count": 107,
      "outputs": [
        {
          "output_type": "execute_result",
          "data": {
            "text/plain": [
              "[6, 6, 6, 6, 6]"
            ]
          },
          "metadata": {},
          "execution_count": 107
        }
      ]
    },
    {
      "cell_type": "code",
      "metadata": {
        "colab": {
          "base_uri": "https://localhost:8080/"
        },
        "id": "CRxU_kRerIym",
        "outputId": "78ae5ecd-d6ce-4723-e3d3-f61063a517e4"
      },
      "source": [
        "list(map(lambda x, y: x+y, [4,2,4,2,4],[1,3,1,3,2]))"
      ],
      "execution_count": 109,
      "outputs": [
        {
          "output_type": "execute_result",
          "data": {
            "text/plain": [
              "[5, 5, 5, 5, 6]"
            ]
          },
          "metadata": {},
          "execution_count": 109
        }
      ]
    },
    {
      "cell_type": "markdown",
      "metadata": {
        "id": "ZDnMTH-KcklT"
      },
      "source": [
        "**sorted()** takes a list or set and returns a new sorted list"
      ]
    },
    {
      "cell_type": "code",
      "metadata": {
        "colab": {
          "base_uri": "https://localhost:8080/"
        },
        "id": "P0sHUMFWO2PS",
        "outputId": "8bf4a1f9-ffb5-43cc-901b-8ef919b369b0"
      },
      "source": [
        "sorted([5,2,3,4,1])"
      ],
      "execution_count": 110,
      "outputs": [
        {
          "output_type": "execute_result",
          "data": {
            "text/plain": [
              "[1, 2, 3, 4, 5]"
            ]
          },
          "metadata": {},
          "execution_count": 110
        }
      ]
    },
    {
      "cell_type": "code",
      "metadata": {
        "colab": {
          "base_uri": "https://localhost:8080/"
        },
        "id": "aQ6gNaDdra2m",
        "outputId": "8fae609e-7674-41f5-95d1-5578f49d4f7a"
      },
      "source": [
        "sorted([20,17,18,12,2])"
      ],
      "execution_count": 112,
      "outputs": [
        {
          "output_type": "execute_result",
          "data": {
            "text/plain": [
              "[2, 12, 17, 18, 20]"
            ]
          },
          "metadata": {},
          "execution_count": 112
        }
      ]
    },
    {
      "cell_type": "markdown",
      "metadata": {
        "id": "-N5_EDOFcnsc"
      },
      "source": [
        "We can add a \"key\" parameter to specify a function to be called on each list element prior to making comparisons. For example:"
      ]
    },
    {
      "cell_type": "code",
      "metadata": {
        "colab": {
          "base_uri": "https://localhost:8080/"
        },
        "id": "0i3peZ0bO2PS",
        "outputId": "bd82e3fc-478b-4a9a-abec-ad7f12e819cd"
      },
      "source": [
        "price_list = [('AAPL',144.09),('GOOG',911.71),('MSFT',69),('FB',150),('WMT',75.32)]\n",
        "sorted(price_list, key = lambda x: x[1])"
      ],
      "execution_count": 115,
      "outputs": [
        {
          "output_type": "execute_result",
          "data": {
            "text/plain": [
              "[('MSFT', 69), ('WMT', 75.32), ('AAPL', 144.09), ('FB', 150), ('GOOG', 911.71)]"
            ]
          },
          "metadata": {},
          "execution_count": 115
        }
      ]
    },
    {
      "cell_type": "code",
      "metadata": {
        "colab": {
          "base_uri": "https://localhost:8080/"
        },
        "id": "GCY3k-cQsX6K",
        "outputId": "fa50aab1-99c2-49fa-82c7-4d5779039883"
      },
      "source": [
        "price_list = [('O',100.09),('MI',85.71),('CA',25),('TA',150),('NE',135.32)]\n",
        "sorted(price_list, key = lambda x: x[1])"
      ],
      "execution_count": 116,
      "outputs": [
        {
          "output_type": "execute_result",
          "data": {
            "text/plain": [
              "[('CA', 25), ('MI', 85.71), ('O', 100.09), ('NE', 135.32), ('TA', 150)]"
            ]
          },
          "metadata": {},
          "execution_count": 116
        }
      ]
    },
    {
      "cell_type": "markdown",
      "metadata": {
        "id": "yun2zptKcxe_"
      },
      "source": [
        "By default the values are sorted by ascending order. We can change it to descending by adding an optional parameter \"reverse'."
      ]
    },
    {
      "cell_type": "code",
      "metadata": {
        "colab": {
          "base_uri": "https://localhost:8080/"
        },
        "id": "dEZqdl94O2PT",
        "outputId": "6e616766-f048-4e86-cacc-5d55f38e684d"
      },
      "source": [
        "price_list = [('AAPL',144.09),('GOOG',911.71),('MSFT',69),('FB',150),('WMT',75.32)]\n",
        "sorted(price_list, key = lambda x: x[1],reverse = True)"
      ],
      "execution_count": 117,
      "outputs": [
        {
          "output_type": "execute_result",
          "data": {
            "text/plain": [
              "[('GOOG', 911.71), ('FB', 150), ('AAPL', 144.09), ('WMT', 75.32), ('MSFT', 69)]"
            ]
          },
          "metadata": {},
          "execution_count": 117
        }
      ]
    },
    {
      "cell_type": "code",
      "metadata": {
        "colab": {
          "base_uri": "https://localhost:8080/"
        },
        "id": "DcZiFqc7twpU",
        "outputId": "7298ef28-89b4-45eb-8795-9852cb642fb0"
      },
      "source": [
        "price_list = [('O',100.09),('MI',85.71),('CA',25),('TA',150),('NE',135.32)]\n",
        "sorted(price_list, key = lambda x: x[1],reverse = True )"
      ],
      "execution_count": 119,
      "outputs": [
        {
          "output_type": "execute_result",
          "data": {
            "text/plain": [
              "[('TA', 150), ('NE', 135.32), ('O', 100.09), ('MI', 85.71), ('CA', 25)]"
            ]
          },
          "metadata": {},
          "execution_count": 119
        }
      ]
    },
    {
      "cell_type": "markdown",
      "metadata": {
        "id": "OA2wYAa0c6Dn"
      },
      "source": [
        "Lists also have a function list.sort(). This function takes the same \"key\" and \"reverse\" arguments as sorted(), but it doesn't return a new list."
      ]
    },
    {
      "cell_type": "code",
      "metadata": {
        "colab": {
          "base_uri": "https://localhost:8080/"
        },
        "id": "pG9VQCLnO2PT",
        "outputId": "4bcb1d32-be38-472c-b266-ccbe9c266c99"
      },
      "source": [
        "price_list = [('AAPL',144.09),('GOOG',911.71),('MSFT',69),('FB',150),('WMT',75.32)]\n",
        "price_list.sort(key = lambda x: x[1])\n",
        "print(price_list)"
      ],
      "execution_count": 120,
      "outputs": [
        {
          "output_type": "stream",
          "name": "stdout",
          "text": [
            "[('MSFT', 69), ('WMT', 75.32), ('AAPL', 144.09), ('FB', 150), ('GOOG', 911.71)]\n"
          ]
        }
      ]
    },
    {
      "cell_type": "code",
      "metadata": {
        "colab": {
          "base_uri": "https://localhost:8080/"
        },
        "id": "NC8CBlMcuJZt",
        "outputId": "1246351a-074e-4580-fb3b-12d668faac4f"
      },
      "source": [
        "price_list = [('O',100.09),('MI',85.71),('CA',25),('TA',150),('NE',135.32)]\n",
        "sorted(price_list, key = lambda x: x[1])"
      ],
      "execution_count": 121,
      "outputs": [
        {
          "output_type": "execute_result",
          "data": {
            "text/plain": [
              "[('CA', 25), ('MI', 85.71), ('O', 100.09), ('NE', 135.32), ('TA', 150)]"
            ]
          },
          "metadata": {},
          "execution_count": 121
        }
      ]
    },
    {
      "cell_type": "markdown",
      "metadata": {
        "id": "mxljL1W1c_c5"
      },
      "source": [
        "# Object-Oriented Programming\n",
        "Python is an object-oriented programming language. It's important to understand the concept of \"objects\" because almost every kind of data from QuantConnect API is an object.\n",
        "\n",
        "## Class\n",
        "A class is a type of data, just like a string, float, or list. When we create an object of that data type, we call it an instance of a class.\n",
        "\n",
        "In Python, everything is an object - everything is an instance of some class. The data stored inside an object are called attributes, and the functions which are associated with the object are called methods.\n",
        "\n",
        "For example, as mentioned above, a list is an object of the \"list\" class, and it has a method list.sort().\n",
        "\n",
        "We can create our own objects by defining a class. We would do this when it's helpful to group certain functions together. For example, we define a class named \"Stock\" here:"
      ]
    },
    {
      "cell_type": "code",
      "metadata": {
        "id": "zC4Y4PgDO2PT"
      },
      "source": [
        "class stock:\n",
        "    def __init__(self, ticker, open, close, volume):\n",
        "        self.ticker = ticker\n",
        "        self.open = open\n",
        "        self.close = close\n",
        "        self.volume = volume\n",
        "        self.rate_return = float(close)/open - 1\n",
        " \n",
        "    def update(self, open, close):\n",
        "        self.open = open\n",
        "        self.close = close\n",
        "        self.rate_return = float(self.close)/self.open - 1\n",
        " \n",
        "    def print_return(self):\n",
        "        print(self.rate_return)"
      ],
      "execution_count": 122,
      "outputs": []
    },
    {
      "cell_type": "markdown",
      "metadata": {
        "id": "rV06INT5dETi"
      },
      "source": [
        "The \"Stock\" class has attributes \"ticker\", \"open\", \"close\", \"volume\" and \"rate_return\". Inside the class body, the first method is called __init__, which is a special method. When we create a new instance of the class, the __init__ method is immediately executed with all the parameters that we pass to the \"Stock\" object. The purpose of this method is to set up a new \"Stock\" object using data we have provided.\n",
        "\n",
        "Here we create two Stock objects named \"apple\" and \"google\"."
      ]
    },
    {
      "cell_type": "code",
      "metadata": {
        "id": "8tIpNk93O2PU"
      },
      "source": [
        "apple = stock('AAPL', 143.69, 144.09, 20109375)\n",
        "google = stock('GOOG', 898.7, 911.7, 1561616)"
      ],
      "execution_count": 124,
      "outputs": []
    },
    {
      "cell_type": "code",
      "metadata": {
        "id": "y4EPhCnUwslH"
      },
      "source": [
        "apple = stock('AAPL', 85.3, 185.96, 8552)\n",
        "google = stock('GOOG', 452, 123.52, 2840)"
      ],
      "execution_count": 196,
      "outputs": []
    },
    {
      "cell_type": "markdown",
      "metadata": {
        "id": "VxmELNiHdPKS"
      },
      "source": [
        "Stock objects also have two other methods: update() and print_return(). We can access the attribues of a Stock object and call its methods:"
      ]
    },
    {
      "cell_type": "markdown",
      "metadata": {
        "id": "BJSTAw0gGXzc"
      },
      "source": [
        "**Se aplico la la siguiente instruccion con los datos que se dieron de ejemplo.**"
      ]
    },
    {
      "cell_type": "code",
      "metadata": {
        "colab": {
          "base_uri": "https://localhost:8080/"
        },
        "id": "SsiIkmekO2PU",
        "outputId": "8756bff9-9f8a-4655-d004-f07eb3843299"
      },
      "source": [
        "apple.ticker\n",
        "google.print_return()\n",
        "google.update(912.8,913.4)\n",
        "google.print_return()"
      ],
      "execution_count": 197,
      "outputs": [
        {
          "output_type": "stream",
          "name": "stdout",
          "text": [
            "-0.7267256637168142\n",
            "0.0006573181419806673\n"
          ]
        }
      ]
    },
    {
      "cell_type": "markdown",
      "metadata": {
        "id": "Q8fl7keNdVKF"
      },
      "source": [
        "By calling the update() function, we updated the open and close prices of a stock. Please note that when we use the attributes or call the methods **inside a class**, we need to specify them as self.attribute or self.method(), otherwise Python will deem them as global variables and thus raise an error.\n",
        "\n",
        "We can add an attribute to an object anywhere:"
      ]
    },
    {
      "cell_type": "code",
      "metadata": {
        "colab": {
          "base_uri": "https://localhost:8080/",
          "height": 35
        },
        "id": "rO4OLnqOO2PU",
        "outputId": "d10407f2-fce9-4896-a2ea-21d794faeb7c"
      },
      "source": [
        "apple.ceo = 'Tim Cook'\n",
        "apple.ceo"
      ],
      "execution_count": 128,
      "outputs": [
        {
          "output_type": "execute_result",
          "data": {
            "application/vnd.google.colaboratory.intrinsic+json": {
              "type": "string"
            },
            "text/plain": [
              "'Tim Cook'"
            ]
          },
          "metadata": {},
          "execution_count": 128
        }
      ]
    },
    {
      "cell_type": "code",
      "metadata": {
        "colab": {
          "base_uri": "https://localhost:8080/",
          "height": 35
        },
        "id": "fQc9sfGzxgQa",
        "outputId": "3733b615-0af9-4eb9-a876-48bed8cbd644"
      },
      "source": [
        "apple.ceo = 'Alejandro Trabaja'\n",
        "apple.ceo"
      ],
      "execution_count": 130,
      "outputs": [
        {
          "output_type": "execute_result",
          "data": {
            "application/vnd.google.colaboratory.intrinsic+json": {
              "type": "string"
            },
            "text/plain": [
              "'Alejandro Trabaja'"
            ]
          },
          "metadata": {},
          "execution_count": 130
        }
      ]
    },
    {
      "cell_type": "markdown",
      "metadata": {
        "id": "WyfnFgVidh4J"
      },
      "source": [
        "We can check what names (i.e. attributes and methods) are defined on an object using the dir() function:"
      ]
    },
    {
      "cell_type": "code",
      "metadata": {
        "colab": {
          "base_uri": "https://localhost:8080/"
        },
        "id": "pPoz0LA8O2PU",
        "outputId": "6e81c275-cd06-4305-8dc8-01dba787604b"
      },
      "source": [
        "dir(apple)"
      ],
      "execution_count": 129,
      "outputs": [
        {
          "output_type": "execute_result",
          "data": {
            "text/plain": [
              "['__class__',\n",
              " '__delattr__',\n",
              " '__dict__',\n",
              " '__dir__',\n",
              " '__doc__',\n",
              " '__eq__',\n",
              " '__format__',\n",
              " '__ge__',\n",
              " '__getattribute__',\n",
              " '__gt__',\n",
              " '__hash__',\n",
              " '__init__',\n",
              " '__init_subclass__',\n",
              " '__le__',\n",
              " '__lt__',\n",
              " '__module__',\n",
              " '__ne__',\n",
              " '__new__',\n",
              " '__reduce__',\n",
              " '__reduce_ex__',\n",
              " '__repr__',\n",
              " '__setattr__',\n",
              " '__sizeof__',\n",
              " '__str__',\n",
              " '__subclasshook__',\n",
              " '__weakref__',\n",
              " 'ceo',\n",
              " 'close',\n",
              " 'open',\n",
              " 'print_return',\n",
              " 'rate_return',\n",
              " 'ticker',\n",
              " 'update',\n",
              " 'volume']"
            ]
          },
          "metadata": {},
          "execution_count": 129
        }
      ]
    },
    {
      "cell_type": "code",
      "metadata": {
        "colab": {
          "base_uri": "https://localhost:8080/"
        },
        "id": "7oNzDgwwxmAI",
        "outputId": "954b2bfb-0115-4e78-edf8-d2f7ebdad84d"
      },
      "source": [
        "dir(google)"
      ],
      "execution_count": 131,
      "outputs": [
        {
          "output_type": "execute_result",
          "data": {
            "text/plain": [
              "['__class__',\n",
              " '__delattr__',\n",
              " '__dict__',\n",
              " '__dir__',\n",
              " '__doc__',\n",
              " '__eq__',\n",
              " '__format__',\n",
              " '__ge__',\n",
              " '__getattribute__',\n",
              " '__gt__',\n",
              " '__hash__',\n",
              " '__init__',\n",
              " '__init_subclass__',\n",
              " '__le__',\n",
              " '__lt__',\n",
              " '__module__',\n",
              " '__ne__',\n",
              " '__new__',\n",
              " '__reduce__',\n",
              " '__reduce_ex__',\n",
              " '__repr__',\n",
              " '__setattr__',\n",
              " '__sizeof__',\n",
              " '__str__',\n",
              " '__subclasshook__',\n",
              " '__weakref__',\n",
              " 'close',\n",
              " 'open',\n",
              " 'print_return',\n",
              " 'rate_return',\n",
              " 'ticker',\n",
              " 'update',\n",
              " 'volume']"
            ]
          },
          "metadata": {},
          "execution_count": 131
        }
      ]
    },
    {
      "cell_type": "markdown",
      "metadata": {
        "id": "Qpemj1UZd2aa"
      },
      "source": [
        "## Inheritance\n",
        "Inheritance is a way of arranging classes in a hierarchy from the most general to the most specific. A \"child\" class is a more specific type of a \"parent\" class because a child class will inherit all the attribues and methods of its parent. For example, we define a class named \"Child\" which inherits \"Stock\":"
      ]
    },
    {
      "cell_type": "code",
      "metadata": {
        "id": "UELXnxomO2PV"
      },
      "source": [
        "class child(stock):\n",
        "    def __init__(self,name):\n",
        "        self.name = name"
      ],
      "execution_count": 132,
      "outputs": []
    },
    {
      "cell_type": "markdown",
      "metadata": {
        "id": "S2EocKWQG3xH"
      },
      "source": [
        "**Se aplico la la siguiente instruccion con los datos que se dieron de ejemplo.**"
      ]
    },
    {
      "cell_type": "code",
      "metadata": {
        "colab": {
          "base_uri": "https://localhost:8080/"
        },
        "id": "ffS2THZyO2PV",
        "outputId": "f2ad1a14-15cb-4229-a495-b270a01cfa4b"
      },
      "source": [
        "\n",
        "print(aa.name)\n",
        "aa.update(1,35) \n",
        "print(aa.open)\n",
        "print(aa.close)\n",
        "print(aa.print_return())"
      ],
      "execution_count": 148,
      "outputs": [
        {
          "output_type": "stream",
          "name": "stdout",
          "text": [
            "aa\n",
            "1\n",
            "35\n",
            "34.0\n",
            "None\n"
          ]
        }
      ]
    },
    {
      "cell_type": "markdown",
      "metadata": {
        "id": "dQbENH6mexTd"
      },
      "source": [
        "<div align=\"center\">\n",
        "<img style=\"display: block; margin: auto;\" alt=\"photo\" src=\"https://cdn.quantconnect.com/web/i/icon.png\">\n",
        "\n",
        "Quantconnect\n",
        "\n",
        "Introduction to Financial Python\n",
        "</div>\n",
        "\n",
        "# 04 NumPy and Basic Pandas\n",
        "\n",
        "# Introduction\n",
        "\n",
        "Now that we have introduced the fundamentals of Python, it's time to learn about NumPy and Pandas.\n",
        "\n",
        "# NumPy\n",
        "NumPy is the core library for scientific computing in Python. It provides a high-performance multidimensional array object, and tools for working with these arrays. It also has strong integration with Pandas, which is another powerful tool for manipulating financial data.\n",
        "\n",
        "Python packages like NumPy and Pandas contain classes and methods which we can use by importing the package:"
      ]
    },
    {
      "cell_type": "code",
      "metadata": {
        "id": "aIESp-rdO58h"
      },
      "source": [
        "import numpy as np"
      ],
      "execution_count": 153,
      "outputs": []
    },
    {
      "cell_type": "markdown",
      "metadata": {
        "id": "GScHHJ5ke7ea"
      },
      "source": [
        "## Basic NumPy Arrays\n",
        "A NumPy array is a grid of values, all of the same type, and is indexed by a tuple of nonnegative integers. Here we make an array by passing a list of Apple stock prices:"
      ]
    },
    {
      "cell_type": "code",
      "metadata": {
        "colab": {
          "base_uri": "https://localhost:8080/"
        },
        "id": "lZI1wkwDO58i",
        "outputId": "59b37953-240b-46dc-b748-aaaacab21c3b"
      },
      "source": [
        "price_list = [143.73, 145.83, 143.68, 144.02, 143.5, 142.62]\n",
        "price_array = np.array(price_list)\n",
        "print(price_array, type(price_array))"
      ],
      "execution_count": 198,
      "outputs": [
        {
          "output_type": "stream",
          "name": "stdout",
          "text": [
            "[143.73 145.83 143.68 144.02 143.5  142.62] <class 'numpy.ndarray'>\n"
          ]
        }
      ]
    },
    {
      "cell_type": "code",
      "metadata": {
        "colab": {
          "base_uri": "https://localhost:8080/"
        },
        "id": "qEl3abJjIQ9B",
        "outputId": "8d175fe0-b838-4ca7-d4b6-8600ce1d7e4d"
      },
      "source": [
        "precio_lista = [260.52, 263.12, 264.69, 265.22, 266.35, 267.12]\n",
        "precio_array = np.array(precio_lista)\n",
        "print(precio_array, type(precio_array))"
      ],
      "execution_count": 200,
      "outputs": [
        {
          "output_type": "stream",
          "name": "stdout",
          "text": [
            "[260.52 263.12 264.69 265.22 266.35 267.12] <class 'numpy.ndarray'>\n"
          ]
        }
      ]
    },
    {
      "cell_type": "markdown",
      "metadata": {
        "id": "-5Yj6u9ifB-t"
      },
      "source": [
        "Notice that the type of array is \"ndarray\" which is a multi-dimensional array. If we pass np.array() a list of lists, it will create a 2-dimensional array."
      ]
    },
    {
      "cell_type": "code",
      "metadata": {
        "colab": {
          "base_uri": "https://localhost:8080/"
        },
        "id": "obvIZrK-O58j",
        "outputId": "598fd881-ebcc-4dbe-a737-d303a31470f3"
      },
      "source": [
        "Ar = np.array([[1,3],[2,4]])\n",
        "print(Ar, type(Ar))"
      ],
      "execution_count": 201,
      "outputs": [
        {
          "output_type": "stream",
          "name": "stdout",
          "text": [
            "[[1 3]\n",
            " [2 4]] <class 'numpy.ndarray'>\n"
          ]
        }
      ]
    },
    {
      "cell_type": "code",
      "metadata": {
        "colab": {
          "base_uri": "https://localhost:8080/"
        },
        "id": "AEcwXxExJMs4",
        "outputId": "10d80b6b-fabf-4c3a-9987-a1f6d66eec66"
      },
      "source": [
        "Arr = np.array([[8,5],[5,1]])\n",
        "print(Arr, type(Arr))"
      ],
      "execution_count": 202,
      "outputs": [
        {
          "output_type": "stream",
          "name": "stdout",
          "text": [
            "[[8 5]\n",
            " [5 1]] <class 'numpy.ndarray'>\n"
          ]
        }
      ]
    },
    {
      "cell_type": "markdown",
      "metadata": {
        "id": "uDdfLD9HfHkl"
      },
      "source": [
        "We get the dimensions of an ndarray using the .shape attribute:"
      ]
    },
    {
      "cell_type": "code",
      "metadata": {
        "colab": {
          "base_uri": "https://localhost:8080/"
        },
        "id": "G2txdn73O58j",
        "outputId": "fb945ddf-e9d2-42df-d76d-ee4dec0bcdea"
      },
      "source": [
        "print(Ar.shape)"
      ],
      "execution_count": 203,
      "outputs": [
        {
          "output_type": "stream",
          "name": "stdout",
          "text": [
            "(2, 2)\n"
          ]
        }
      ]
    },
    {
      "cell_type": "code",
      "metadata": {
        "colab": {
          "base_uri": "https://localhost:8080/"
        },
        "id": "8R2A8EaVJWRf",
        "outputId": "0f141af7-af1d-4bf9-f779-2986d61aecc4"
      },
      "source": [
        "print(Arr.shape)"
      ],
      "execution_count": 204,
      "outputs": [
        {
          "output_type": "stream",
          "name": "stdout",
          "text": [
            "(2, 2)\n"
          ]
        }
      ]
    },
    {
      "cell_type": "markdown",
      "metadata": {
        "id": "87W5ueORfPEy"
      },
      "source": [
        "If we create an 2-dimensional array (i.e. matrix), each row can be accessed by index:"
      ]
    },
    {
      "cell_type": "code",
      "metadata": {
        "colab": {
          "base_uri": "https://localhost:8080/"
        },
        "id": "x_QV9aPbO58j",
        "outputId": "35a52611-cd53-469a-deb8-f89eea57a38f"
      },
      "source": [
        "print(Ar[0])\n",
        "print(Ar[1])"
      ],
      "execution_count": 205,
      "outputs": [
        {
          "output_type": "stream",
          "name": "stdout",
          "text": [
            "[1 3]\n",
            "[2 4]\n"
          ]
        }
      ]
    },
    {
      "cell_type": "code",
      "metadata": {
        "colab": {
          "base_uri": "https://localhost:8080/"
        },
        "id": "Ijkt4rajJfN6",
        "outputId": "7a8999a1-4ee3-4476-9e62-9f7212cf10b1"
      },
      "source": [
        "print(Arr[0])\n",
        "print(Arr[1])"
      ],
      "execution_count": 206,
      "outputs": [
        {
          "output_type": "stream",
          "name": "stdout",
          "text": [
            "[8 5]\n",
            "[5 1]\n"
          ]
        }
      ]
    },
    {
      "cell_type": "markdown",
      "metadata": {
        "id": "5Hke7Vt-fSGB"
      },
      "source": [
        "If we want to access the matrix by column instead:"
      ]
    },
    {
      "cell_type": "code",
      "metadata": {
        "colab": {
          "base_uri": "https://localhost:8080/"
        },
        "id": "gHVwbPfOO58j",
        "outputId": "e5a7ffaa-e859-424c-d1de-767f57edd5b6"
      },
      "source": [
        "print('the first column: ', Ar[:,0])\n",
        "print('the second column: ', Ar[:,1])"
      ],
      "execution_count": 207,
      "outputs": [
        {
          "output_type": "stream",
          "name": "stdout",
          "text": [
            "the first column:  [1 2]\n",
            "the second column:  [3 4]\n"
          ]
        }
      ]
    },
    {
      "cell_type": "code",
      "metadata": {
        "colab": {
          "base_uri": "https://localhost:8080/"
        },
        "id": "hP6J1zXmJlLm",
        "outputId": "bdfc192c-550d-4552-fe31-f900532b8a21"
      },
      "source": [
        "print('the first column: ', Arr[:,0])\n",
        "print('the second column: ', Arr[:,1])"
      ],
      "execution_count": 208,
      "outputs": [
        {
          "output_type": "stream",
          "name": "stdout",
          "text": [
            "the first column:  [8 5]\n",
            "the second column:  [5 1]\n"
          ]
        }
      ]
    },
    {
      "cell_type": "markdown",
      "metadata": {
        "id": "T61cD0HMfStB"
      },
      "source": [
        "## Array Functions\n",
        "Some functions built in NumPy that allow us to perform calculations on arrays. For example, we can apply the natural logarithm to each element of an array:"
      ]
    },
    {
      "cell_type": "code",
      "metadata": {
        "colab": {
          "base_uri": "https://localhost:8080/"
        },
        "id": "PKhwtJ7XO58k",
        "outputId": "73a86917-ca4d-43b7-ec92-221405cfb519"
      },
      "source": [
        "print(np.log(price_array))"
      ],
      "execution_count": 209,
      "outputs": [
        {
          "output_type": "stream",
          "name": "stdout",
          "text": [
            "[4.96793654 4.98244156 4.9675886  4.96995218 4.96633504 4.96018375]\n"
          ]
        }
      ]
    },
    {
      "cell_type": "code",
      "metadata": {
        "colab": {
          "base_uri": "https://localhost:8080/"
        },
        "id": "EbJAOiGIJsDE",
        "outputId": "1dfba424-bcb6-44a1-addf-dec1bb8856ba"
      },
      "source": [
        "print(np.log(precio_array))"
      ],
      "execution_count": 210,
      "outputs": [
        {
          "output_type": "stream",
          "name": "stdout",
          "text": [
            "[5.56267963 5.5726102  5.57855933 5.58055967 5.58481123 5.587698  ]\n"
          ]
        }
      ]
    },
    {
      "cell_type": "markdown",
      "metadata": {
        "id": "uzjBRFBLfZ-D"
      },
      "source": [
        "Other functions return a single value:"
      ]
    },
    {
      "cell_type": "code",
      "metadata": {
        "colab": {
          "base_uri": "https://localhost:8080/"
        },
        "id": "nQuABZqUO58k",
        "outputId": "98ce54bc-7907-47dc-dbc8-e75c3d329525"
      },
      "source": [
        "print(np.mean(price_array))\n",
        "print(np.std(price_array))\n",
        "print(np.sum(price_array))\n",
        "print(np.max(price_array))"
      ],
      "execution_count": 211,
      "outputs": [
        {
          "output_type": "stream",
          "name": "stdout",
          "text": [
            "143.89666666666668\n",
            "0.9673790478515796\n",
            "863.38\n",
            "145.83\n"
          ]
        }
      ]
    },
    {
      "cell_type": "code",
      "metadata": {
        "colab": {
          "base_uri": "https://localhost:8080/"
        },
        "id": "3F5AQHnkJxZv",
        "outputId": "3142dd2d-14c3-4f0e-e61a-08551979c048"
      },
      "source": [
        "print(np.mean(precio_array))\n",
        "print(np.std(precio_array))\n",
        "print(np.sum(precio_array))\n",
        "print(np.max(precio_array))"
      ],
      "execution_count": 212,
      "outputs": [
        {
          "output_type": "stream",
          "name": "stdout",
          "text": [
            "264.50333333333333\n",
            "2.182740377496967\n",
            "1587.02\n",
            "267.12\n"
          ]
        }
      ]
    },
    {
      "cell_type": "markdown",
      "metadata": {
        "id": "IRW95BsifgDB"
      },
      "source": [
        "The functions above return the mean, standard deviation, total and maximum value of an array.\n",
        "\n",
        "# Pandas\n",
        "Pandas is one of the most powerful tools for dealing with financial data. \n",
        "\n",
        "First we need to import Pandas:"
      ]
    },
    {
      "cell_type": "code",
      "metadata": {
        "id": "xIYH4oUfO58k"
      },
      "source": [
        "import pandas as pd"
      ],
      "execution_count": 213,
      "outputs": []
    },
    {
      "cell_type": "markdown",
      "metadata": {
        "id": "zOig5gORfnJU"
      },
      "source": [
        "## Series\n",
        "Series is a one-dimensional labeled array capable of holding any data type (integers, strings, float, Python object, etc.)\n",
        "\n",
        "We create a Series by calling pd.Series(data), where data can be a dictionary, an array or just a scalar value."
      ]
    },
    {
      "cell_type": "code",
      "metadata": {
        "colab": {
          "base_uri": "https://localhost:8080/"
        },
        "id": "JmzoNzrPO58k",
        "outputId": "eb4ed0d1-a609-4e70-ec80-accd3e55be34"
      },
      "source": [
        "price = [143.73, 145.83, 143.68, 144.02, 143.5, 142.62]\n",
        "s = pd.Series(price)\n",
        "s"
      ],
      "execution_count": 308,
      "outputs": [
        {
          "output_type": "execute_result",
          "data": {
            "text/plain": [
              "0    143.73\n",
              "1    145.83\n",
              "2    143.68\n",
              "3    144.02\n",
              "4    143.50\n",
              "5    142.62\n",
              "dtype: float64"
            ]
          },
          "metadata": {},
          "execution_count": 308
        }
      ]
    },
    {
      "cell_type": "code",
      "metadata": {
        "colab": {
          "base_uri": "https://localhost:8080/"
        },
        "id": "v9goIKCPKgKV",
        "outputId": "7dbff83c-07d1-47e1-8201-874b14605334"
      },
      "source": [
        "precio = [260.52, 263.12, 264.69, 265.22, 266.35, 267.12]\n",
        "ss = pd.Series(precio)\n",
        "ss"
      ],
      "execution_count": 309,
      "outputs": [
        {
          "output_type": "execute_result",
          "data": {
            "text/plain": [
              "0    260.52\n",
              "1    263.12\n",
              "2    264.69\n",
              "3    265.22\n",
              "4    266.35\n",
              "5    267.12\n",
              "dtype: float64"
            ]
          },
          "metadata": {},
          "execution_count": 309
        }
      ]
    },
    {
      "cell_type": "markdown",
      "metadata": {
        "id": "tP5iDnunfq46"
      },
      "source": [
        "We can customize the indices of a new Series:"
      ]
    },
    {
      "cell_type": "code",
      "metadata": {
        "colab": {
          "base_uri": "https://localhost:8080/"
        },
        "id": "eswQC3ZPO58l",
        "outputId": "eb21a534-0f27-498d-f3d2-746770ba179f"
      },
      "source": [
        "s = pd.Series(price,index = ['a','b','c','d','e','f'])\n",
        "s"
      ],
      "execution_count": 310,
      "outputs": [
        {
          "output_type": "execute_result",
          "data": {
            "text/plain": [
              "a    143.73\n",
              "b    145.83\n",
              "c    143.68\n",
              "d    144.02\n",
              "e    143.50\n",
              "f    142.62\n",
              "dtype: float64"
            ]
          },
          "metadata": {},
          "execution_count": 310
        }
      ]
    },
    {
      "cell_type": "code",
      "metadata": {
        "colab": {
          "base_uri": "https://localhost:8080/"
        },
        "id": "QIqVBj3-Lif3",
        "outputId": "2b1a72d8-70a0-4cb4-cb61-d2c0e1e15a24"
      },
      "source": [
        "ss = pd.Series(precio,index = ['a','b','c','d','e','f'])\n",
        "ss"
      ],
      "execution_count": 311,
      "outputs": [
        {
          "output_type": "execute_result",
          "data": {
            "text/plain": [
              "a    260.52\n",
              "b    263.12\n",
              "c    264.69\n",
              "d    265.22\n",
              "e    266.35\n",
              "f    267.12\n",
              "dtype: float64"
            ]
          },
          "metadata": {},
          "execution_count": 311
        }
      ]
    },
    {
      "cell_type": "markdown",
      "metadata": {
        "id": "wdZrb8pEfuua"
      },
      "source": [
        "Or we can change the indices of an existing Series:"
      ]
    },
    {
      "cell_type": "code",
      "metadata": {
        "colab": {
          "base_uri": "https://localhost:8080/"
        },
        "id": "MwlRnPF6O58l",
        "outputId": "c20a8705-b266-4e0a-e4ee-b7a7b754a549"
      },
      "source": [
        "s.index = [6,5,4,3,2,1]\n",
        "s"
      ],
      "execution_count": 312,
      "outputs": [
        {
          "output_type": "execute_result",
          "data": {
            "text/plain": [
              "6    143.73\n",
              "5    145.83\n",
              "4    143.68\n",
              "3    144.02\n",
              "2    143.50\n",
              "1    142.62\n",
              "dtype: float64"
            ]
          },
          "metadata": {},
          "execution_count": 312
        }
      ]
    },
    {
      "cell_type": "code",
      "metadata": {
        "colab": {
          "base_uri": "https://localhost:8080/"
        },
        "id": "gmrEWZ-tNLLG",
        "outputId": "754b849a-e0f0-4710-cd90-d3a72dca9341"
      },
      "source": [
        "ss.index = [6,5,4,3,2,1]\n",
        "ss"
      ],
      "execution_count": 313,
      "outputs": [
        {
          "output_type": "execute_result",
          "data": {
            "text/plain": [
              "6    260.52\n",
              "5    263.12\n",
              "4    264.69\n",
              "3    265.22\n",
              "2    266.35\n",
              "1    267.12\n",
              "dtype: float64"
            ]
          },
          "metadata": {},
          "execution_count": 313
        }
      ]
    },
    {
      "cell_type": "markdown",
      "metadata": {
        "id": "6cGNQZwLfxIz"
      },
      "source": [
        "Series is like a list since it can be sliced by index:"
      ]
    },
    {
      "cell_type": "code",
      "metadata": {
        "colab": {
          "base_uri": "https://localhost:8080/"
        },
        "id": "N9bBSg6cO58l",
        "outputId": "f80cbcf4-f8d6-46a3-b9dc-10070abcbf45"
      },
      "source": [
        "print(s[1:])\n",
        "print(s[:-2])"
      ],
      "execution_count": 314,
      "outputs": [
        {
          "output_type": "stream",
          "name": "stdout",
          "text": [
            "5    145.83\n",
            "4    143.68\n",
            "3    144.02\n",
            "2    143.50\n",
            "1    142.62\n",
            "dtype: float64\n",
            "6    143.73\n",
            "5    145.83\n",
            "4    143.68\n",
            "3    144.02\n",
            "dtype: float64\n"
          ]
        }
      ]
    },
    {
      "cell_type": "code",
      "metadata": {
        "colab": {
          "base_uri": "https://localhost:8080/"
        },
        "id": "5Nk5UE6SNl45",
        "outputId": "2dc5ea20-0403-48b1-83a9-a182de991eae"
      },
      "source": [
        "print(ss[1:])\n",
        "print(ss[:-2])"
      ],
      "execution_count": 315,
      "outputs": [
        {
          "output_type": "stream",
          "name": "stdout",
          "text": [
            "5    263.12\n",
            "4    264.69\n",
            "3    265.22\n",
            "2    266.35\n",
            "1    267.12\n",
            "dtype: float64\n",
            "6    260.52\n",
            "5    263.12\n",
            "4    264.69\n",
            "3    265.22\n",
            "dtype: float64\n"
          ]
        }
      ]
    },
    {
      "cell_type": "markdown",
      "metadata": {
        "id": "5V25nViZfz3Z"
      },
      "source": [
        "Series is also like a dictionary whose values can be set or fetched by index label:"
      ]
    },
    {
      "cell_type": "code",
      "metadata": {
        "colab": {
          "base_uri": "https://localhost:8080/"
        },
        "id": "b3Y0kKGYO58l",
        "outputId": "092c9100-c0bb-4739-e8c6-d67df60f81e5"
      },
      "source": [
        "print(s[4])\n",
        "s[4] = 0\n",
        "print(s)"
      ],
      "execution_count": 316,
      "outputs": [
        {
          "output_type": "stream",
          "name": "stdout",
          "text": [
            "143.68\n",
            "6    143.73\n",
            "5    145.83\n",
            "4      0.00\n",
            "3    144.02\n",
            "2    143.50\n",
            "1    142.62\n",
            "dtype: float64\n"
          ]
        }
      ]
    },
    {
      "cell_type": "code",
      "metadata": {
        "colab": {
          "base_uri": "https://localhost:8080/"
        },
        "id": "dZO0cClZNzTx",
        "outputId": "91c6ae17-6715-4ca0-f99f-47aa4a379c51"
      },
      "source": [
        "print(ss[4])\n",
        "ss[4] = 0\n",
        "print(ss)"
      ],
      "execution_count": 317,
      "outputs": [
        {
          "output_type": "stream",
          "name": "stdout",
          "text": [
            "264.69\n",
            "6    260.52\n",
            "5    263.12\n",
            "4      0.00\n",
            "3    265.22\n",
            "2    266.35\n",
            "1    267.12\n",
            "dtype: float64\n"
          ]
        }
      ]
    },
    {
      "cell_type": "markdown",
      "metadata": {
        "id": "RQ1P7Gkyf060"
      },
      "source": [
        "Series can also have a name attribute, which will be used when we make up a Pandas DataFrame using several series."
      ]
    },
    {
      "cell_type": "code",
      "metadata": {
        "colab": {
          "base_uri": "https://localhost:8080/"
        },
        "id": "ZeD4-p7KO58m",
        "outputId": "15dba7cc-0309-404b-ec03-356fbc2811f9"
      },
      "source": [
        "s = pd.Series(price, name = 'Precio Manzana List')\n",
        "print(s)\n",
        "print(s.name)"
      ],
      "execution_count": 327,
      "outputs": [
        {
          "output_type": "stream",
          "name": "stdout",
          "text": [
            "0    143.73\n",
            "1    145.83\n",
            "2    143.68\n",
            "3    144.02\n",
            "4    143.50\n",
            "5    142.62\n",
            "Name: Precio Manzana List, dtype: float64\n",
            "Precio Manzana List\n"
          ]
        }
      ]
    },
    {
      "cell_type": "code",
      "metadata": {
        "colab": {
          "base_uri": "https://localhost:8080/"
        },
        "id": "ZxrEutAsOMib",
        "outputId": "16102ab7-8fb5-4827-a20a-0bb9278e1abd"
      },
      "source": [
        "ss = pd.Series(precio, name = 'Precio Manzana List')\n",
        "print(ss)\n",
        "print(ss.name)"
      ],
      "execution_count": 325,
      "outputs": [
        {
          "output_type": "stream",
          "name": "stdout",
          "text": [
            "0    260.52\n",
            "1    263.12\n",
            "2    264.69\n",
            "3    265.22\n",
            "4    266.35\n",
            "5    267.12\n",
            "Name: Precio Manzana List, dtype: float64\n",
            "Precio Manzana List\n"
          ]
        }
      ]
    },
    {
      "cell_type": "markdown",
      "metadata": {
        "id": "geJb1pGHf5Et"
      },
      "source": [
        "We can get the statistical summaries of a Series:"
      ]
    },
    {
      "cell_type": "code",
      "metadata": {
        "colab": {
          "base_uri": "https://localhost:8080/"
        },
        "id": "mGPtFcjegm4i",
        "outputId": "610642e6-1580-453f-f3c9-b24c0c8560dd"
      },
      "source": [
        "print(s.describe())"
      ],
      "execution_count": 324,
      "outputs": [
        {
          "output_type": "stream",
          "name": "stdout",
          "text": [
            "count      6.000000\n",
            "mean     143.896667\n",
            "std        1.059711\n",
            "min      142.620000\n",
            "25%      143.545000\n",
            "50%      143.705000\n",
            "75%      143.947500\n",
            "max      145.830000\n",
            "Name: Precio Manzana List, dtype: float64\n"
          ]
        }
      ]
    },
    {
      "cell_type": "code",
      "metadata": {
        "colab": {
          "base_uri": "https://localhost:8080/"
        },
        "id": "Lx6lzPvPTN4B",
        "outputId": "9a5c160c-b8db-4658-d515-4ebc72b59a40"
      },
      "source": [
        "print(ss.describe())"
      ],
      "execution_count": 328,
      "outputs": [
        {
          "output_type": "stream",
          "name": "stdout",
          "text": [
            "count      6.000000\n",
            "mean     264.503333\n",
            "std        2.391072\n",
            "min      260.520000\n",
            "25%      263.512500\n",
            "50%      264.955000\n",
            "75%      266.067500\n",
            "max      267.120000\n",
            "Name: Precio Manzana List, dtype: float64\n"
          ]
        }
      ]
    },
    {
      "cell_type": "markdown",
      "metadata": {
        "id": "LkdZu-CDgvlR"
      },
      "source": [
        "## Time Index\n",
        "Pandas has a built-in function specifically for creating date indices: pd.date_range(). We use it to create a new index for our Series:"
      ]
    },
    {
      "cell_type": "code",
      "metadata": {
        "colab": {
          "base_uri": "https://localhost:8080/"
        },
        "id": "HJe5hU4zO58m",
        "outputId": "160514e3-e4d3-45ac-b395-6aa0dcaf24f9"
      },
      "source": [
        "time_index = pd.date_range('2017-01-01',periods = len(s),freq = 'D')\n",
        "print(time_index)\n",
        "s.index = time_index\n",
        "print(s)"
      ],
      "execution_count": 329,
      "outputs": [
        {
          "output_type": "stream",
          "name": "stdout",
          "text": [
            "DatetimeIndex(['2017-01-01', '2017-01-02', '2017-01-03', '2017-01-04',\n",
            "               '2017-01-05', '2017-01-06'],\n",
            "              dtype='datetime64[ns]', freq='D')\n",
            "2017-01-01    143.73\n",
            "2017-01-02    145.83\n",
            "2017-01-03    143.68\n",
            "2017-01-04    144.02\n",
            "2017-01-05    143.50\n",
            "2017-01-06    142.62\n",
            "Freq: D, Name: Precio Manzana List, dtype: float64\n"
          ]
        }
      ]
    },
    {
      "cell_type": "code",
      "metadata": {
        "colab": {
          "base_uri": "https://localhost:8080/"
        },
        "id": "HtL-PZHgTZYi",
        "outputId": "22976d9a-eb99-4b04-b964-28d0e9bb5733"
      },
      "source": [
        "time_index = pd.date_range('2017-01-01',periods = len(ss),freq = 'D')\n",
        "print(time_index)\n",
        "ss.index = time_index\n",
        "print(ss)"
      ],
      "execution_count": 337,
      "outputs": [
        {
          "output_type": "stream",
          "name": "stdout",
          "text": [
            "DatetimeIndex(['2017-01-01', '2017-01-02', '2017-01-03', '2017-01-04',\n",
            "               '2017-01-05', '2017-01-06'],\n",
            "              dtype='datetime64[ns]', freq='D')\n",
            "2017-01-01    260.52\n",
            "2017-01-02    263.12\n",
            "2017-01-03    264.69\n",
            "2017-01-04    265.22\n",
            "2017-01-05    266.35\n",
            "2017-01-06    267.12\n",
            "Freq: D, Name: Precio Manzana List, dtype: float64\n"
          ]
        }
      ]
    },
    {
      "cell_type": "markdown",
      "metadata": {
        "id": "7WedejFZg19J"
      },
      "source": [
        "Series are usually accessed using the iloc[] and loc[] methods. iloc[] is used to access elements by integer index, and loc[] is used to access the index of the series.\n",
        "\n",
        "iloc[] is necessary when the index of a series are integers, take our previous defined series as example:"
      ]
    },
    {
      "cell_type": "code",
      "metadata": {
        "colab": {
          "base_uri": "https://localhost:8080/"
        },
        "id": "KrVSOyMvO58m",
        "outputId": "8de48879-a5ea-460a-d365-847796893a6f"
      },
      "source": [
        "s.index = [6,5,4,3,2,1]\n",
        "print(s)\n",
        "print(s[1])"
      ],
      "execution_count": 331,
      "outputs": [
        {
          "output_type": "stream",
          "name": "stdout",
          "text": [
            "6    143.73\n",
            "5    145.83\n",
            "4    143.68\n",
            "3    144.02\n",
            "2    143.50\n",
            "1    142.62\n",
            "Name: Precio Manzana List, dtype: float64\n",
            "142.62\n"
          ]
        }
      ]
    },
    {
      "cell_type": "code",
      "metadata": {
        "colab": {
          "base_uri": "https://localhost:8080/"
        },
        "id": "hnHvbxvvTpdt",
        "outputId": "aaea0292-5c5a-4d61-d46e-b9bf27996b34"
      },
      "source": [
        "s.index = [6,5,4,3,2,1]\n",
        "print(ss)\n",
        "print(ss[1])"
      ],
      "execution_count": 332,
      "outputs": [
        {
          "output_type": "stream",
          "name": "stdout",
          "text": [
            "2021-01-01    260.52\n",
            "2021-01-02    263.12\n",
            "2021-01-03    264.69\n",
            "2021-01-04    265.22\n",
            "2021-01-05    266.35\n",
            "2021-01-06    267.12\n",
            "Freq: D, Name: Precio Manzana List, dtype: float64\n",
            "263.12\n"
          ]
        }
      ]
    },
    {
      "cell_type": "markdown",
      "metadata": {
        "id": "r30VKPtpg61p"
      },
      "source": [
        "If we intended to take the second element of the series, we would make a mistake here, because the index are integers. In order to access to the element we want, we use iloc[] here:"
      ]
    },
    {
      "cell_type": "code",
      "metadata": {
        "colab": {
          "base_uri": "https://localhost:8080/"
        },
        "id": "bHukfaAmO58m",
        "outputId": "fd351168-4f9e-48ca-d4a3-eed9fb0242c1"
      },
      "source": [
        "print(s.iloc[1])"
      ],
      "execution_count": 333,
      "outputs": [
        {
          "output_type": "stream",
          "name": "stdout",
          "text": [
            "145.83\n"
          ]
        }
      ]
    },
    {
      "cell_type": "code",
      "metadata": {
        "colab": {
          "base_uri": "https://localhost:8080/"
        },
        "id": "uEWsuqx7TxWH",
        "outputId": "ee93f782-dc97-4543-dd25-9fb18250d6a3"
      },
      "source": [
        "print(ss.iloc[1])"
      ],
      "execution_count": 334,
      "outputs": [
        {
          "output_type": "stream",
          "name": "stdout",
          "text": [
            "263.12\n"
          ]
        }
      ]
    },
    {
      "cell_type": "markdown",
      "metadata": {
        "id": "kHVBRL_Rg84j"
      },
      "source": [
        "While working with time series data, we often use time as the index. Pandas provides us with various methods to access the data by time index"
      ]
    },
    {
      "cell_type": "code",
      "metadata": {
        "colab": {
          "base_uri": "https://localhost:8080/"
        },
        "id": "FCf8Hg7jO58n",
        "outputId": "5808aa1a-b082-4d21-be94-61482853f465"
      },
      "source": [
        "s.index = time_index\n",
        "print(s['2017-01-03'])"
      ],
      "execution_count": 338,
      "outputs": [
        {
          "output_type": "stream",
          "name": "stdout",
          "text": [
            "143.68\n"
          ]
        }
      ]
    },
    {
      "cell_type": "code",
      "metadata": {
        "colab": {
          "base_uri": "https://localhost:8080/"
        },
        "id": "Mc9yHmhQUHHZ",
        "outputId": "8941721d-3a19-48d5-db0c-716f1b76fbda"
      },
      "source": [
        "ss.index = time_index\n",
        "print(ss['2017-01-03'])"
      ],
      "execution_count": 339,
      "outputs": [
        {
          "output_type": "stream",
          "name": "stdout",
          "text": [
            "264.69\n"
          ]
        }
      ]
    },
    {
      "cell_type": "markdown",
      "metadata": {
        "id": "XJXcrSFpg-To"
      },
      "source": [
        "We can even access to a range of dates:"
      ]
    },
    {
      "cell_type": "code",
      "metadata": {
        "colab": {
          "base_uri": "https://localhost:8080/"
        },
        "id": "NsE-Lr_9O58n",
        "outputId": "4e6acd22-0f0c-4ad1-b1c5-4f5543c69c87"
      },
      "source": [
        "print(s['2017-01-02':'2017-01-05'])"
      ],
      "execution_count": 340,
      "outputs": [
        {
          "output_type": "stream",
          "name": "stdout",
          "text": [
            "2017-01-02    145.83\n",
            "2017-01-03    143.68\n",
            "2017-01-04    144.02\n",
            "2017-01-05    143.50\n",
            "Freq: D, Name: Precio Manzana List, dtype: float64\n"
          ]
        }
      ]
    },
    {
      "cell_type": "code",
      "metadata": {
        "colab": {
          "base_uri": "https://localhost:8080/"
        },
        "id": "Kz6L7f_5UTff",
        "outputId": "f062bf35-7908-4861-88cf-ee2f86517e91"
      },
      "source": [
        "print(ss['2017-01-02':'2017-01-05'])"
      ],
      "execution_count": 341,
      "outputs": [
        {
          "output_type": "stream",
          "name": "stdout",
          "text": [
            "2017-01-02    263.12\n",
            "2017-01-03    264.69\n",
            "2017-01-04    265.22\n",
            "2017-01-05    266.35\n",
            "Freq: D, Name: Precio Manzana List, dtype: float64\n"
          ]
        }
      ]
    },
    {
      "cell_type": "markdown",
      "metadata": {
        "id": "cWA3NCXEhCLB"
      },
      "source": [
        "Series[] provides us a very flexible way to index data. We can add any condition in the square brackets:"
      ]
    },
    {
      "cell_type": "code",
      "metadata": {
        "colab": {
          "base_uri": "https://localhost:8080/"
        },
        "id": "aawbrg2EO58n",
        "outputId": "b78c5d75-fc29-4ba4-bcf9-fcf98ddfb7bf"
      },
      "source": [
        "print(s[s < np.mean(s)] )\n",
        "print([(s > np.mean(s)) & (s < np.mean(s) + 1.64*np.std(s))])"
      ],
      "execution_count": 342,
      "outputs": [
        {
          "output_type": "stream",
          "name": "stdout",
          "text": [
            "2017-01-01    143.73\n",
            "2017-01-03    143.68\n",
            "2017-01-05    143.50\n",
            "2017-01-06    142.62\n",
            "Name: Precio Manzana List, dtype: float64\n",
            "[2017-01-01    False\n",
            "2017-01-02    False\n",
            "2017-01-03    False\n",
            "2017-01-04     True\n",
            "2017-01-05    False\n",
            "2017-01-06    False\n",
            "Freq: D, Name: Precio Manzana List, dtype: bool]\n"
          ]
        }
      ]
    },
    {
      "cell_type": "code",
      "metadata": {
        "colab": {
          "base_uri": "https://localhost:8080/"
        },
        "id": "jTn475g3UfKx",
        "outputId": "188990a1-17b0-43b8-9756-0b40c65f1273"
      },
      "source": [
        "print(ss[ss < np.mean(ss)] )\n",
        "print([(ss > np.mean(ss)) & (ss < np.mean(ss) + 1.64*np.std(ss))])"
      ],
      "execution_count": 344,
      "outputs": [
        {
          "output_type": "stream",
          "name": "stdout",
          "text": [
            "2017-01-01    260.52\n",
            "2017-01-02    263.12\n",
            "Freq: D, Name: Precio Manzana List, dtype: float64\n",
            "[2017-01-01    False\n",
            "2017-01-02    False\n",
            "2017-01-03     True\n",
            "2017-01-04     True\n",
            "2017-01-05     True\n",
            "2017-01-06     True\n",
            "Freq: D, Name: Precio Manzana List, dtype: bool]\n"
          ]
        }
      ]
    },
    {
      "cell_type": "markdown",
      "metadata": {
        "id": "jAByChIwhEuI"
      },
      "source": [
        "As demonstrated, we can use logical operators like & (and), | (or) and ~ (not) to group multiple conditions.\n",
        "\n",
        "# Summary\n",
        "Here we have introduced NumPy and Pandas for scientific computing in Python. In the next chapter, we will dive into Pandas to learn resampling and manipulating Pandas DataFrame, which are commonly used in financial data analysis."
      ]
    },
    {
      "cell_type": "markdown",
      "metadata": {
        "id": "OtjOpw6oJp6z"
      },
      "source": [
        "<div align=\"center\">\n",
        "<img style=\"display: block; margin: auto;\" alt=\"photo\" src=\"https://cdn.quantconnect.com/web/i/icon.png\"> <img style=\"display: block; margin: auto;\" alt=\"photo\" src=\"https://www.marketing-branding.com/wp-content/uploads/2020/07/google-colaboratory-colab-guia-completa.jpg \" width=\"50\" height=\"50\">\n",
        "<img style=\"display: block; margin: auto;\" alt=\"photo\" src=\"https://upload.wikimedia.org/wikipedia/commons/d/da/Yahoo_Finance_Logo_2019.svg\" width=\"50\" height=\"50\">  \n",
        "\n",
        "Quantconnect -> Google Colab with Yahoo Finance data\n",
        "\n",
        "Introduction to Financial Python\n",
        "</div>\n",
        "\n",
        "# 05 Pandas-Resampling and DataFrame\n",
        "\n",
        "# Introduction\n",
        "In the last chapter we had a glimpse of Pandas. In this chapter we will learn about resampling methods and the DataFrame object, which is a powerful tool for financial data analysis.\n",
        "\n",
        "# Fetching Data\n",
        "Here we use the Yahoo Finance to retrieve data.\n"
      ]
    },
    {
      "cell_type": "code",
      "metadata": {
        "id": "luU8mZTsHW9x"
      },
      "source": [
        "!pip install yfinance"
      ],
      "execution_count": null,
      "outputs": []
    },
    {
      "cell_type": "code",
      "metadata": {
        "colab": {
          "base_uri": "https://localhost:8080/",
          "height": 487
        },
        "id": "mWZ-nirTZHrE",
        "outputId": "52507b61-6d90-4d15-80a6-9705186d854a"
      },
      "source": [
        "import yfinance as yf\n",
        "\n",
        "aapl = yf.Ticker(\"AAPL\")\n",
        "\n",
        "# get stock info\n",
        "print(aapl.info)\n",
        "\n",
        "# get historical market data\n",
        "aapl_table = aapl.history(start=\"2016-01-01\",  end=\"2017-12-31\")\n",
        "aapl_table"
      ],
      "execution_count": 193,
      "outputs": [
        {
          "output_type": "stream",
          "name": "stdout",
          "text": [
            "{'zip': '95014', 'sector': 'Technology', 'fullTimeEmployees': 147000, 'longBusinessSummary': 'Apple Inc. designs, manufactures, and markets smartphones, personal computers, tablets, wearables, and accessories worldwide. It also sells various related services. The company offers iPhone, a line of smartphones; Mac, a line of personal computers; iPad, a line of multi-purpose tablets; and wearables, home, and accessories comprising AirPods, Apple TV, Apple Watch, Beats products, HomePod, iPod touch, and other Apple-branded and third-party accessories. It also provides AppleCare support services; cloud services store services; and operates various platforms, including the App Store, that allow customers to discover and download applications and digital content, such as books, music, video, games, and podcasts. In addition, the company offers various services, such as Apple Arcade, a game subscription service; Apple Music, which offers users a curated listening experience with on-demand radio stations; Apple News+, a subscription news and magazine service; Apple TV+, which offers exclusive original content; Apple Card, a co-branded credit card; and Apple Pay, a cashless payment service, as well as licenses its intellectual property. The company serves consumers, and small and mid-sized businesses; and the education, enterprise, and government markets. It sells and delivers third-party applications for its products through the App Store. The company also sells its products through its retail and online stores, and direct sales force; and third-party cellular network carriers, wholesalers, retailers, and resellers. Apple Inc. was founded in 1977 and is headquartered in Cupertino, California.', 'city': 'Cupertino', 'phone': '408-996-1010', 'state': 'CA', 'country': 'United States', 'companyOfficers': [], 'website': 'http://www.apple.com', 'maxAge': 1, 'address1': 'One Apple Park Way', 'industry': 'Consumer Electronics', 'ebitdaMargins': 0.31955, 'profitMargins': 0.25004, 'grossMargins': 0.41005, 'operatingCashflow': 104414003200, 'revenueGrowth': 0.364, 'operatingMargins': 0.28788, 'ebitda': 110934999040, 'targetLowPrice': 132, 'recommendationKey': 'buy', 'grossProfits': 104956000000, 'freeCashflow': 80625876992, 'targetMedianPrice': 170, 'currentPrice': 148.76, 'earningsGrowth': 1, 'currentRatio': 1.062, 'returnOnAssets': 0.19302, 'numberOfAnalystOpinions': 41, 'targetMeanPrice': 168.23, 'debtToEquity': 210.782, 'returnOnEquity': 1.27125, 'targetHighPrice': 190, 'totalCash': 61696000000, 'totalDebt': 135491002368, 'totalRevenue': 347155005440, 'totalCashPerShare': 3.732, 'financialCurrency': 'USD', 'revenuePerShare': 20.61, 'quickRatio': 0.887, 'recommendationMean': 1.9, 'exchange': 'NMS', 'shortName': 'Apple Inc.', 'longName': 'Apple Inc.', 'exchangeTimezoneName': 'America/New_York', 'exchangeTimezoneShortName': 'EDT', 'isEsgPopulated': False, 'gmtOffSetMilliseconds': '-14400000', 'quoteType': 'EQUITY', 'symbol': 'AAPL', 'messageBoardId': 'finmb_24937', 'market': 'us_market', 'annualHoldingsTurnover': None, 'enterpriseToRevenue': 7.191, 'beta3Year': None, 'enterpriseToEbitda': 22.502, '52WeekChange': 0.24712789, 'morningStarRiskRating': None, 'forwardEps': 5.67, 'revenueQuarterlyGrowth': None, 'sharesOutstanding': 16530199552, 'fundInceptionDate': None, 'annualReportExpenseRatio': None, 'totalAssets': None, 'bookValue': 3.882, 'sharesShort': 101107412, 'sharesPercentSharesOut': 0.0061000003, 'fundFamily': None, 'lastFiscalYearEnd': 1601078400, 'heldPercentInstitutions': 0.58672, 'netIncomeToCommon': 86801997824, 'trailingEps': 5.108, 'lastDividendValue': 0.22, 'SandP52WeekChange': 0.30302167, 'priceToBook': 38.320454, 'heldPercentInsiders': 0.00072999997, 'nextFiscalYearEnd': 1664150400, 'yield': None, 'mostRecentQuarter': 1624665600, 'shortRatio': 1.18, 'sharesShortPreviousMonthDate': 1630368000, 'floatShares': 16512974627, 'beta': 1.222222, 'enterpriseValue': 2496290881536, 'priceHint': 2, 'threeYearAverageReturn': None, 'lastSplitDate': 1598832000, 'lastSplitFactor': '4:1', 'legalType': None, 'lastDividendDate': 1628208000, 'morningStarOverallRating': None, 'earningsQuarterlyGrowth': 0.932, 'priceToSalesTrailing12Months': 7.0833845, 'dateShortInterest': 1632960000, 'pegRatio': 1.38, 'ytdReturn': None, 'forwardPE': 26.23633, 'lastCapGain': None, 'shortPercentOfFloat': 0.0061000003, 'sharesShortPriorMonth': 96838699, 'impliedSharesOutstanding': None, 'category': None, 'fiveYearAverageReturn': None, 'previousClose': 146.55, 'regularMarketOpen': 147.01, 'twoHundredDayAverage': 138.93898, 'trailingAnnualDividendYield': 0.0056977137, 'payoutRatio': 0.16309999, 'volume24Hr': None, 'regularMarketDayHigh': 149.17, 'navPrice': None, 'averageDailyVolume10Day': 73272050, 'regularMarketPreviousClose': 146.55, 'fiftyDayAverage': 146.59572, 'trailingAnnualDividendRate': 0.835, 'open': 147.01, 'toCurrency': None, 'averageVolume10days': 73272050, 'expireDate': None, 'algorithm': None, 'dividendRate': 0.88, 'exDividendDate': 1628208000, 'circulatingSupply': None, 'startDate': None, 'regularMarketDayLow': 146.55, 'currency': 'USD', 'trailingPE': 29.122944, 'regularMarketVolume': 76155573, 'lastMarket': None, 'maxSupply': None, 'openInterest': None, 'marketCap': 2459032354816, 'volumeAllCurrencies': None, 'strikePrice': None, 'averageVolume': 77541023, 'dayLow': 146.55, 'ask': 148.62, 'askSize': 4000, 'volume': 76155573, 'fiftyTwoWeekHigh': 157.26, 'fromCurrency': None, 'fiveYearAvgDividendYield': 1.24, 'fiftyTwoWeekLow': 107.32, 'bid': 148.55, 'tradeable': False, 'dividendYield': 0.006, 'bidSize': 1200, 'dayHigh': 149.17, 'regularMarketPrice': 148.76, 'preMarketPrice': 147, 'logo_url': 'https://logo.clearbit.com/apple.com'}\n"
          ]
        },
        {
          "output_type": "execute_result",
          "data": {
            "text/html": [
              "<div>\n",
              "<style scoped>\n",
              "    .dataframe tbody tr th:only-of-type {\n",
              "        vertical-align: middle;\n",
              "    }\n",
              "\n",
              "    .dataframe tbody tr th {\n",
              "        vertical-align: top;\n",
              "    }\n",
              "\n",
              "    .dataframe thead th {\n",
              "        text-align: right;\n",
              "    }\n",
              "</style>\n",
              "<table border=\"1\" class=\"dataframe\">\n",
              "  <thead>\n",
              "    <tr style=\"text-align: right;\">\n",
              "      <th></th>\n",
              "      <th>Open</th>\n",
              "      <th>High</th>\n",
              "      <th>Low</th>\n",
              "      <th>Close</th>\n",
              "      <th>Volume</th>\n",
              "      <th>Dividends</th>\n",
              "      <th>Stock Splits</th>\n",
              "    </tr>\n",
              "    <tr>\n",
              "      <th>Date</th>\n",
              "      <th></th>\n",
              "      <th></th>\n",
              "      <th></th>\n",
              "      <th></th>\n",
              "      <th></th>\n",
              "      <th></th>\n",
              "      <th></th>\n",
              "    </tr>\n",
              "  </thead>\n",
              "  <tbody>\n",
              "    <tr>\n",
              "      <th>2016-01-04</th>\n",
              "      <td>23.655168</td>\n",
              "      <td>24.291444</td>\n",
              "      <td>23.514542</td>\n",
              "      <td>24.286833</td>\n",
              "      <td>270597600</td>\n",
              "      <td>0.0</td>\n",
              "      <td>0</td>\n",
              "    </tr>\n",
              "    <tr>\n",
              "      <th>2016-01-05</th>\n",
              "      <td>24.379045</td>\n",
              "      <td>24.402098</td>\n",
              "      <td>23.609059</td>\n",
              "      <td>23.678219</td>\n",
              "      <td>223164000</td>\n",
              "      <td>0.0</td>\n",
              "      <td>0</td>\n",
              "    </tr>\n",
              "    <tr>\n",
              "      <th>2016-01-06</th>\n",
              "      <td>23.182571</td>\n",
              "      <td>23.599840</td>\n",
              "      <td>23.023503</td>\n",
              "      <td>23.214846</td>\n",
              "      <td>273829600</td>\n",
              "      <td>0.0</td>\n",
              "      <td>0</td>\n",
              "    </tr>\n",
              "    <tr>\n",
              "      <th>2016-01-07</th>\n",
              "      <td>22.749164</td>\n",
              "      <td>23.083439</td>\n",
              "      <td>22.230461</td>\n",
              "      <td>22.235071</td>\n",
              "      <td>324377600</td>\n",
              "      <td>0.0</td>\n",
              "      <td>0</td>\n",
              "    </tr>\n",
              "    <tr>\n",
              "      <th>2016-01-08</th>\n",
              "      <td>22.719199</td>\n",
              "      <td>22.848298</td>\n",
              "      <td>22.306542</td>\n",
              "      <td>22.352648</td>\n",
              "      <td>283192000</td>\n",
              "      <td>0.0</td>\n",
              "      <td>0</td>\n",
              "    </tr>\n",
              "    <tr>\n",
              "      <th>...</th>\n",
              "      <td>...</td>\n",
              "      <td>...</td>\n",
              "      <td>...</td>\n",
              "      <td>...</td>\n",
              "      <td>...</td>\n",
              "      <td>...</td>\n",
              "      <td>...</td>\n",
              "    </tr>\n",
              "    <tr>\n",
              "      <th>2017-12-22</th>\n",
              "      <td>41.827752</td>\n",
              "      <td>42.004949</td>\n",
              "      <td>41.784653</td>\n",
              "      <td>41.906773</td>\n",
              "      <td>65397600</td>\n",
              "      <td>0.0</td>\n",
              "      <td>0</td>\n",
              "    </tr>\n",
              "    <tr>\n",
              "      <th>2017-12-26</th>\n",
              "      <td>40.898678</td>\n",
              "      <td>41.059112</td>\n",
              "      <td>40.630488</td>\n",
              "      <td>40.843605</td>\n",
              "      <td>132742000</td>\n",
              "      <td>0.0</td>\n",
              "      <td>0</td>\n",
              "    </tr>\n",
              "    <tr>\n",
              "      <th>2017-12-27</th>\n",
              "      <td>40.731058</td>\n",
              "      <td>40.893884</td>\n",
              "      <td>40.637671</td>\n",
              "      <td>40.850784</td>\n",
              "      <td>85992800</td>\n",
              "      <td>0.0</td>\n",
              "      <td>0</td>\n",
              "    </tr>\n",
              "    <tr>\n",
              "      <th>2017-12-28</th>\n",
              "      <td>40.946568</td>\n",
              "      <td>41.150105</td>\n",
              "      <td>40.822051</td>\n",
              "      <td>40.965725</td>\n",
              "      <td>65920800</td>\n",
              "      <td>0.0</td>\n",
              "      <td>0</td>\n",
              "    </tr>\n",
              "    <tr>\n",
              "      <th>2017-12-29</th>\n",
              "      <td>40.831625</td>\n",
              "      <td>40.848385</td>\n",
              "      <td>40.520335</td>\n",
              "      <td>40.522728</td>\n",
              "      <td>103999600</td>\n",
              "      <td>0.0</td>\n",
              "      <td>0</td>\n",
              "    </tr>\n",
              "  </tbody>\n",
              "</table>\n",
              "<p>503 rows × 7 columns</p>\n",
              "</div>"
            ],
            "text/plain": [
              "                 Open       High        Low  ...     Volume  Dividends  Stock Splits\n",
              "Date                                         ...                                    \n",
              "2016-01-04  23.655168  24.291444  23.514542  ...  270597600        0.0             0\n",
              "2016-01-05  24.379045  24.402098  23.609059  ...  223164000        0.0             0\n",
              "2016-01-06  23.182571  23.599840  23.023503  ...  273829600        0.0             0\n",
              "2016-01-07  22.749164  23.083439  22.230461  ...  324377600        0.0             0\n",
              "2016-01-08  22.719199  22.848298  22.306542  ...  283192000        0.0             0\n",
              "...               ...        ...        ...  ...        ...        ...           ...\n",
              "2017-12-22  41.827752  42.004949  41.784653  ...   65397600        0.0             0\n",
              "2017-12-26  40.898678  41.059112  40.630488  ...  132742000        0.0             0\n",
              "2017-12-27  40.731058  40.893884  40.637671  ...   85992800        0.0             0\n",
              "2017-12-28  40.946568  41.150105  40.822051  ...   65920800        0.0             0\n",
              "2017-12-29  40.831625  40.848385  40.520335  ...  103999600        0.0             0\n",
              "\n",
              "[503 rows x 7 columns]"
            ]
          },
          "metadata": {},
          "execution_count": 193
        }
      ]
    },
    {
      "cell_type": "code",
      "metadata": {
        "colab": {
          "base_uri": "https://localhost:8080/",
          "height": 487
        },
        "id": "Cg2b_8YXanr4",
        "outputId": "6aeb4090-4273-44d0-b07e-1240050dff46"
      },
      "source": [
        "import yfinance as yf\n",
        "\n",
        "pfizer = yf.Ticker(\"PFE\")\n",
        "\n",
        "# get stock info\n",
        "print(pfizer.info)\n",
        "\n",
        "# get historical market data\n",
        "pfizer_table = pfizer.history(start=\"2016-01-01\",  end=\"2017-12-31\")\n",
        "pfizer_table"
      ],
      "execution_count": 348,
      "outputs": [
        {
          "output_type": "stream",
          "name": "stdout",
          "text": [
            "{'zip': '10017', 'sector': 'Healthcare', 'fullTimeEmployees': 78500, 'longBusinessSummary': 'Pfizer Inc. discovers, develops, manufactures, markets, distributes, and sells biopharmaceutical products worldwide. It offers medicines and vaccines in various therapeutic areas, including cardiovascular metabolic and pain under the Eliquis, Chantix/Champix, and Premarin family brands; biologics, small molecules, immunotherapies, and biosimilars under the Ibrance, Xtandi, Sutent, Inlyta, Retacrit, Lorbrena, and Braftovi brands; and sterile injectable and anti-infective medicines under the Sulperazon, Medrol, Zithromax, Vfend, and Panzyga brands. The company also provides medicines and vaccines in various therapeutic areas, such as pneumococcal disease, meningococcal disease, tick-borne encephalitis, and COVID-19 under the Prevnar 13/Prevenar 13 (pediatric/adult), Nimenrix, FSME/IMMUN-TicoVac, Trumenba, and the Pfizer-BioNTech COVID-19 vaccine brands; biosimilars for chronic immune and inflammatory diseases under the Xeljanz, Enbrel, Inflectra, and Eucrisa/Staquis brands; and amyloidosis, hemophilia, and endocrine diseases under the Vyndaqel/Vyndamax, BeneFIX, and Genotropin brands. In addition, the company is involved in the contract manufacturing business. It serves wholesalers, retailers, hospitals, clinics, government agencies, pharmacies, and individual provider offices, as well as disease control and prevention centers. The company has collaboration agreements with Bristol-Myers Squibb Company; Astellas Pharma US, Inc.; Myovant Sciences Ltd.; Akcea Therapeutics, Inc; Merck KGaA; Valneva SE; BioNTech SE; Arvinas, Inc.; and Syapse, Inc. Pfizer Inc. was founded in 1849 and is headquartered in New York, New York.', 'city': 'New York', 'phone': '212 733 2323', 'state': 'NY', 'country': 'United States', 'companyOfficers': [], 'website': 'http://www.pfizer.com', 'maxAge': 1, 'address1': '235 East 42nd Street', 'industry': 'Drug Manufacturers—General', 'ebitdaMargins': 0.36270002, 'profitMargins': 0.23798999, 'grossMargins': 0.7112, 'operatingCashflow': 23552000000, 'revenueGrowth': 0.924, 'operatingMargins': 0.2732, 'ebitda': 20137000960, 'targetLowPrice': None, 'recommendationKey': 'none', 'grossProfits': 33334000000, 'freeCashflow': 31606624256, 'targetMedianPrice': None, 'currentPrice': 42.09, 'earningsGrowth': 0.59, 'currentRatio': 1.369, 'returnOnAssets': 0.0545, 'numberOfAnalystOpinions': None, 'targetMeanPrice': None, 'debtToEquity': 55.809, 'returnOnEquity': 0.18354, 'targetHighPrice': None, 'totalCash': 21702000640, 'totalDebt': 39241998336, 'totalRevenue': 55520002048, 'totalCashPerShare': 3.871, 'financialCurrency': 'USD', 'revenuePerShare': 9.958, 'quickRatio': 1.011, 'recommendationMean': None, 'exchange': 'NYQ', 'shortName': 'Pfizer, Inc.', 'longName': 'Pfizer Inc.', 'exchangeTimezoneName': 'America/New_York', 'exchangeTimezoneShortName': 'EDT', 'isEsgPopulated': False, 'gmtOffSetMilliseconds': '-14400000', 'quoteType': 'EQUITY', 'symbol': 'PFE', 'messageBoardId': 'finmb_162270', 'market': 'us_market', 'annualHoldingsTurnover': None, 'enterpriseToRevenue': 4.494, 'beta3Year': None, 'enterpriseToEbitda': 12.389, '52WeekChange': 0.19640934, 'morningStarRiskRating': None, 'forwardEps': 32.91, 'revenueQuarterlyGrowth': None, 'sharesOutstanding': 5606689792, 'fundInceptionDate': None, 'annualReportExpenseRatio': None, 'totalAssets': None, 'bookValue': 12.51, 'sharesShort': 52180504, 'sharesPercentSharesOut': 0.0093, 'fundFamily': None, 'lastFiscalYearEnd': 1609372800, 'heldPercentInstitutions': 0.67419, 'netIncomeToCommon': 12323999744, 'trailingEps': 2.342, 'lastDividendValue': 0.39, 'SandP52WeekChange': 0.3155439, 'priceToBook': 3.3645084, 'heldPercentInsiders': 0.0004, 'nextFiscalYearEnd': 1672444800, 'yield': None, 'mostRecentQuarter': 1625356800, 'shortRatio': 1.98, 'sharesShortPreviousMonthDate': 1630368000, 'floatShares': 5601025601, 'beta': 0.693121, 'enterpriseValue': 249481363456, 'priceHint': 2, 'threeYearAverageReturn': None, 'lastSplitDate': 1605571200, 'lastSplitFactor': '1054:1000', 'legalType': None, 'lastDividendDate': 1627516800, 'morningStarOverallRating': None, 'earningsQuarterlyGrowth': 0.594, 'priceToSalesTrailing12Months': 4.25046, 'dateShortInterest': 1632960000, 'pegRatio': 0.01, 'ytdReturn': None, 'forwardPE': 1.2789426, 'lastCapGain': None, 'shortPercentOfFloat': 0.0093, 'sharesShortPriorMonth': 58674931, 'impliedSharesOutstanding': None, 'category': None, 'fiveYearAverageReturn': None, 'previousClose': 41.32, 'regularMarketOpen': 41.6, 'twoHundredDayAverage': 41.69525, 'trailingAnnualDividendYield': 0.037270088, 'payoutRatio': 0.7064, 'volume24Hr': None, 'regularMarketDayHigh': 42.2, 'navPrice': None, 'averageDailyVolume10Day': 19486028, 'regularMarketPreviousClose': 41.32, 'fiftyDayAverage': 43.806286, 'trailingAnnualDividendRate': 1.54, 'open': 41.6, 'toCurrency': None, 'averageVolume10days': 19486028, 'expireDate': None, 'algorithm': None, 'dividendRate': 1.56, 'exDividendDate': 1635984000, 'circulatingSupply': None, 'startDate': None, 'regularMarketDayLow': 41.5418, 'currency': 'USD', 'trailingPE': 17.971819, 'regularMarketVolume': 17132082, 'lastMarket': None, 'maxSupply': None, 'openInterest': None, 'marketCap': 235985567744, 'volumeAllCurrencies': None, 'strikePrice': None, 'averageVolume': 32599838, 'dayLow': 41.5418, 'ask': 42.19, 'askSize': 1100, 'volume': 17132082, 'fiftyTwoWeekHigh': 51.86, 'fromCurrency': None, 'fiveYearAvgDividendYield': 3.7, 'fiftyTwoWeekLow': 32.827324, 'bid': 42.14, 'tradeable': False, 'dividendYield': 0.0378, 'bidSize': 3000, 'dayHigh': 42.2, 'regularMarketPrice': 42.09, 'preMarketPrice': 41.53, 'logo_url': 'https://logo.clearbit.com/pfizer.com'}\n"
          ]
        },
        {
          "output_type": "execute_result",
          "data": {
            "text/html": [
              "<div>\n",
              "<style scoped>\n",
              "    .dataframe tbody tr th:only-of-type {\n",
              "        vertical-align: middle;\n",
              "    }\n",
              "\n",
              "    .dataframe tbody tr th {\n",
              "        vertical-align: top;\n",
              "    }\n",
              "\n",
              "    .dataframe thead th {\n",
              "        text-align: right;\n",
              "    }\n",
              "</style>\n",
              "<table border=\"1\" class=\"dataframe\">\n",
              "  <thead>\n",
              "    <tr style=\"text-align: right;\">\n",
              "      <th></th>\n",
              "      <th>Open</th>\n",
              "      <th>High</th>\n",
              "      <th>Low</th>\n",
              "      <th>Close</th>\n",
              "      <th>Volume</th>\n",
              "      <th>Dividends</th>\n",
              "      <th>Stock Splits</th>\n",
              "    </tr>\n",
              "    <tr>\n",
              "      <th>Date</th>\n",
              "      <th></th>\n",
              "      <th></th>\n",
              "      <th></th>\n",
              "      <th></th>\n",
              "      <th></th>\n",
              "      <th></th>\n",
              "      <th></th>\n",
              "    </tr>\n",
              "  </thead>\n",
              "  <tbody>\n",
              "    <tr>\n",
              "      <th>2016-01-04</th>\n",
              "      <td>24.324911</td>\n",
              "      <td>24.462384</td>\n",
              "      <td>24.111067</td>\n",
              "      <td>24.401285</td>\n",
              "      <td>39322421</td>\n",
              "      <td>0.0</td>\n",
              "      <td>0</td>\n",
              "    </tr>\n",
              "    <tr>\n",
              "      <th>2016-01-05</th>\n",
              "      <td>24.576939</td>\n",
              "      <td>24.622763</td>\n",
              "      <td>24.386006</td>\n",
              "      <td>24.576939</td>\n",
              "      <td>28777994</td>\n",
              "      <td>0.0</td>\n",
              "      <td>0</td>\n",
              "    </tr>\n",
              "    <tr>\n",
              "      <th>2016-01-06</th>\n",
              "      <td>24.233264</td>\n",
              "      <td>24.363100</td>\n",
              "      <td>23.996508</td>\n",
              "      <td>24.141617</td>\n",
              "      <td>27242316</td>\n",
              "      <td>0.0</td>\n",
              "      <td>0</td>\n",
              "    </tr>\n",
              "    <tr>\n",
              "      <th>2016-01-07</th>\n",
              "      <td>23.797935</td>\n",
              "      <td>24.294362</td>\n",
              "      <td>23.782661</td>\n",
              "      <td>23.981232</td>\n",
              "      <td>39223134</td>\n",
              "      <td>0.0</td>\n",
              "      <td>0</td>\n",
              "    </tr>\n",
              "    <tr>\n",
              "      <th>2016-01-08</th>\n",
              "      <td>24.095793</td>\n",
              "      <td>24.156891</td>\n",
              "      <td>23.614641</td>\n",
              "      <td>23.675739</td>\n",
              "      <td>34840286</td>\n",
              "      <td>0.0</td>\n",
              "      <td>0</td>\n",
              "    </tr>\n",
              "    <tr>\n",
              "      <th>...</th>\n",
              "      <td>...</td>\n",
              "      <td>...</td>\n",
              "      <td>...</td>\n",
              "      <td>...</td>\n",
              "      <td>...</td>\n",
              "      <td>...</td>\n",
              "      <td>...</td>\n",
              "    </tr>\n",
              "    <tr>\n",
              "      <th>2017-12-22</th>\n",
              "      <td>29.879172</td>\n",
              "      <td>29.969788</td>\n",
              "      <td>29.697936</td>\n",
              "      <td>29.772078</td>\n",
              "      <td>9063557</td>\n",
              "      <td>0.0</td>\n",
              "      <td>0</td>\n",
              "    </tr>\n",
              "    <tr>\n",
              "      <th>2017-12-26</th>\n",
              "      <td>29.730876</td>\n",
              "      <td>29.879161</td>\n",
              "      <td>29.615544</td>\n",
              "      <td>29.829733</td>\n",
              "      <td>11480590</td>\n",
              "      <td>0.0</td>\n",
              "      <td>0</td>\n",
              "    </tr>\n",
              "    <tr>\n",
              "      <th>2017-12-27</th>\n",
              "      <td>29.912124</td>\n",
              "      <td>30.035694</td>\n",
              "      <td>29.846220</td>\n",
              "      <td>29.928602</td>\n",
              "      <td>8768964</td>\n",
              "      <td>0.0</td>\n",
              "      <td>0</td>\n",
              "    </tr>\n",
              "    <tr>\n",
              "      <th>2017-12-28</th>\n",
              "      <td>29.953307</td>\n",
              "      <td>30.093351</td>\n",
              "      <td>29.862687</td>\n",
              "      <td>29.961544</td>\n",
              "      <td>6939431</td>\n",
              "      <td>0.0</td>\n",
              "      <td>0</td>\n",
              "    </tr>\n",
              "    <tr>\n",
              "      <th>2017-12-29</th>\n",
              "      <td>29.846212</td>\n",
              "      <td>30.060401</td>\n",
              "      <td>29.837975</td>\n",
              "      <td>29.837975</td>\n",
              "      <td>12038261</td>\n",
              "      <td>0.0</td>\n",
              "      <td>0</td>\n",
              "    </tr>\n",
              "  </tbody>\n",
              "</table>\n",
              "<p>503 rows × 7 columns</p>\n",
              "</div>"
            ],
            "text/plain": [
              "                 Open       High        Low  ...    Volume  Dividends  Stock Splits\n",
              "Date                                         ...                                   \n",
              "2016-01-04  24.324911  24.462384  24.111067  ...  39322421        0.0             0\n",
              "2016-01-05  24.576939  24.622763  24.386006  ...  28777994        0.0             0\n",
              "2016-01-06  24.233264  24.363100  23.996508  ...  27242316        0.0             0\n",
              "2016-01-07  23.797935  24.294362  23.782661  ...  39223134        0.0             0\n",
              "2016-01-08  24.095793  24.156891  23.614641  ...  34840286        0.0             0\n",
              "...               ...        ...        ...  ...       ...        ...           ...\n",
              "2017-12-22  29.879172  29.969788  29.697936  ...   9063557        0.0             0\n",
              "2017-12-26  29.730876  29.879161  29.615544  ...  11480590        0.0             0\n",
              "2017-12-27  29.912124  30.035694  29.846220  ...   8768964        0.0             0\n",
              "2017-12-28  29.953307  30.093351  29.862687  ...   6939431        0.0             0\n",
              "2017-12-29  29.846212  30.060401  29.837975  ...  12038261        0.0             0\n",
              "\n",
              "[503 rows x 7 columns]"
            ]
          },
          "metadata": {},
          "execution_count": 348
        }
      ]
    },
    {
      "cell_type": "markdown",
      "metadata": {
        "id": "NkFztSYhJyVA"
      },
      "source": [
        "We will create a Series named \"aapl\" whose values are Apple's daily closing prices, which are of course indexed by dates:"
      ]
    },
    {
      "cell_type": "code",
      "metadata": {
        "id": "QDJbOpCeHW91"
      },
      "source": [
        "aapl = aapl_table['Close']['2017']"
      ],
      "execution_count": 349,
      "outputs": []
    },
    {
      "cell_type": "code",
      "metadata": {
        "colab": {
          "base_uri": "https://localhost:8080/"
        },
        "id": "SXfgCQJOHW91",
        "outputId": "03f78269-40bc-4cb3-e56a-1e8eed537928"
      },
      "source": [
        "print(aapl)"
      ],
      "execution_count": 192,
      "outputs": [
        {
          "output_type": "stream",
          "name": "stdout",
          "text": [
            "Date\n",
            "2017-01-03    27.372364\n",
            "2017-01-04    27.341724\n",
            "2017-01-05    27.480766\n",
            "2017-01-06    27.787132\n",
            "2017-01-09    28.041647\n",
            "                ...    \n",
            "2017-12-22    41.906769\n",
            "2017-12-26    40.843609\n",
            "2017-12-27    40.850784\n",
            "2017-12-28    40.965729\n",
            "2017-12-29    40.522732\n",
            "Name: Close, Length: 251, dtype: float64\n"
          ]
        }
      ]
    },
    {
      "cell_type": "code",
      "metadata": {
        "id": "FbJ8ldVZb8MM"
      },
      "source": [
        "pfizer = pfizer_table['Close']['2017']"
      ],
      "execution_count": 350,
      "outputs": []
    },
    {
      "cell_type": "code",
      "metadata": {
        "colab": {
          "base_uri": "https://localhost:8080/"
        },
        "id": "ymIvF3_7cFhS",
        "outputId": "794856aa-bce1-44dd-a8aa-68abbba9ccb5"
      },
      "source": [
        "print(pfizer)"
      ],
      "execution_count": 351,
      "outputs": [
        {
          "output_type": "stream",
          "name": "stdout",
          "text": [
            "Date\n",
            "2017-01-03    26.156357\n",
            "2017-01-04    26.386213\n",
            "2017-01-05    26.639851\n",
            "2017-01-06    26.536814\n",
            "2017-01-09    26.528883\n",
            "                ...    \n",
            "2017-12-22    29.772078\n",
            "2017-12-26    29.829733\n",
            "2017-12-27    29.928602\n",
            "2017-12-28    29.961544\n",
            "2017-12-29    29.837975\n",
            "Name: Close, Length: 251, dtype: float64\n"
          ]
        }
      ]
    },
    {
      "cell_type": "markdown",
      "metadata": {
        "id": "waUEgBhzKEcA"
      },
      "source": [
        "Recall that we can fetch a specific data point using series['yyyy-mm-dd']. We can also fetch the data in a specific month using series['yyyy-mm']."
      ]
    },
    {
      "cell_type": "code",
      "metadata": {
        "colab": {
          "base_uri": "https://localhost:8080/"
        },
        "id": "2gS50G0zHW92",
        "outputId": "c964a391-f9db-450d-aa01-52e041570c4e"
      },
      "source": [
        "print(aapl['2017-3'])"
      ],
      "execution_count": null,
      "outputs": [
        {
          "output_type": "stream",
          "name": "stdout",
          "text": [
            "Date\n",
            "2017-03-01    33.086281\n",
            "2017-03-02    32.889839\n",
            "2017-03-03    33.083920\n",
            "2017-03-06    32.979778\n",
            "2017-03-07    33.022373\n",
            "2017-03-08    32.899296\n",
            "2017-03-09    32.823563\n",
            "2017-03-10    32.932434\n",
            "2017-03-13    32.946640\n",
            "2017-03-14    32.896942\n",
            "2017-03-15    33.244865\n",
            "2017-03-16    33.299305\n",
            "2017-03-17    33.133617\n",
            "2017-03-20    33.481544\n",
            "2017-03-21    33.098122\n",
            "2017-03-22    33.472084\n",
            "2017-03-23    33.353741\n",
            "2017-03-24    33.287464\n",
            "2017-03-27    33.344276\n",
            "2017-03-28    34.035393\n",
            "2017-03-29    34.111141\n",
            "2017-03-30    34.066158\n",
            "2017-03-31    34.002254\n",
            "Name: Close, dtype: float64\n"
          ]
        }
      ]
    },
    {
      "cell_type": "code",
      "metadata": {
        "colab": {
          "base_uri": "https://localhost:8080/"
        },
        "id": "7EIKzcJxcNU2",
        "outputId": "a99371c2-3496-46df-81fc-b27d6f9bd693"
      },
      "source": [
        "print(pfizer['2017-3'])"
      ],
      "execution_count": 352,
      "outputs": [
        {
          "output_type": "stream",
          "name": "stdout",
          "text": [
            "Date\n",
            "2017-03-01    27.559816\n",
            "2017-03-02    27.631878\n",
            "2017-03-03    27.639879\n",
            "2017-03-06    27.503761\n",
            "2017-03-07    27.215515\n",
            "2017-03-08    27.151461\n",
            "2017-03-09    27.263559\n",
            "2017-03-10    27.311605\n",
            "2017-03-13    27.311605\n",
            "2017-03-14    27.399672\n",
            "2017-03-15    27.727959\n",
            "2017-03-16    27.567820\n",
            "2017-03-17    27.479744\n",
            "2017-03-20    27.527786\n",
            "2017-03-21    27.423691\n",
            "2017-03-22    27.599844\n",
            "2017-03-23    27.455721\n",
            "2017-03-24    27.223526\n",
            "2017-03-27    27.367647\n",
            "2017-03-28    27.351633\n",
            "2017-03-29    27.487753\n",
            "2017-03-30    27.503761\n",
            "2017-03-31    27.391668\n",
            "Name: Close, dtype: float64\n"
          ]
        }
      ]
    },
    {
      "cell_type": "code",
      "metadata": {
        "colab": {
          "base_uri": "https://localhost:8080/"
        },
        "id": "vpvxGwXtHW92",
        "outputId": "f41399ad-9f8a-4710-fab5-8928956fdc67"
      },
      "source": [
        "aapl['2017-2':'2017-4']"
      ],
      "execution_count": 353,
      "outputs": [
        {
          "output_type": "execute_result",
          "data": {
            "text/plain": [
              "Date\n",
              "2017-02-01    30.341726\n",
              "2017-02-02    30.289877\n",
              "2017-02-03    30.419495\n",
              "2017-02-06    30.704643\n",
              "2017-02-07    30.996876\n",
              "                ...    \n",
              "2017-04-24    33.997524\n",
              "2017-04-25    34.208179\n",
              "2017-04-26    34.006992\n",
              "2017-04-27    34.033028\n",
              "2017-04-28    33.999893\n",
              "Name: Close, Length: 61, dtype: float64"
            ]
          },
          "metadata": {},
          "execution_count": 353
        }
      ]
    },
    {
      "cell_type": "code",
      "metadata": {
        "colab": {
          "base_uri": "https://localhost:8080/"
        },
        "id": "6csZDURucWSr",
        "outputId": "b1068afc-9c78-4c25-9776-c8feab7a7c7d"
      },
      "source": [
        "pfizer['2017-2':'2017-4']"
      ],
      "execution_count": 354,
      "outputs": [
        {
          "output_type": "execute_result",
          "data": {
            "text/plain": [
              "Date\n",
              "2017-02-01    25.357904\n",
              "2017-02-02    25.405949\n",
              "2017-02-03    25.694202\n",
              "2017-02-06    25.806303\n",
              "2017-02-07    25.686197\n",
              "                ...    \n",
              "2017-04-24    27.015341\n",
              "2017-04-25    27.031359\n",
              "2017-04-26    27.103420\n",
              "2017-04-27    27.111425\n",
              "2017-04-28    27.159468\n",
              "Name: Close, Length: 61, dtype: float64"
            ]
          },
          "metadata": {},
          "execution_count": 354
        }
      ]
    },
    {
      "cell_type": "markdown",
      "metadata": {
        "id": "lWwoD39pKNKb"
      },
      "source": [
        ".head(N) and .tail(N) are methods for quickly accessing the first or last N elements."
      ]
    },
    {
      "cell_type": "code",
      "metadata": {
        "colab": {
          "base_uri": "https://localhost:8080/"
        },
        "id": "1eU218ALHW93",
        "outputId": "74b0d5eb-f432-46e8-f7a2-38b0eda53869"
      },
      "source": [
        "print(aapl.head(5))\n",
        "print(aapl.tail(10))"
      ],
      "execution_count": 355,
      "outputs": [
        {
          "output_type": "stream",
          "name": "stdout",
          "text": [
            "Date\n",
            "2017-01-03    27.372358\n",
            "2017-01-04    27.341724\n",
            "2017-01-05    27.480766\n",
            "2017-01-06    27.787130\n",
            "2017-01-09    28.041643\n",
            "Name: Close, dtype: float64\n",
            "Date\n",
            "2017-12-15    41.657742\n",
            "2017-12-18    42.244411\n",
            "2017-12-19    41.794235\n",
            "2017-12-20    41.748734\n",
            "2017-12-21    41.906773\n",
            "2017-12-22    41.906773\n",
            "2017-12-26    40.843605\n",
            "2017-12-27    40.850784\n",
            "2017-12-28    40.965725\n",
            "2017-12-29    40.522728\n",
            "Name: Close, dtype: float64\n"
          ]
        }
      ]
    },
    {
      "cell_type": "code",
      "metadata": {
        "colab": {
          "base_uri": "https://localhost:8080/"
        },
        "id": "C5SKhIvxc38h",
        "outputId": "a1697ffb-da9f-43c7-cabc-ec76632115e1"
      },
      "source": [
        "print(pfizer.head(5))\n",
        "print(pfizer.tail(10))"
      ],
      "execution_count": 356,
      "outputs": [
        {
          "output_type": "stream",
          "name": "stdout",
          "text": [
            "Date\n",
            "2017-01-03    26.156357\n",
            "2017-01-04    26.386213\n",
            "2017-01-05    26.639851\n",
            "2017-01-06    26.536814\n",
            "2017-01-09    26.528883\n",
            "Name: Close, dtype: float64\n",
            "Date\n",
            "2017-12-15    30.645296\n",
            "2017-12-18    30.587631\n",
            "2017-12-19    30.431112\n",
            "2017-12-20    30.035688\n",
            "2017-12-21    29.854448\n",
            "2017-12-22    29.772078\n",
            "2017-12-26    29.829733\n",
            "2017-12-27    29.928602\n",
            "2017-12-28    29.961544\n",
            "2017-12-29    29.837975\n",
            "Name: Close, dtype: float64\n"
          ]
        }
      ]
    },
    {
      "cell_type": "markdown",
      "metadata": {
        "id": "IxhKxtj-KQ66"
      },
      "source": [
        "# Resampling\n",
        "**_series.resample(freq)_** is a class called \"DatetimeIndexResampler\" which groups data in a Series object into regular time intervals. The argument \"freq\" determines the length of each interval.\n",
        "\n",
        "**_series.resample.mean()_** is a complete statement that groups data into intervals, and then compute the mean of each interval. For example, if we want to aggregate the daily data into monthly data by mean:"
      ]
    },
    {
      "cell_type": "code",
      "metadata": {
        "colab": {
          "base_uri": "https://localhost:8080/"
        },
        "id": "rAV8NkHkHW93",
        "outputId": "f00024d4-4ae6-451a-afd5-bfb588f8b195"
      },
      "source": [
        "by_month = aapl.resample('M').mean()\n",
        "print(by_month)"
      ],
      "execution_count": 357,
      "outputs": [
        {
          "output_type": "stream",
          "name": "stdout",
          "text": [
            "Date\n",
            "2017-01-31    28.178332\n",
            "2017-02-28    31.606276\n",
            "2017-03-31    33.282218\n",
            "2017-04-30    33.819263\n",
            "2017-05-31    36.125683\n",
            "2017-06-30    35.133982\n",
            "2017-07-31    35.245241\n",
            "2017-08-31    37.897229\n",
            "2017-09-30    37.604736\n",
            "2017-10-31    37.654550\n",
            "2017-11-30    41.233916\n",
            "2017-12-31    41.160040\n",
            "Freq: M, Name: Close, dtype: float64\n"
          ]
        }
      ]
    },
    {
      "cell_type": "code",
      "metadata": {
        "colab": {
          "base_uri": "https://localhost:8080/"
        },
        "id": "t93El6A_dA_j",
        "outputId": "4f3bfc66-f281-49ce-e614-aa64ced6a5df"
      },
      "source": [
        "by_month = pfizer.resample('M').mean()\n",
        "print(by_month)"
      ],
      "execution_count": 359,
      "outputs": [
        {
          "output_type": "stream",
          "name": "stdout",
          "text": [
            "Date\n",
            "2017-01-31    25.579329\n",
            "2017-02-28    26.410610\n",
            "2017-03-31    27.439013\n",
            "2017-04-30    27.169161\n",
            "2017-05-31    26.438657\n",
            "2017-06-30    26.737751\n",
            "2017-07-31    26.937695\n",
            "2017-08-31    27.160662\n",
            "2017-09-30    28.660027\n",
            "2017-10-31    29.423453\n",
            "2017-11-30    29.160019\n",
            "2017-12-31    29.902643\n",
            "Freq: M, Name: Close, dtype: float64\n"
          ]
        }
      ]
    },
    {
      "cell_type": "markdown",
      "metadata": {
        "id": "QDPfVzBEKV6Q"
      },
      "source": [
        "We can also aggregate the data by week:"
      ]
    },
    {
      "cell_type": "code",
      "metadata": {
        "colab": {
          "base_uri": "https://localhost:8080/"
        },
        "id": "aAP3tKkBHW94",
        "outputId": "68c22e00-4bbe-4241-fdcd-337413fb5b1b"
      },
      "source": [
        "by_week = aapl.resample('W').mean()\n",
        "print(by_week.head())"
      ],
      "execution_count": 360,
      "outputs": [
        {
          "output_type": "stream",
          "name": "stdout",
          "text": [
            "Date\n",
            "2017-01-08    27.495495\n",
            "2017-01-15    28.097734\n",
            "2017-01-22    28.266118\n",
            "2017-01-29    28.553981\n",
            "2017-02-05    29.662542\n",
            "Freq: W-SUN, Name: Close, dtype: float64\n"
          ]
        }
      ]
    },
    {
      "cell_type": "code",
      "metadata": {
        "colab": {
          "base_uri": "https://localhost:8080/"
        },
        "id": "rF_oKEBxdOry",
        "outputId": "2bb77125-07a6-4236-d321-dddee894d36b"
      },
      "source": [
        "by_week = pfizer.resample('W').mean()\n",
        "print(by_week.head())"
      ],
      "execution_count": 361,
      "outputs": [
        {
          "output_type": "stream",
          "name": "stdout",
          "text": [
            "Date\n",
            "2017-01-08    26.429809\n",
            "2017-01-15    26.134159\n",
            "2017-01-22    25.276551\n",
            "2017-01-29    24.824759\n",
            "2017-02-05    25.284924\n",
            "Freq: W-SUN, Name: Close, dtype: float64\n"
          ]
        }
      ]
    },
    {
      "cell_type": "markdown",
      "metadata": {
        "id": "o_MXSVsILoBS"
      },
      "source": [
        "We can also aggregate the data by month with max:"
      ]
    },
    {
      "cell_type": "code",
      "metadata": {
        "colab": {
          "base_uri": "https://localhost:8080/"
        },
        "id": "gn0wqXBTHW95",
        "outputId": "e9676852-9351-4ee5-8d5e-e176315e49a6"
      },
      "source": [
        "aapl.resample('M').max()"
      ],
      "execution_count": 362,
      "outputs": [
        {
          "output_type": "execute_result",
          "data": {
            "text/plain": [
              "Date\n",
              "2017-01-31    28.739212\n",
              "2017-02-28    32.451965\n",
              "2017-03-31    34.111130\n",
              "2017-04-30    34.264977\n",
              "2017-05-31    37.099133\n",
              "2017-06-30    36.944649\n",
              "2017-07-31    36.471695\n",
              "2017-08-31    39.129719\n",
              "2017-09-30    39.141651\n",
              "2017-10-31    40.332249\n",
              "2017-11-30    42.050133\n",
              "2017-12-31    42.244411\n",
              "Freq: M, Name: Close, dtype: float64"
            ]
          },
          "metadata": {},
          "execution_count": 362
        }
      ]
    },
    {
      "cell_type": "code",
      "metadata": {
        "colab": {
          "base_uri": "https://localhost:8080/"
        },
        "id": "T_As3jlmdVqk",
        "outputId": "045a27e9-9065-42bd-f89f-353f3eaffa38"
      },
      "source": [
        "pfizer.resample('M').max()"
      ],
      "execution_count": 363,
      "outputs": [
        {
          "output_type": "execute_result",
          "data": {
            "text/plain": [
              "Date\n",
              "2017-01-31    26.639851\n",
              "2017-02-28    27.447720\n",
              "2017-03-31    27.727959\n",
              "2017-04-30    27.495760\n",
              "2017-05-31    27.047373\n",
              "2017-06-30    27.624464\n",
              "2017-07-31    27.341516\n",
              "2017-08-31    27.690220\n",
              "2017-09-30    29.380041\n",
              "2017-10-31    29.755554\n",
              "2017-11-30    29.870932\n",
              "2017-12-31    30.645296\n",
              "Freq: M, Name: Close, dtype: float64"
            ]
          },
          "metadata": {},
          "execution_count": 363
        }
      ]
    },
    {
      "cell_type": "markdown",
      "metadata": {
        "id": "Z8r46UFlLdAh"
      },
      "source": [
        "We can choose almost any frequency by using the format 'nf', where 'n' is an integer and 'f' is M for month, W for week and D for day."
      ]
    },
    {
      "cell_type": "code",
      "metadata": {
        "colab": {
          "base_uri": "https://localhost:8080/"
        },
        "id": "kdVB_-JFHW96",
        "outputId": "ec0eda71-7598-4eac-ae90-84e03f344d4f"
      },
      "source": [
        "three_day = aapl.resample('3D').mean()\n",
        "two_week = aapl.resample('2W').mean()\n",
        "two_month = aapl.resample('2M').mean()\n",
        "\n",
        "\n",
        "print(three_day)\n",
        "print(two_week)\n",
        "print(two_month )"
      ],
      "execution_count": 364,
      "outputs": [
        {
          "output_type": "stream",
          "name": "stdout",
          "text": [
            "Date\n",
            "2017-01-03    27.398283\n",
            "2017-01-06    27.787130\n",
            "2017-01-09    28.110773\n",
            "2017-01-12    28.078176\n",
            "2017-01-15    28.279671\n",
            "                ...    \n",
            "2017-12-17    42.019323\n",
            "2017-12-20    41.854093\n",
            "2017-12-23          NaN\n",
            "2017-12-26    40.886705\n",
            "2017-12-29    40.522728\n",
            "Freq: 3D, Name: Close, Length: 121, dtype: float64\n",
            "Date\n",
            "2017-01-08    27.495495\n",
            "2017-01-22    28.172572\n",
            "2017-02-05    29.108261\n",
            "2017-02-19    31.516817\n",
            "2017-03-05    32.595557\n",
            "2017-03-19    33.017884\n",
            "2017-04-02    33.625213\n",
            "2017-04-16    33.849728\n",
            "2017-04-30    33.791844\n",
            "2017-05-14    35.697629\n",
            "2017-05-28    36.496178\n",
            "2017-06-11    36.515007\n",
            "2017-06-25    34.529043\n",
            "2017-07-09    34.265135\n",
            "2017-07-23    35.278870\n",
            "2017-08-06    36.272775\n",
            "2017-08-20    37.904120\n",
            "2017-09-03    38.458792\n",
            "2017-09-17    38.282706\n",
            "2017-10-01    36.840872\n",
            "2017-10-15    37.071596\n",
            "2017-10-29    37.757320\n",
            "2017-11-12    41.032237\n",
            "2017-11-26    41.204379\n",
            "2017-12-10    40.867068\n",
            "2017-12-24    41.620868\n",
            "2018-01-07    40.795711\n",
            "Freq: 2W-SUN, Name: Close, dtype: float64\n",
            "Date\n",
            "2017-01-31    28.178332\n",
            "2017-03-31    32.524054\n",
            "2017-05-31    35.056854\n",
            "2017-07-31    35.186962\n",
            "2017-09-30    37.761186\n",
            "2017-11-30    39.402612\n",
            "2018-01-31    41.160040\n",
            "Freq: 2M, Name: Close, dtype: float64\n"
          ]
        }
      ]
    },
    {
      "cell_type": "code",
      "metadata": {
        "colab": {
          "base_uri": "https://localhost:8080/"
        },
        "id": "rq7rjxVceWFZ",
        "outputId": "452c4259-de8b-440e-e0f8-d8af23c84ad9"
      },
      "source": [
        "three_day = pfizer.resample('3D').mean()\n",
        "two_week = pfizer.resample('2W').mean()\n",
        "two_month = pfizer.resample('2M').mean()\n",
        "\n",
        "\n",
        "print(three_day)\n",
        "print(two_week)\n",
        "print(two_month )"
      ],
      "execution_count": 365,
      "outputs": [
        {
          "output_type": "stream",
          "name": "stdout",
          "text": [
            "Date\n",
            "2017-01-03    26.394140\n",
            "2017-01-06    26.536814\n",
            "2017-01-09    26.351863\n",
            "2017-01-12    25.807602\n",
            "2017-01-15    25.411299\n",
            "                ...    \n",
            "2017-12-17    30.509372\n",
            "2017-12-20    29.887405\n",
            "2017-12-23          NaN\n",
            "2017-12-26    29.906626\n",
            "2017-12-29    29.837975\n",
            "Freq: 3D, Name: Close, Length: 121, dtype: float64\n",
            "Date\n",
            "2017-01-08    26.429809\n",
            "2017-01-22    25.753000\n",
            "2017-02-05    25.054841\n",
            "2017-02-19    26.205845\n",
            "2017-03-05    27.346297\n",
            "2017-03-19    27.393270\n",
            "2017-04-02    27.433303\n",
            "2017-04-16    27.290249\n",
            "2017-04-30    27.060182\n",
            "2017-05-14    26.795876\n",
            "2017-05-28    26.132081\n",
            "2017-06-11    26.136933\n",
            "2017-06-25    26.892016\n",
            "2017-07-09    27.200483\n",
            "2017-07-23    26.982562\n",
            "2017-08-06    26.894176\n",
            "2017-08-20    27.133474\n",
            "2017-09-03    27.271436\n",
            "2017-09-17    28.274352\n",
            "2017-10-01    29.100850\n",
            "2017-10-15    29.543305\n",
            "2017-10-29    29.456775\n",
            "2017-11-12    28.859468\n",
            "2017-11-26    29.178938\n",
            "2017-12-10    29.545526\n",
            "2017-12-24    30.151020\n",
            "2018-01-07    29.889463\n",
            "Freq: 2W-SUN, Name: Close, dtype: float64\n",
            "Date\n",
            "2017-01-31    25.579329\n",
            "2017-03-31    26.973783\n",
            "2017-05-31    26.777183\n",
            "2017-07-31    26.832962\n",
            "2017-09-30    27.858041\n",
            "2017-11-30    29.294799\n",
            "2018-01-31    29.902643\n",
            "Freq: 2M, Name: Close, dtype: float64\n"
          ]
        }
      ]
    },
    {
      "cell_type": "markdown",
      "metadata": {
        "id": "iy4RqsnwL-Bw"
      },
      "source": [
        "Besides the mean() method, other methods can also be used with the resampler:\n",
        "\n"
      ]
    },
    {
      "cell_type": "code",
      "metadata": {
        "colab": {
          "base_uri": "https://localhost:8080/"
        },
        "id": "DNT8Fx9dHW96",
        "outputId": "7bf1b392-598b-49a9-8378-41bb880300da"
      },
      "source": [
        "std = aapl.resample('W').std()\n",
        "max = aapl.resample('W').max()\n",
        "min = aapl.resample('W').min()\n",
        "\n",
        "\n",
        "print(std)\n",
        "print(max)\n",
        "print(min)"
      ],
      "execution_count": 366,
      "outputs": [
        {
          "output_type": "stream",
          "name": "stdout",
          "text": [
            "Date\n",
            "2017-01-08    0.203368\n",
            "2017-01-15    0.072528\n",
            "2017-01-22    0.025557\n",
            "2017-01-29    0.245285\n",
            "2017-02-05    0.943260\n",
            "2017-02-12    0.252004\n",
            "2017-02-19    0.231393\n",
            "2017-02-26    0.059341\n",
            "2017-03-05    0.340093\n",
            "2017-03-12    0.076284\n",
            "2017-03-19    0.177837\n",
            "2017-03-26    0.157264\n",
            "2017-04-02    0.319807\n",
            "2017-04-09    0.128687\n",
            "2017-04-16    0.212477\n",
            "2017-04-23    0.174674\n",
            "2017-04-30    0.090026\n",
            "2017-05-07    0.235639\n",
            "2017-05-14    0.352984\n",
            "2017-05-21    0.536096\n",
            "2017-05-28    0.060388\n",
            "2017-06-04    0.281223\n",
            "2017-06-11    0.620038\n",
            "2017-06-18    0.382566\n",
            "2017-06-25    0.128894\n",
            "2017-07-02    0.264110\n",
            "2017-07-09    0.158891\n",
            "2017-07-16    0.404278\n",
            "2017-07-23    0.124991\n",
            "2017-07-30    0.384441\n",
            "2017-08-06    0.924390\n",
            "2017-08-13    0.467466\n",
            "2017-08-20    0.435253\n",
            "2017-08-27    0.275763\n",
            "2017-09-03    0.251728\n",
            "2017-09-10    0.381640\n",
            "2017-09-17    0.294139\n",
            "2017-09-24    0.735194\n",
            "2017-10-01    0.354845\n",
            "2017-10-08    0.204858\n",
            "2017-10-15    0.118729\n",
            "2017-10-22    0.516999\n",
            "2017-10-29    0.680457\n",
            "2017-11-05    0.560684\n",
            "2017-11-12    0.190970\n",
            "2017-11-19    0.436197\n",
            "2017-11-26    0.563046\n",
            "2017-12-03    0.427449\n",
            "2017-12-10    0.073131\n",
            "2017-12-17    0.205263\n",
            "2017-12-24    0.194127\n",
            "2017-12-31    0.190396\n",
            "Freq: W-SUN, Name: Close, dtype: float64\n",
            "Date\n",
            "2017-01-08    27.787130\n",
            "2017-01-15    28.220749\n",
            "2017-01-22    28.279671\n",
            "2017-01-29    28.739212\n",
            "2017-02-05    30.419495\n",
            "2017-02-12    31.341911\n",
            "2017-02-19    32.122974\n",
            "2017-02-26    32.451965\n",
            "2017-03-05    33.086285\n",
            "2017-03-12    33.022381\n",
            "2017-03-19    33.299301\n",
            "2017-03-26    33.481544\n",
            "2017-04-02    34.111130\n",
            "2017-04-09    34.264977\n",
            "2017-04-16    33.886284\n",
            "2017-04-23    33.713505\n",
            "2017-04-30    34.208179\n",
            "2017-05-07    35.256691\n",
            "2017-05-14    37.099133\n",
            "2017-05-21    37.004066\n",
            "2017-05-28    36.597652\n",
            "2017-06-04    36.944649\n",
            "2017-06-11    36.925636\n",
            "2017-06-18    34.838955\n",
            "2017-06-25    34.779537\n",
            "2017-07-02    34.658337\n",
            "2017-07-09    34.266193\n",
            "2017-07-16    35.421223\n",
            "2017-07-23    35.891804\n",
            "2017-07-30    36.471695\n",
            "2017-08-06    37.346294\n",
            "2017-08-13    38.277935\n",
            "2017-08-20    38.557091\n",
            "2017-08-27    38.170563\n",
            "2017-09-03    39.141651\n",
            "2017-09-10    38.671616\n",
            "2017-09-17    38.533230\n",
            "2017-09-24    37.872326\n",
            "2017-10-01    36.798634\n",
            "2017-10-08    37.075417\n",
            "2017-10-15    37.457165\n",
            "2017-10-22    38.287479\n",
            "2017-10-29    38.903061\n",
            "2017-11-05    41.157787\n",
            "2017-11-12    42.050133\n",
            "2017-11-19    41.657742\n",
            "2017-11-26    41.897198\n",
            "2017-12-03    41.686478\n",
            "2017-12-10    40.659225\n",
            "2017-12-17    41.657742\n",
            "2017-12-24    42.244411\n",
            "2017-12-31    40.965725\n",
            "Freq: W-SUN, Name: Close, dtype: float64\n",
            "Date\n",
            "2017-01-08    27.341724\n",
            "2017-01-15    28.041643\n",
            "2017-01-22    28.227819\n",
            "2017-01-29    28.272600\n",
            "2017-02-05    28.597813\n",
            "2017-02-12    30.704643\n",
            "2017-02-19    31.547829\n",
            "2017-02-26    32.314697\n",
            "2017-03-05    32.409367\n",
            "2017-03-12    32.823566\n",
            "2017-03-19    32.896935\n",
            "2017-03-26    33.098110\n",
            "2017-04-02    33.344269\n",
            "2017-04-09    33.926521\n",
            "2017-04-16    33.384510\n",
            "2017-04-23    33.296932\n",
            "2017-04-30    33.997524\n",
            "2017-05-07    34.681545\n",
            "2017-05-14    36.215256\n",
            "2017-05-21    35.708794\n",
            "2017-05-28    36.443184\n",
            "2017-06-04    36.305336\n",
            "2017-06-11    35.406963\n",
            "2017-06-18    33.812252\n",
            "2017-06-25    34.463448\n",
            "2017-07-02    34.147358\n",
            "2017-07-09    33.921581\n",
            "2017-07-16    34.475334\n",
            "2017-07-23    35.544807\n",
            "2017-07-30    35.530560\n",
            "2017-08-06    35.347549\n",
            "2017-08-13    37.058720\n",
            "2017-08-20    37.578846\n",
            "2017-08-27    37.509666\n",
            "2017-09-03    38.526066\n",
            "2017-09-10    37.848457\n",
            "2017-09-17    37.764954\n",
            "2017-09-24    36.240322\n",
            "2017-10-01    35.920609\n",
            "2017-10-08    36.619690\n",
            "2017-10-15    37.182781\n",
            "2017-10-22    37.216175\n",
            "2017-10-29    37.261513\n",
            "2017-11-05    39.778706\n",
            "2017-11-12    41.575333\n",
            "2017-11-19    40.486816\n",
            "2017-11-26    40.702324\n",
            "2017-12-03    40.582584\n",
            "2017-12-10    40.470055\n",
            "2017-12-17    41.114185\n",
            "2017-12-24    41.748734\n",
            "2017-12-31    40.522728\n",
            "Freq: W-SUN, Name: Close, dtype: float64\n"
          ]
        }
      ]
    },
    {
      "cell_type": "code",
      "metadata": {
        "colab": {
          "base_uri": "https://localhost:8080/"
        },
        "id": "4TXWSGgKegAi",
        "outputId": "51425a31-3da6-4a3c-8f0f-91d83e2281ee"
      },
      "source": [
        "std = pfizer.resample('W').std()\n",
        "max = pfizer.resample('W').max()\n",
        "min = pfizer.resample('W').min()\n",
        "\n",
        "\n",
        "print(std)\n",
        "print(max)\n",
        "print(min)"
      ],
      "execution_count": 368,
      "outputs": [
        {
          "output_type": "stream",
          "name": "stdout",
          "text": [
            "Date\n",
            "2017-01-08    0.209956\n",
            "2017-01-15    0.361027\n",
            "2017-01-22    0.143989\n",
            "2017-01-29    0.097883\n",
            "2017-02-05    0.325911\n",
            "2017-02-12    0.103874\n",
            "2017-02-19    0.399761\n",
            "2017-02-26    0.264947\n",
            "2017-03-05    0.135880\n",
            "2017-03-12    0.133789\n",
            "2017-03-19    0.160077\n",
            "2017-03-26    0.141813\n",
            "2017-04-02    0.070397\n",
            "2017-04-09    0.079385\n",
            "2017-04-16    0.054842\n",
            "2017-04-23    0.127308\n",
            "2017-04-30    0.059811\n",
            "2017-05-07    0.111438\n",
            "2017-05-14    0.037087\n",
            "2017-05-21    0.298116\n",
            "2017-05-28    0.034489\n",
            "2017-06-04    0.211267\n",
            "2017-06-11    0.314691\n",
            "2017-06-18    0.119226\n",
            "2017-06-25    0.313753\n",
            "2017-07-02    0.142522\n",
            "2017-07-09    0.220256\n",
            "2017-07-16    0.092776\n",
            "2017-07-23    0.118541\n",
            "2017-07-30    0.130783\n",
            "2017-08-06    0.320074\n",
            "2017-08-13    0.071959\n",
            "2017-08-20    0.255464\n",
            "2017-08-27    0.193235\n",
            "2017-09-03    0.209484\n",
            "2017-09-10    0.101741\n",
            "2017-09-17    0.432791\n",
            "2017-09-24    0.213781\n",
            "2017-10-01    0.123722\n",
            "2017-10-08    0.056146\n",
            "2017-10-15    0.096349\n",
            "2017-10-22    0.188607\n",
            "2017-10-29    0.282879\n",
            "2017-11-05    0.168154\n",
            "2017-11-12    0.077786\n",
            "2017-11-19    0.080629\n",
            "2017-11-26    0.067391\n",
            "2017-12-03    0.294638\n",
            "2017-12-10    0.182205\n",
            "2017-12-17    0.300455\n",
            "2017-12-24    0.358063\n",
            "2017-12-31    0.065692\n",
            "Freq: W-SUN, Name: Close, dtype: float64\n",
            "Date\n",
            "2017-01-08    26.639851\n",
            "2017-01-15    26.528883\n",
            "2017-01-22    25.411299\n",
            "2017-01-29    24.935726\n",
            "2017-02-05    25.694202\n",
            "2017-02-12    25.926407\n",
            "2017-02-19    26.919258\n",
            "2017-02-26    27.431704\n",
            "2017-03-05    27.639879\n",
            "2017-03-12    27.503761\n",
            "2017-03-19    27.727959\n",
            "2017-03-26    27.599844\n",
            "2017-04-02    27.503761\n",
            "2017-04-09    27.495760\n",
            "2017-04-16    27.255548\n",
            "2017-04-23    27.223526\n",
            "2017-04-30    27.159468\n",
            "2017-05-07    27.047373\n",
            "2017-05-14    26.783142\n",
            "2017-05-21    26.775600\n",
            "2017-05-28    25.999498\n",
            "2017-06-04    26.444139\n",
            "2017-06-11    26.492647\n",
            "2017-06-18    26.654331\n",
            "2017-06-25    27.624464\n",
            "2017-07-02    27.519363\n",
            "2017-07-09    27.341516\n",
            "2017-07-16    27.026220\n",
            "2017-07-23    27.179821\n",
            "2017-07-30    26.937290\n",
            "2017-08-06    27.461649\n",
            "2017-08-13    27.306538\n",
            "2017-08-20    27.249392\n",
            "2017-08-27    27.257561\n",
            "2017-09-03    27.722874\n",
            "2017-09-10    27.837152\n",
            "2017-09-17    29.167791\n",
            "2017-09-24    29.380041\n",
            "2017-10-01    29.143295\n",
            "2017-10-08    29.502489\n",
            "2017-10-15    29.755554\n",
            "2017-10-22    29.731062\n",
            "2017-10-29    29.714735\n",
            "2017-11-05    29.020851\n",
            "2017-11-12    28.997696\n",
            "2017-11-19    29.294268\n",
            "2017-11-26    29.277794\n",
            "2017-12-03    29.945068\n",
            "2017-12-10    29.706161\n",
            "2017-12-17    30.645296\n",
            "2017-12-24    30.587631\n",
            "2017-12-31    29.961544\n",
            "Freq: W-SUN, Name: Close, dtype: float64\n",
            "Date\n",
            "2017-01-08    26.156357\n",
            "2017-01-15    25.775896\n",
            "2017-01-22    25.125948\n",
            "2017-01-29    24.690010\n",
            "2017-02-05    24.816830\n",
            "2017-02-12    25.686197\n",
            "2017-02-19    26.110561\n",
            "2017-02-26    26.895237\n",
            "2017-03-05    27.319609\n",
            "2017-03-12    27.151461\n",
            "2017-03-19    27.311605\n",
            "2017-03-26    27.223526\n",
            "2017-04-02    27.351633\n",
            "2017-04-09    27.303591\n",
            "2017-04-16    27.127443\n",
            "2017-04-23    26.911253\n",
            "2017-04-30    27.015341\n",
            "2017-05-07    26.783142\n",
            "2017-05-14    26.686676\n",
            "2017-05-21    26.048004\n",
            "2017-05-28    25.910570\n",
            "2017-06-04    25.975245\n",
            "2017-06-11    25.668036\n",
            "2017-06-18    26.339045\n",
            "2017-06-25    26.856449\n",
            "2017-07-02    27.155569\n",
            "2017-07-09    26.856449\n",
            "2017-07-16    26.816023\n",
            "2017-07-23    26.880695\n",
            "2017-07-30    26.589661\n",
            "2017-08-06    26.743261\n",
            "2017-08-13    27.143269\n",
            "2017-08-20    26.669792\n",
            "2017-08-27    26.743261\n",
            "2017-09-03    27.306538\n",
            "2017-09-10    27.592257\n",
            "2017-09-17    28.016752\n",
            "2017-09-24    28.939213\n",
            "2017-10-01    28.816767\n",
            "2017-10-08    29.355543\n",
            "2017-10-15    29.502489\n",
            "2017-10-22    29.249424\n",
            "2017-10-29    29.061672\n",
            "2017-11-05    28.620838\n",
            "2017-11-12    28.833094\n",
            "2017-11-19    29.080088\n",
            "2017-11-26    29.121267\n",
            "2017-12-03    29.236603\n",
            "2017-12-10    29.244835\n",
            "2017-12-17    29.829733\n",
            "2017-12-24    29.772078\n",
            "2017-12-31    29.829733\n",
            "Freq: W-SUN, Name: Close, dtype: float64\n"
          ]
        }
      ]
    },
    {
      "cell_type": "markdown",
      "metadata": {
        "id": "uqln0s5DMI3I"
      },
      "source": [
        "Often we want to calculate monthly returns of a stock, based on prices on the last day of each month. To fetch those prices, we use the series.resample.agg() method:"
      ]
    },
    {
      "cell_type": "code",
      "metadata": {
        "colab": {
          "base_uri": "https://localhost:8080/"
        },
        "id": "A6FSYvqbHW97",
        "outputId": "0983bd39-21b3-408a-fadc-792687296d96"
      },
      "source": [
        "last_day = aapl.resample('M').agg(lambda x: x[-1])\n",
        "print(last_day)"
      ],
      "execution_count": 386,
      "outputs": [
        {
          "output_type": "stream",
          "name": "stdout",
          "text": [
            "Date\n",
            "2017-01-31    28.597813\n",
            "2017-02-28    32.423557\n",
            "2017-03-31    34.002254\n",
            "2017-04-30    33.999893\n",
            "2017-05-31    36.305336\n",
            "2017-06-30    34.228168\n",
            "2017-07-31    35.347549\n",
            "2017-08-31    39.129719\n",
            "2017-09-30    36.772404\n",
            "2017-10-31    40.332249\n",
            "2017-11-30    41.150101\n",
            "2017-12-31    40.522728\n",
            "Freq: M, Name: Close, dtype: float64\n"
          ]
        }
      ]
    },
    {
      "cell_type": "code",
      "metadata": {
        "colab": {
          "base_uri": "https://localhost:8080/"
        },
        "id": "2MZooIR-ez1K",
        "outputId": "2974d11f-2768-4f84-cca5-aa3f5cd795de"
      },
      "source": [
        "pfizer_last_day = pfizer.resample('M').agg(lambda x: x[-1])\n",
        "print(pfizer_last_day)"
      ],
      "execution_count": 379,
      "outputs": [
        {
          "output_type": "stream",
          "name": "stdout",
          "text": [
            "Date\n",
            "2017-01-31    25.149733\n",
            "2017-02-28    27.319609\n",
            "2017-03-31    27.391668\n",
            "2017-04-30    27.159468\n",
            "2017-05-31    26.395636\n",
            "2017-06-30    27.155569\n",
            "2017-07-31    26.807940\n",
            "2017-08-31    27.690220\n",
            "2017-09-30    29.143295\n",
            "2017-10-31    28.620838\n",
            "2017-11-30    29.870932\n",
            "2017-12-31    29.837975\n",
            "Freq: M, Name: Close, dtype: float64\n"
          ]
        }
      ]
    },
    {
      "cell_type": "markdown",
      "metadata": {
        "id": "uwomY3aXMR46"
      },
      "source": [
        "Or directly calculate the monthly rates of return using the data for the first day and the last day:"
      ]
    },
    {
      "cell_type": "code",
      "metadata": {
        "colab": {
          "base_uri": "https://localhost:8080/"
        },
        "id": "qK2NMJrNHW96",
        "outputId": "f910e1d7-b3d7-446f-cf4c-06f80f457c5e"
      },
      "source": [
        "monthly_return = aapl.resample('M').agg(lambda x: x[-1]/x[0] - 1)\n",
        "print(monthly_return)"
      ],
      "execution_count": 380,
      "outputs": [
        {
          "output_type": "stream",
          "name": "stdout",
          "text": [
            "Date\n",
            "2017-01-31    0.044770\n",
            "2017-02-28    0.068613\n",
            "2017-03-31    0.027684\n",
            "2017-04-30   -0.000348\n",
            "2017-05-31    0.046463\n",
            "2017-06-30   -0.059799\n",
            "2017-07-31    0.036446\n",
            "2017-08-31    0.097261\n",
            "2017-09-30   -0.060530\n",
            "2017-10-31    0.099018\n",
            "2017-11-30    0.033422\n",
            "2017-12-31   -0.010640\n",
            "Freq: M, Name: Close, dtype: float64\n"
          ]
        }
      ]
    },
    {
      "cell_type": "code",
      "metadata": {
        "colab": {
          "base_uri": "https://localhost:8080/"
        },
        "id": "XHYq8cP0e4uC",
        "outputId": "ac6c803e-6da3-41f7-afa3-4a881964cfcc"
      },
      "source": [
        "pfizer_monthly_return = pfizer.resample('M').agg(lambda x: x[-1]/x[0] - 1)\n",
        "print(pfizer_monthly_return)"
      ],
      "execution_count": 381,
      "outputs": [
        {
          "output_type": "stream",
          "name": "stdout",
          "text": [
            "Date\n",
            "2017-01-31   -0.038485\n",
            "2017-02-28    0.077361\n",
            "2017-03-31   -0.006101\n",
            "2017-04-30   -0.009346\n",
            "2017-05-31   -0.024096\n",
            "2017-06-30    0.026903\n",
            "2017-07-31   -0.019515\n",
            "2017-08-31    0.035409\n",
            "2017-09-30    0.051236\n",
            "2017-10-31   -0.028001\n",
            "2017-11-30    0.037758\n",
            "2017-12-31   -0.003576\n",
            "Freq: M, Name: Close, dtype: float64\n"
          ]
        }
      ]
    },
    {
      "cell_type": "markdown",
      "metadata": {
        "id": "_DYbMTFWMj8J"
      },
      "source": [
        "Series object also provides us some convenient methods to do some quick calculation."
      ]
    },
    {
      "cell_type": "code",
      "metadata": {
        "colab": {
          "base_uri": "https://localhost:8080/"
        },
        "id": "1Mxc0HwvHW98",
        "outputId": "0fba22e3-252b-486c-be6d-6bd9f44976d7"
      },
      "source": [
        "print(monthly_return.mean())\n",
        "print(monthly_return.std())\n",
        "print(monthly_return.max())"
      ],
      "execution_count": 382,
      "outputs": [
        {
          "output_type": "stream",
          "name": "stdout",
          "text": [
            "0.026863288256890983\n",
            "0.052258425158343995\n",
            "0.09901828159987969\n"
          ]
        }
      ]
    },
    {
      "cell_type": "code",
      "metadata": {
        "colab": {
          "base_uri": "https://localhost:8080/"
        },
        "id": "cjSWsFVbgBaF",
        "outputId": "8f7d552b-3a47-4592-a5c2-90557f737e0d"
      },
      "source": [
        "print(pfizer_monthly_return.mean())\n",
        "print(pfizer_monthly_return.std())\n",
        "print(pfizer_monthly_return.max())"
      ],
      "execution_count": 383,
      "outputs": [
        {
          "output_type": "stream",
          "name": "stdout",
          "text": [
            "0.008295524170206514\n",
            "0.03637091661300787\n",
            "0.07736066121869034\n"
          ]
        }
      ]
    },
    {
      "cell_type": "markdown",
      "metadata": {
        "id": "mn59J5dqMpqX"
      },
      "source": [
        "Another two methods frequently used on Series are .diff() and .pct_change(). The former calculates the difference between consecutive elements, and the latter calculates the percentage change."
      ]
    },
    {
      "cell_type": "code",
      "metadata": {
        "colab": {
          "base_uri": "https://localhost:8080/"
        },
        "id": "DupZTSqqHW99",
        "outputId": "f190b912-3f5f-47c8-96a4-59c16a34681c"
      },
      "source": [
        "print(last_day.diff())\n",
        "print(last_day.pct_change())"
      ],
      "execution_count": 387,
      "outputs": [
        {
          "output_type": "stream",
          "name": "stdout",
          "text": [
            "Date\n",
            "2017-01-31         NaN\n",
            "2017-02-28    3.825745\n",
            "2017-03-31    1.578697\n",
            "2017-04-30   -0.002361\n",
            "2017-05-31    2.305443\n",
            "2017-06-30   -2.077168\n",
            "2017-07-31    1.119381\n",
            "2017-08-31    3.782169\n",
            "2017-09-30   -2.357315\n",
            "2017-10-31    3.559845\n",
            "2017-11-30    0.817852\n",
            "2017-12-31   -0.627373\n",
            "Freq: M, Name: Close, dtype: float64\n",
            "Date\n",
            "2017-01-31         NaN\n",
            "2017-02-28    0.133778\n",
            "2017-03-31    0.048690\n",
            "2017-04-30   -0.000069\n",
            "2017-05-31    0.067807\n",
            "2017-06-30   -0.057214\n",
            "2017-07-31    0.032704\n",
            "2017-08-31    0.106999\n",
            "2017-09-30   -0.060244\n",
            "2017-10-31    0.096808\n",
            "2017-11-30    0.020278\n",
            "2017-12-31   -0.015246\n",
            "Freq: M, Name: Close, dtype: float64\n"
          ]
        }
      ]
    },
    {
      "cell_type": "code",
      "metadata": {
        "colab": {
          "base_uri": "https://localhost:8080/"
        },
        "id": "xF-1-tFKgalu",
        "outputId": "dc569ddd-3083-4a49-fcc4-161093311797"
      },
      "source": [
        "print(pfizer_last_day.diff())\n",
        "print(pfizer_last_day.pct_change())"
      ],
      "execution_count": 388,
      "outputs": [
        {
          "output_type": "stream",
          "name": "stdout",
          "text": [
            "Date\n",
            "2017-01-31         NaN\n",
            "2017-02-28    2.169876\n",
            "2017-03-31    0.072060\n",
            "2017-04-30   -0.232201\n",
            "2017-05-31   -0.763832\n",
            "2017-06-30    0.759933\n",
            "2017-07-31   -0.347630\n",
            "2017-08-31    0.882280\n",
            "2017-09-30    1.453075\n",
            "2017-10-31   -0.522457\n",
            "2017-11-30    1.250093\n",
            "2017-12-31   -0.032957\n",
            "Freq: M, Name: Close, dtype: float64\n",
            "Date\n",
            "2017-01-31         NaN\n",
            "2017-02-28    0.086278\n",
            "2017-03-31    0.002638\n",
            "2017-04-30   -0.008477\n",
            "2017-05-31   -0.028124\n",
            "2017-06-30    0.028790\n",
            "2017-07-31   -0.012801\n",
            "2017-08-31    0.032911\n",
            "2017-09-30    0.052476\n",
            "2017-10-31   -0.017927\n",
            "2017-11-30    0.043678\n",
            "2017-12-31   -0.001103\n",
            "Freq: M, Name: Close, dtype: float64\n"
          ]
        }
      ]
    },
    {
      "cell_type": "markdown",
      "metadata": {
        "id": "RaMAOFepM6Io"
      },
      "source": [
        "Notice that we induced a NaN value while calculating percentage changes i.e. returns.\n",
        "\n",
        "When dealing with NaN values, we usually either removing the data point or fill it with a specific value. Here we fill it with 0:"
      ]
    },
    {
      "cell_type": "code",
      "metadata": {
        "colab": {
          "base_uri": "https://localhost:8080/"
        },
        "id": "-xyLb3A3HW99",
        "outputId": "c24f083d-64cd-4546-e4b2-9ddc92e4ab68"
      },
      "source": [
        "daily_return = last_day.pct_change()\n",
        "print(daily_return.fillna(0))"
      ],
      "execution_count": 389,
      "outputs": [
        {
          "output_type": "stream",
          "name": "stdout",
          "text": [
            "Date\n",
            "2017-01-31    0.000000\n",
            "2017-02-28    0.133778\n",
            "2017-03-31    0.048690\n",
            "2017-04-30   -0.000069\n",
            "2017-05-31    0.067807\n",
            "2017-06-30   -0.057214\n",
            "2017-07-31    0.032704\n",
            "2017-08-31    0.106999\n",
            "2017-09-30   -0.060244\n",
            "2017-10-31    0.096808\n",
            "2017-11-30    0.020278\n",
            "2017-12-31   -0.015246\n",
            "Freq: M, Name: Close, dtype: float64\n"
          ]
        }
      ]
    },
    {
      "cell_type": "code",
      "metadata": {
        "colab": {
          "base_uri": "https://localhost:8080/"
        },
        "id": "AYkdc6kdgqVN",
        "outputId": "0985820d-5d59-462f-a336-852e1d26f6a7"
      },
      "source": [
        "pfizer_daily_return = pfizer_last_day.pct_change()\n",
        "print(pfizer_daily_return.fillna(0))"
      ],
      "execution_count": 390,
      "outputs": [
        {
          "output_type": "stream",
          "name": "stdout",
          "text": [
            "Date\n",
            "2017-01-31    0.000000\n",
            "2017-02-28    0.086278\n",
            "2017-03-31    0.002638\n",
            "2017-04-30   -0.008477\n",
            "2017-05-31   -0.028124\n",
            "2017-06-30    0.028790\n",
            "2017-07-31   -0.012801\n",
            "2017-08-31    0.032911\n",
            "2017-09-30    0.052476\n",
            "2017-10-31   -0.017927\n",
            "2017-11-30    0.043678\n",
            "2017-12-31   -0.001103\n",
            "Freq: M, Name: Close, dtype: float64\n"
          ]
        }
      ]
    },
    {
      "cell_type": "markdown",
      "metadata": {
        "id": "BYS10Om1NQVC"
      },
      "source": [
        "Alternatively, we can fill a NaN with the next fitted value. This is called 'backward fill', or 'bfill' in short:"
      ]
    },
    {
      "cell_type": "code",
      "metadata": {
        "colab": {
          "base_uri": "https://localhost:8080/"
        },
        "id": "J513kHeKHW9-",
        "outputId": "99b3d5f9-8408-481d-8cb7-3daa47a17244"
      },
      "source": [
        "daily_return = last_day.pct_change()\n",
        "print(daily_return.fillna(method = 'bfill'))"
      ],
      "execution_count": 391,
      "outputs": [
        {
          "output_type": "stream",
          "name": "stdout",
          "text": [
            "Date\n",
            "2017-01-31    0.133778\n",
            "2017-02-28    0.133778\n",
            "2017-03-31    0.048690\n",
            "2017-04-30   -0.000069\n",
            "2017-05-31    0.067807\n",
            "2017-06-30   -0.057214\n",
            "2017-07-31    0.032704\n",
            "2017-08-31    0.106999\n",
            "2017-09-30   -0.060244\n",
            "2017-10-31    0.096808\n",
            "2017-11-30    0.020278\n",
            "2017-12-31   -0.015246\n",
            "Freq: M, Name: Close, dtype: float64\n"
          ]
        }
      ]
    },
    {
      "cell_type": "code",
      "metadata": {
        "colab": {
          "base_uri": "https://localhost:8080/"
        },
        "id": "JT8A6bwIg7qU",
        "outputId": "254087cf-3224-4d3f-e234-0ac2fac4e920"
      },
      "source": [
        "pfizer_daily_return = pfizer_last_day.pct_change()\n",
        "print(pfizer_daily_return.fillna(method = 'bfill'))"
      ],
      "execution_count": 392,
      "outputs": [
        {
          "output_type": "stream",
          "name": "stdout",
          "text": [
            "Date\n",
            "2017-01-31    0.086278\n",
            "2017-02-28    0.086278\n",
            "2017-03-31    0.002638\n",
            "2017-04-30   -0.008477\n",
            "2017-05-31   -0.028124\n",
            "2017-06-30    0.028790\n",
            "2017-07-31   -0.012801\n",
            "2017-08-31    0.032911\n",
            "2017-09-30    0.052476\n",
            "2017-10-31   -0.017927\n",
            "2017-11-30    0.043678\n",
            "2017-12-31   -0.001103\n",
            "Freq: M, Name: Close, dtype: float64\n"
          ]
        }
      ]
    },
    {
      "cell_type": "markdown",
      "metadata": {
        "id": "bj8QUSgdNepf"
      },
      "source": [
        "As expected, since there is a 'backward fill' method, there must be a 'forward fill' method, or 'ffill' in short. However we can't use it here because the NaN is the first value.\n",
        "\n",
        "We can also simply remove NaN values by **_.dropna()_**"
      ]
    },
    {
      "cell_type": "code",
      "metadata": {
        "colab": {
          "base_uri": "https://localhost:8080/"
        },
        "id": "WG5ux1lqHW9-",
        "outputId": "ee000dc7-f730-4f64-a85b-bcf200f37c21"
      },
      "source": [
        "daily_return = last_day.pct_change()\n",
        "daily_return.dropna()"
      ],
      "execution_count": 393,
      "outputs": [
        {
          "output_type": "execute_result",
          "data": {
            "text/plain": [
              "Date\n",
              "2017-02-28    0.133778\n",
              "2017-03-31    0.048690\n",
              "2017-04-30   -0.000069\n",
              "2017-05-31    0.067807\n",
              "2017-06-30   -0.057214\n",
              "2017-07-31    0.032704\n",
              "2017-08-31    0.106999\n",
              "2017-09-30   -0.060244\n",
              "2017-10-31    0.096808\n",
              "2017-11-30    0.020278\n",
              "2017-12-31   -0.015246\n",
              "Freq: M, Name: Close, dtype: float64"
            ]
          },
          "metadata": {},
          "execution_count": 393
        }
      ]
    },
    {
      "cell_type": "code",
      "metadata": {
        "colab": {
          "base_uri": "https://localhost:8080/"
        },
        "id": "TH1Ac6_khG1E",
        "outputId": "39df72fe-29e8-42f0-bfbb-773eb0dfcf74"
      },
      "source": [
        "pfizer_daily_return = pfizer_last_day.pct_change()\n",
        "pfizer_daily_return.dropna()"
      ],
      "execution_count": 394,
      "outputs": [
        {
          "output_type": "execute_result",
          "data": {
            "text/plain": [
              "Date\n",
              "2017-02-28    0.086278\n",
              "2017-03-31    0.002638\n",
              "2017-04-30   -0.008477\n",
              "2017-05-31   -0.028124\n",
              "2017-06-30    0.028790\n",
              "2017-07-31   -0.012801\n",
              "2017-08-31    0.032911\n",
              "2017-09-30    0.052476\n",
              "2017-10-31   -0.017927\n",
              "2017-11-30    0.043678\n",
              "2017-12-31   -0.001103\n",
              "Freq: M, Name: Close, dtype: float64"
            ]
          },
          "metadata": {},
          "execution_count": 394
        }
      ]
    },
    {
      "cell_type": "markdown",
      "metadata": {
        "id": "nQH2eBWkNjdC"
      },
      "source": [
        "# DataFrame\n",
        "The **DataFrame** is the most commonly used data structure in Pandas. It is essentially a table, just like an Excel spreadsheet.\n",
        "\n",
        "More precisely, a DataFrame is a collection of Series objects, each of which may contain different data types. A DataFrame can be created from various data types: dictionary, 2-D numpy.ndarray, a Series or another DataFrame.\n",
        "\n",
        "## Create DataFrames\n",
        "The most common method of creating a DataFrame is passing a dictionary:"
      ]
    },
    {
      "cell_type": "code",
      "metadata": {
        "colab": {
          "base_uri": "https://localhost:8080/"
        },
        "id": "vd5Wf1ohHW9-",
        "outputId": "6edbc895-5c5d-436b-d686-c8d30ad4f5f8"
      },
      "source": [
        "import pandas as pd\n",
        "\n",
        "dict = {'AAPL': [143.5, 144.09, 142.73, 144.18, 143.77],'GOOG':[898.7, 911.71, 906.69, 918.59, 926.99],\n",
        "        'IBM':[155.58, 153.67, 152.36, 152.94, 153.49]}\n",
        "data_index = pd.date_range('2017-07-03',periods = 5, freq = 'D')\n",
        "df = pd.DataFrame(dict, index = data_index)\n",
        "print(df)"
      ],
      "execution_count": 397,
      "outputs": [
        {
          "output_type": "stream",
          "name": "stdout",
          "text": [
            "              AAPL    GOOG     IBM\n",
            "2017-07-03  143.50  898.70  155.58\n",
            "2017-07-04  144.09  911.71  153.67\n",
            "2017-07-05  142.73  906.69  152.36\n",
            "2017-07-06  144.18  918.59  152.94\n",
            "2017-07-07  143.77  926.99  153.49\n"
          ]
        }
      ]
    },
    {
      "cell_type": "code",
      "metadata": {
        "colab": {
          "base_uri": "https://localhost:8080/"
        },
        "id": "-hVhR9B8h3HZ",
        "outputId": "4a4030a6-1b95-4ff0-8a06-5b31581f1154"
      },
      "source": [
        "import pandas as pd\n",
        "\n",
        "e_dict = {'Ej01': [3.5, 4.09, 2.73, 4.18, 3.77],'Ej02':[198.7, 211.71, 250.69, 318.59, 426.99],\n",
        "        'Ej03':[35.58, 43.67, 62.36, 92.94, 13.49]}\n",
        "data_index = pd.date_range('2017-07-03',periods = 5, freq = 'D')\n",
        "e_df = pd.DataFrame(e_dict, index = data_index)\n",
        "print(e_df)"
      ],
      "execution_count": 399,
      "outputs": [
        {
          "output_type": "stream",
          "name": "stdout",
          "text": [
            "            Ej01    Ej02   Ej03\n",
            "2017-07-03  3.50  198.70  35.58\n",
            "2017-07-04  4.09  211.71  43.67\n",
            "2017-07-05  2.73  250.69  62.36\n",
            "2017-07-06  4.18  318.59  92.94\n",
            "2017-07-07  3.77  426.99  13.49\n"
          ]
        }
      ]
    },
    {
      "cell_type": "markdown",
      "metadata": {
        "id": "0uYmLQTgOPnX"
      },
      "source": [
        "## Manipulating DataFrames\n",
        "We can fetch values in a DataFrame by columns and index. Each column in a DataFrame is essentially a Pandas Series. We can fetch a column by square brackets: **df['column_name']**\n",
        "\n",
        "If a column name contains no spaces, then we can also use df.column_name to fetch a column:"
      ]
    },
    {
      "cell_type": "code",
      "metadata": {
        "colab": {
          "base_uri": "https://localhost:8080/"
        },
        "id": "2pB2f7lBHW9_",
        "outputId": "b29a21b8-5cd9-4c81-d385-9f9c0410fcd1"
      },
      "source": [
        "df = aapl_table\n",
        "print(df.Close.tail(5))\n",
        "print(df['Volume'].tail(5))"
      ],
      "execution_count": 400,
      "outputs": [
        {
          "output_type": "stream",
          "name": "stdout",
          "text": [
            "Date\n",
            "2017-12-22    41.906773\n",
            "2017-12-26    40.843605\n",
            "2017-12-27    40.850784\n",
            "2017-12-28    40.965725\n",
            "2017-12-29    40.522728\n",
            "Name: Close, dtype: float64\n",
            "Date\n",
            "2017-12-22     65397600\n",
            "2017-12-26    132742000\n",
            "2017-12-27     85992800\n",
            "2017-12-28     65920800\n",
            "2017-12-29    103999600\n",
            "Name: Volume, dtype: int64\n"
          ]
        }
      ]
    },
    {
      "cell_type": "code",
      "metadata": {
        "colab": {
          "base_uri": "https://localhost:8080/"
        },
        "id": "i66aLLNEiUO9",
        "outputId": "56732266-33ee-4952-eb6a-cc1d13913ded"
      },
      "source": [
        "e_df = pfizer_table\n",
        "print(e_df.Close.tail(5))\n",
        "print(e_df['Volume'].tail(5))"
      ],
      "execution_count": 401,
      "outputs": [
        {
          "output_type": "stream",
          "name": "stdout",
          "text": [
            "Date\n",
            "2017-12-22    29.772078\n",
            "2017-12-26    29.829733\n",
            "2017-12-27    29.928602\n",
            "2017-12-28    29.961544\n",
            "2017-12-29    29.837975\n",
            "Name: Close, dtype: float64\n",
            "Date\n",
            "2017-12-22     9063557\n",
            "2017-12-26    11480590\n",
            "2017-12-27     8768964\n",
            "2017-12-28     6939431\n",
            "2017-12-29    12038261\n",
            "Name: Volume, dtype: int64\n"
          ]
        }
      ]
    },
    {
      "cell_type": "markdown",
      "metadata": {
        "id": "z0ugOel9O4-P"
      },
      "source": [
        "All the methods we applied to a Series index such as iloc[], loc[] and resampling methods, can also be applied to a DataFrame:"
      ]
    },
    {
      "cell_type": "code",
      "metadata": {
        "colab": {
          "base_uri": "https://localhost:8080/"
        },
        "id": "_8dfjkedHW9_",
        "outputId": "2699b1bc-ab95-401f-930e-c2df75b0826c"
      },
      "source": [
        "aapl_2016 = df['2016']\n",
        "aapl_month = aapl_2016.resample('M').agg(lambda x: x[-1])\n",
        "print(aapl_month)"
      ],
      "execution_count": 402,
      "outputs": [
        {
          "output_type": "stream",
          "name": "stdout",
          "text": [
            "                 Open       High        Low  ...     Volume  Dividends  Stock Splits\n",
            "Date                                         ...                                    \n",
            "2016-01-31  21.852382  22.440245  21.750946  ...  257666000        0.0             0\n",
            "2016-02-29  22.450759  22.768306  22.402084  ...  140865200        0.0             0\n",
            "2016-03-31  25.431522  25.473243  25.236821  ...  103553600        0.0             0\n",
            "2016-04-30  21.785527  21.954732  21.442486  ...  274126000        0.0             0\n",
            "2016-05-31  23.226407  23.412965  23.044514  ...  169228800        0.0             0\n",
            "2016-06-30  22.023110  22.333260  21.990462  ...  143345600        0.0             0\n",
            "2016-07-31  24.296780  24.380731  24.177849  ...  110934800        0.0             0\n",
            "2016-08-31  24.773056  24.986413  24.768365  ...  118649600        0.0             0\n",
            "2016-09-30  26.367386  26.580745  26.212643  ...  145516400        0.0             0\n",
            "2016-10-31  26.646391  26.782378  26.540882  ...  105677600        0.0             0\n",
            "2016-11-30  26.300090  26.441488  25.986656  ...  144649200        0.0             0\n",
            "2016-12-31  27.490193  27.619807  27.202683  ...  122345200        0.0             0\n",
            "\n",
            "[12 rows x 7 columns]\n"
          ]
        }
      ]
    },
    {
      "cell_type": "code",
      "metadata": {
        "colab": {
          "base_uri": "https://localhost:8080/"
        },
        "id": "psh2HK7IidL_",
        "outputId": "6ccfe116-dc7a-49c2-8377-b24894f2419c"
      },
      "source": [
        "pfizer_2016 = e_df['2016']\n",
        "pfizer_month = pfizer_2016.resample('M').agg(lambda x: x[-1])\n",
        "print(pfizer_month)"
      ],
      "execution_count": 403,
      "outputs": [
        {
          "output_type": "stream",
          "name": "stdout",
          "text": [
            "                 Open       High        Low  ...    Volume  Dividends  Stock Splits\n",
            "Date                                         ...                                   \n",
            "2016-01-31  23.202218  23.286230  22.850901  ...  59794263        0.0             0\n",
            "2016-02-29  23.211781  23.281207  22.810647  ...  37091841        0.0             0\n",
            "2016-03-31  23.188641  23.273497  22.764365  ...  59861719        0.0             0\n",
            "2016-04-30  25.356305  25.418018  25.016884  ...  36061134        0.0             0\n",
            "2016-05-31  26.984350  27.046615  26.758637  ...  34547274        0.0             0\n",
            "2016-06-30  27.350158  27.451340  27.194496  ...  28451465        0.0             0\n",
            "2016-07-31  28.548775  28.758923  28.525427  ...  22675545        0.0             0\n",
            "2016-08-31  27.357774  27.420557  27.161575  ...  21919616        0.0             0\n",
            "2016-09-30  26.243367  26.698544  26.211976  ...  30138076        0.0             0\n",
            "2016-10-31  25.144664  25.144664  24.807205  ...  37890668        0.0             0\n",
            "2016-11-30  25.347887  25.657006  25.165585  ...  40599553        0.0             0\n",
            "2016-12-31  25.633225  25.839306  25.609448  ...  19885396        0.0             0\n",
            "\n",
            "[12 rows x 7 columns]\n"
          ]
        }
      ]
    },
    {
      "cell_type": "markdown",
      "metadata": {
        "id": "CqrbrbFZPTJe"
      },
      "source": [
        "We may select certain columns of a DataFrame using their names:"
      ]
    },
    {
      "cell_type": "code",
      "metadata": {
        "colab": {
          "base_uri": "https://localhost:8080/"
        },
        "id": "7bQGeyCAHW9_",
        "outputId": "9a9f294f-da1b-4438-c778-96e8b66a767f"
      },
      "source": [
        "aapl_bar = aapl_month[['Open', 'High', 'Low', 'Close']]\n",
        "print(aapl_bar)"
      ],
      "execution_count": 404,
      "outputs": [
        {
          "output_type": "stream",
          "name": "stdout",
          "text": [
            "                 Open       High        Low      Close\n",
            "Date                                                  \n",
            "2016-01-31  21.852382  22.440245  21.750946  22.440245\n",
            "2016-02-29  22.450759  22.768306  22.402084  22.411356\n",
            "2016-03-31  25.431522  25.473243  25.236821  25.262318\n",
            "2016-04-30  21.785527  21.954732  21.442486  21.727581\n",
            "2016-05-31  23.226407  23.412965  23.044514  23.287039\n",
            "2016-06-30  22.023110  22.333260  21.990462  22.293617\n",
            "2016-07-31  24.296780  24.380731  24.177849  24.301443\n",
            "2016-08-31  24.773056  24.986413  24.768365  24.876217\n",
            "2016-09-30  26.367386  26.580745  26.212643  26.505718\n",
            "2016-10-31  26.646391  26.782378  26.540882  26.620600\n",
            "2016-11-30  26.300090  26.441488  25.986656  26.045572\n",
            "2016-12-31  27.490193  27.619807  27.202683  27.294592\n"
          ]
        }
      ]
    },
    {
      "cell_type": "code",
      "metadata": {
        "colab": {
          "base_uri": "https://localhost:8080/"
        },
        "id": "dQQZCBz9iqpg",
        "outputId": "519703a2-c26d-4b70-c810-138398c482d2"
      },
      "source": [
        "pfizer_bar = pfizer_month[['Open', 'High', 'Low', 'Close']]\n",
        "print(pfizer_bar)"
      ],
      "execution_count": 405,
      "outputs": [
        {
          "output_type": "stream",
          "name": "stdout",
          "text": [
            "                 Open       High        Low      Close\n",
            "Date                                                  \n",
            "2016-01-31  23.202218  23.286230  22.850901  23.286230\n",
            "2016-02-29  23.211781  23.281207  22.810647  22.887787\n",
            "2016-03-31  23.188641  23.273497  22.764365  22.864649\n",
            "2016-04-30  25.356305  25.418018  25.016884  25.232880\n",
            "2016-05-31  26.984350  27.046615  26.758637  27.007698\n",
            "2016-06-30  27.350158  27.451340  27.194496  27.404640\n",
            "2016-07-31  28.548775  28.758923  28.525427  28.712223\n",
            "2016-08-31  27.357774  27.420557  27.161575  27.310686\n",
            "2016-09-30  26.243367  26.698544  26.211976  26.580826\n",
            "2016-10-31  25.144664  25.144664  24.807205  24.885683\n",
            "2016-11-30  25.347887  25.657006  25.165585  25.474705\n",
            "2016-12-31  25.633225  25.839306  25.609448  25.744192\n"
          ]
        }
      ]
    },
    {
      "cell_type": "markdown",
      "metadata": {
        "id": "8CQaZCAQP68O"
      },
      "source": [
        "We can even specify both rows and columns using loc[]. The row indices and column names are separated by a comma:"
      ]
    },
    {
      "cell_type": "code",
      "metadata": {
        "colab": {
          "base_uri": "https://localhost:8080/"
        },
        "id": "YjWWiHVpHW-A",
        "outputId": "d7987e1b-9bf7-4dcb-8f1e-f4ed2dd8ff7a"
      },
      "source": [
        "print(aapl_month.loc['2016-03':'2016-06',['Open', 'High', 'Low', 'Close']])"
      ],
      "execution_count": 406,
      "outputs": [
        {
          "output_type": "stream",
          "name": "stdout",
          "text": [
            "                 Open       High        Low      Close\n",
            "Date                                                  \n",
            "2016-03-31  25.431522  25.473243  25.236821  25.262318\n",
            "2016-04-30  21.785527  21.954732  21.442486  21.727581\n",
            "2016-05-31  23.226407  23.412965  23.044514  23.287039\n",
            "2016-06-30  22.023110  22.333260  21.990462  22.293617\n"
          ]
        }
      ]
    },
    {
      "cell_type": "code",
      "metadata": {
        "colab": {
          "base_uri": "https://localhost:8080/"
        },
        "id": "1SdeTI1GizrD",
        "outputId": "a189d480-3c33-4325-9038-59e998d4742c"
      },
      "source": [
        "print(pfizer_month.loc['2016-03':'2016-06',['Open', 'High', 'Low', 'Close']])"
      ],
      "execution_count": 407,
      "outputs": [
        {
          "output_type": "stream",
          "name": "stdout",
          "text": [
            "                 Open       High        Low      Close\n",
            "Date                                                  \n",
            "2016-03-31  23.188641  23.273497  22.764365  22.864649\n",
            "2016-04-30  25.356305  25.418018  25.016884  25.232880\n",
            "2016-05-31  26.984350  27.046615  26.758637  27.007698\n",
            "2016-06-30  27.350158  27.451340  27.194496  27.404640\n"
          ]
        }
      ]
    },
    {
      "cell_type": "markdown",
      "metadata": {
        "id": "Xcn_pHNLQBEH"
      },
      "source": [
        "The subset methods in DataFrame is quite useful. By writing logical statements in square brackets, we can make customized subsets:"
      ]
    },
    {
      "cell_type": "code",
      "metadata": {
        "colab": {
          "base_uri": "https://localhost:8080/"
        },
        "id": "RxKg4dObHW-A",
        "outputId": "fa2e67ec-7d5d-4996-bb76-096ed868e169"
      },
      "source": [
        "import numpy as np\n",
        "\n",
        "above = aapl_bar[aapl_bar.Close > np.mean(aapl_bar.Close)]\n",
        "print(above)"
      ],
      "execution_count": 408,
      "outputs": [
        {
          "output_type": "stream",
          "name": "stdout",
          "text": [
            "                 Open       High        Low      Close\n",
            "Date                                                  \n",
            "2016-03-31  25.431522  25.473243  25.236821  25.262318\n",
            "2016-08-31  24.773056  24.986413  24.768365  24.876217\n",
            "2016-09-30  26.367386  26.580745  26.212643  26.505718\n",
            "2016-10-31  26.646391  26.782378  26.540882  26.620600\n",
            "2016-11-30  26.300090  26.441488  25.986656  26.045572\n",
            "2016-12-31  27.490193  27.619807  27.202683  27.294592\n"
          ]
        }
      ]
    },
    {
      "cell_type": "code",
      "metadata": {
        "colab": {
          "base_uri": "https://localhost:8080/"
        },
        "id": "ixtYvRMui5Q2",
        "outputId": "b8b5a988-2ebc-49e6-a63c-3c47c3683719"
      },
      "source": [
        "import numpy as np\n",
        "\n",
        "e_above = pfizer_bar[pfizer_bar.Close > np.mean(pfizer_bar.Close)]\n",
        "print(e_above)"
      ],
      "execution_count": 409,
      "outputs": [
        {
          "output_type": "stream",
          "name": "stdout",
          "text": [
            "                 Open       High        Low      Close\n",
            "Date                                                  \n",
            "2016-05-31  26.984350  27.046615  26.758637  27.007698\n",
            "2016-06-30  27.350158  27.451340  27.194496  27.404640\n",
            "2016-07-31  28.548775  28.758923  28.525427  28.712223\n",
            "2016-08-31  27.357774  27.420557  27.161575  27.310686\n",
            "2016-09-30  26.243367  26.698544  26.211976  26.580826\n",
            "2016-12-31  25.633225  25.839306  25.609448  25.744192\n"
          ]
        }
      ]
    },
    {
      "cell_type": "markdown",
      "metadata": {
        "id": "wcm_UadkQLL5"
      },
      "source": [
        "## Data Validation\n",
        "As mentioned, all methods that apply to a Series can also be applied to a DataFrame. Here we add a new column to an existing DataFrame:"
      ]
    },
    {
      "cell_type": "code",
      "metadata": {
        "colab": {
          "base_uri": "https://localhost:8080/"
        },
        "id": "jZXFdOVFHW-A",
        "outputId": "4e365f0e-1495-4b78-8e0e-b4af077d7176"
      },
      "source": [
        "aapl_bar['rate_return'] = aapl_bar.Close.pct_change()\n",
        "print(aapl_bar)"
      ],
      "execution_count": 410,
      "outputs": [
        {
          "output_type": "stream",
          "name": "stdout",
          "text": [
            "                 Open       High        Low      Close  rate_return\n",
            "Date                                                               \n",
            "2016-01-31  21.852382  22.440245  21.750946  22.440245          NaN\n",
            "2016-02-29  22.450759  22.768306  22.402084  22.411356    -0.001287\n",
            "2016-03-31  25.431522  25.473243  25.236821  25.262318     0.127211\n",
            "2016-04-30  21.785527  21.954732  21.442486  21.727581    -0.139921\n",
            "2016-05-31  23.226407  23.412965  23.044514  23.287039     0.071773\n",
            "2016-06-30  22.023110  22.333260  21.990462  22.293617    -0.042660\n",
            "2016-07-31  24.296780  24.380731  24.177849  24.301443     0.090063\n",
            "2016-08-31  24.773056  24.986413  24.768365  24.876217     0.023652\n",
            "2016-09-30  26.367386  26.580745  26.212643  26.505718     0.065504\n",
            "2016-10-31  26.646391  26.782378  26.540882  26.620600     0.004334\n",
            "2016-11-30  26.300090  26.441488  25.986656  26.045572    -0.021601\n",
            "2016-12-31  27.490193  27.619807  27.202683  27.294592     0.047955\n"
          ]
        },
        {
          "output_type": "stream",
          "name": "stderr",
          "text": [
            "/usr/local/lib/python3.7/dist-packages/ipykernel_launcher.py:1: SettingWithCopyWarning: \n",
            "A value is trying to be set on a copy of a slice from a DataFrame.\n",
            "Try using .loc[row_indexer,col_indexer] = value instead\n",
            "\n",
            "See the caveats in the documentation: https://pandas.pydata.org/pandas-docs/stable/user_guide/indexing.html#returning-a-view-versus-a-copy\n",
            "  \"\"\"Entry point for launching an IPython kernel.\n"
          ]
        }
      ]
    },
    {
      "cell_type": "code",
      "metadata": {
        "colab": {
          "base_uri": "https://localhost:8080/"
        },
        "id": "WYGolYKrjW4V",
        "outputId": "fb703a68-f4a4-4354-8ddb-e0233fbfbf0d"
      },
      "source": [
        "pfizer_bar['rate_return'] = pfizer_bar.Close.pct_change()\n",
        "print(pfizer_bar)"
      ],
      "execution_count": 411,
      "outputs": [
        {
          "output_type": "stream",
          "name": "stdout",
          "text": [
            "                 Open       High        Low      Close  rate_return\n",
            "Date                                                               \n",
            "2016-01-31  23.202218  23.286230  22.850901  23.286230          NaN\n",
            "2016-02-29  23.211781  23.281207  22.810647  22.887787    -0.017111\n",
            "2016-03-31  23.188641  23.273497  22.764365  22.864649    -0.001011\n",
            "2016-04-30  25.356305  25.418018  25.016884  25.232880     0.103576\n",
            "2016-05-31  26.984350  27.046615  26.758637  27.007698     0.070338\n",
            "2016-06-30  27.350158  27.451340  27.194496  27.404640     0.014697\n",
            "2016-07-31  28.548775  28.758923  28.525427  28.712223     0.047714\n",
            "2016-08-31  27.357774  27.420557  27.161575  27.310686    -0.048813\n",
            "2016-09-30  26.243367  26.698544  26.211976  26.580826    -0.026724\n",
            "2016-10-31  25.144664  25.144664  24.807205  24.885683    -0.063773\n",
            "2016-11-30  25.347887  25.657006  25.165585  25.474705     0.023669\n",
            "2016-12-31  25.633225  25.839306  25.609448  25.744192     0.010579\n"
          ]
        },
        {
          "output_type": "stream",
          "name": "stderr",
          "text": [
            "/usr/local/lib/python3.7/dist-packages/ipykernel_launcher.py:1: SettingWithCopyWarning: \n",
            "A value is trying to be set on a copy of a slice from a DataFrame.\n",
            "Try using .loc[row_indexer,col_indexer] = value instead\n",
            "\n",
            "See the caveats in the documentation: https://pandas.pydata.org/pandas-docs/stable/user_guide/indexing.html#returning-a-view-versus-a-copy\n",
            "  \"\"\"Entry point for launching an IPython kernel.\n"
          ]
        }
      ]
    },
    {
      "cell_type": "markdown",
      "metadata": {
        "id": "_or6n5-LQUa-"
      },
      "source": [
        "Here the calculation introduced a NaN value. If the DataFrame is large, we would not be able to observe it. **isnull()** provides a convenient way to check abnormal values."
      ]
    },
    {
      "cell_type": "code",
      "metadata": {
        "colab": {
          "base_uri": "https://localhost:8080/"
        },
        "id": "V5wgmhIPHW-B",
        "outputId": "d944c96a-d318-44ae-fa49-b8b1de7743d8"
      },
      "source": [
        "missing = aapl_bar.isnull()\n",
        "print(missing)\n",
        "print('---------------------------------------------')\n",
        "print(missing.describe())"
      ],
      "execution_count": 412,
      "outputs": [
        {
          "output_type": "stream",
          "name": "stdout",
          "text": [
            "             Open   High    Low  Close  rate_return\n",
            "Date                                               \n",
            "2016-01-31  False  False  False  False         True\n",
            "2016-02-29  False  False  False  False        False\n",
            "2016-03-31  False  False  False  False        False\n",
            "2016-04-30  False  False  False  False        False\n",
            "2016-05-31  False  False  False  False        False\n",
            "2016-06-30  False  False  False  False        False\n",
            "2016-07-31  False  False  False  False        False\n",
            "2016-08-31  False  False  False  False        False\n",
            "2016-09-30  False  False  False  False        False\n",
            "2016-10-31  False  False  False  False        False\n",
            "2016-11-30  False  False  False  False        False\n",
            "2016-12-31  False  False  False  False        False\n",
            "---------------------------------------------\n",
            "         Open   High    Low  Close rate_return\n",
            "count      12     12     12     12          12\n",
            "unique      1      1      1      1           2\n",
            "top     False  False  False  False       False\n",
            "freq       12     12     12     12          11\n"
          ]
        }
      ]
    },
    {
      "cell_type": "code",
      "metadata": {
        "colab": {
          "base_uri": "https://localhost:8080/"
        },
        "id": "W49rJzX9jiD-",
        "outputId": "36bc2c31-2403-4935-e92b-84364e3c3c0f"
      },
      "source": [
        "e_missing = pfizer_bar.isnull()\n",
        "print(e_missing)\n",
        "print('---------------------------------------------')\n",
        "print(e_missing.describe())"
      ],
      "execution_count": 414,
      "outputs": [
        {
          "output_type": "stream",
          "name": "stdout",
          "text": [
            "             Open   High    Low  Close  rate_return\n",
            "Date                                               \n",
            "2016-01-31  False  False  False  False         True\n",
            "2016-02-29  False  False  False  False        False\n",
            "2016-03-31  False  False  False  False        False\n",
            "2016-04-30  False  False  False  False        False\n",
            "2016-05-31  False  False  False  False        False\n",
            "2016-06-30  False  False  False  False        False\n",
            "2016-07-31  False  False  False  False        False\n",
            "2016-08-31  False  False  False  False        False\n",
            "2016-09-30  False  False  False  False        False\n",
            "2016-10-31  False  False  False  False        False\n",
            "2016-11-30  False  False  False  False        False\n",
            "2016-12-31  False  False  False  False        False\n",
            "---------------------------------------------\n",
            "         Open   High    Low  Close rate_return\n",
            "count      12     12     12     12          12\n",
            "unique      1      1      1      1           2\n",
            "top     False  False  False  False       False\n",
            "freq       12     12     12     12          11\n"
          ]
        }
      ]
    },
    {
      "cell_type": "markdown",
      "metadata": {
        "id": "d6KFV4i0QfLW"
      },
      "source": [
        "The row labelled \"unique\" indicates the number of unique values in each column. Since the \"rate_return\" column has 2 unique values, it has at least one missing value.\n",
        "\n",
        "We can deduce the number of missing values by comparing \"count\" with \"freq\". There are 12 counts and 11 False values, so there is one True value which corresponds to the missing value.\n",
        "\n",
        "We can also find the rows with missing values easily:"
      ]
    },
    {
      "cell_type": "code",
      "metadata": {
        "colab": {
          "base_uri": "https://localhost:8080/"
        },
        "id": "Eo0ZAhCsHW-B",
        "outputId": "82de39d3-c847-401a-9409-7b58252388d7"
      },
      "source": [
        "print(missing[missing.rate_return == True])"
      ],
      "execution_count": 415,
      "outputs": [
        {
          "output_type": "stream",
          "name": "stdout",
          "text": [
            "             Open   High    Low  Close  rate_return\n",
            "Date                                               \n",
            "2016-01-31  False  False  False  False         True\n"
          ]
        }
      ]
    },
    {
      "cell_type": "code",
      "metadata": {
        "colab": {
          "base_uri": "https://localhost:8080/"
        },
        "id": "IgccmJtkjuHo",
        "outputId": "41822db0-8407-4e4c-931b-e49dd671182f"
      },
      "source": [
        "print(e_missing[e_missing.rate_return == True])"
      ],
      "execution_count": 416,
      "outputs": [
        {
          "output_type": "stream",
          "name": "stdout",
          "text": [
            "             Open   High    Low  Close  rate_return\n",
            "Date                                               \n",
            "2016-01-31  False  False  False  False         True\n"
          ]
        }
      ]
    },
    {
      "cell_type": "markdown",
      "metadata": {
        "id": "qgggpD8OQkZX"
      },
      "source": [
        "Usually when dealing with missing data, we either delete the whole row or fill it with some value. As we introduced in the Series chapter, the same method **dropna()** and **fillna()** can be applied to a DataFrame."
      ]
    },
    {
      "cell_type": "code",
      "metadata": {
        "colab": {
          "base_uri": "https://localhost:8080/"
        },
        "id": "j8PaIokjHW-B",
        "outputId": "ee55e11a-74e7-4b0f-a157-9bc1cb3d56be"
      },
      "source": [
        "drop = aapl_bar.dropna()\n",
        "print(drop)\n",
        "print('\\n--------------------------------------------------\\n')\n",
        "fill = aapl_bar.fillna(0)\n",
        "print(fill)"
      ],
      "execution_count": 417,
      "outputs": [
        {
          "output_type": "stream",
          "name": "stdout",
          "text": [
            "                 Open       High        Low      Close  rate_return\n",
            "Date                                                               \n",
            "2016-02-29  22.450759  22.768306  22.402084  22.411356    -0.001287\n",
            "2016-03-31  25.431522  25.473243  25.236821  25.262318     0.127211\n",
            "2016-04-30  21.785527  21.954732  21.442486  21.727581    -0.139921\n",
            "2016-05-31  23.226407  23.412965  23.044514  23.287039     0.071773\n",
            "2016-06-30  22.023110  22.333260  21.990462  22.293617    -0.042660\n",
            "2016-07-31  24.296780  24.380731  24.177849  24.301443     0.090063\n",
            "2016-08-31  24.773056  24.986413  24.768365  24.876217     0.023652\n",
            "2016-09-30  26.367386  26.580745  26.212643  26.505718     0.065504\n",
            "2016-10-31  26.646391  26.782378  26.540882  26.620600     0.004334\n",
            "2016-11-30  26.300090  26.441488  25.986656  26.045572    -0.021601\n",
            "2016-12-31  27.490193  27.619807  27.202683  27.294592     0.047955\n",
            "\n",
            "--------------------------------------------------\n",
            "\n",
            "                 Open       High        Low      Close  rate_return\n",
            "Date                                                               \n",
            "2016-01-31  21.852382  22.440245  21.750946  22.440245     0.000000\n",
            "2016-02-29  22.450759  22.768306  22.402084  22.411356    -0.001287\n",
            "2016-03-31  25.431522  25.473243  25.236821  25.262318     0.127211\n",
            "2016-04-30  21.785527  21.954732  21.442486  21.727581    -0.139921\n",
            "2016-05-31  23.226407  23.412965  23.044514  23.287039     0.071773\n",
            "2016-06-30  22.023110  22.333260  21.990462  22.293617    -0.042660\n",
            "2016-07-31  24.296780  24.380731  24.177849  24.301443     0.090063\n",
            "2016-08-31  24.773056  24.986413  24.768365  24.876217     0.023652\n",
            "2016-09-30  26.367386  26.580745  26.212643  26.505718     0.065504\n",
            "2016-10-31  26.646391  26.782378  26.540882  26.620600     0.004334\n",
            "2016-11-30  26.300090  26.441488  25.986656  26.045572    -0.021601\n",
            "2016-12-31  27.490193  27.619807  27.202683  27.294592     0.047955\n"
          ]
        }
      ]
    },
    {
      "cell_type": "code",
      "metadata": {
        "colab": {
          "base_uri": "https://localhost:8080/"
        },
        "id": "BTLC4UmOj1BI",
        "outputId": "8f4a7cb2-2a8b-458d-9b46-53fffca754da"
      },
      "source": [
        "drop = pfizer_bar.dropna()\n",
        "print(drop)\n",
        "print('\\n--------------------------------------------------\\n')\n",
        "fill = pfizer_bar.fillna(0)\n",
        "print(fill)"
      ],
      "execution_count": 418,
      "outputs": [
        {
          "output_type": "stream",
          "name": "stdout",
          "text": [
            "                 Open       High        Low      Close  rate_return\n",
            "Date                                                               \n",
            "2016-02-29  23.211781  23.281207  22.810647  22.887787    -0.017111\n",
            "2016-03-31  23.188641  23.273497  22.764365  22.864649    -0.001011\n",
            "2016-04-30  25.356305  25.418018  25.016884  25.232880     0.103576\n",
            "2016-05-31  26.984350  27.046615  26.758637  27.007698     0.070338\n",
            "2016-06-30  27.350158  27.451340  27.194496  27.404640     0.014697\n",
            "2016-07-31  28.548775  28.758923  28.525427  28.712223     0.047714\n",
            "2016-08-31  27.357774  27.420557  27.161575  27.310686    -0.048813\n",
            "2016-09-30  26.243367  26.698544  26.211976  26.580826    -0.026724\n",
            "2016-10-31  25.144664  25.144664  24.807205  24.885683    -0.063773\n",
            "2016-11-30  25.347887  25.657006  25.165585  25.474705     0.023669\n",
            "2016-12-31  25.633225  25.839306  25.609448  25.744192     0.010579\n",
            "\n",
            "--------------------------------------------------\n",
            "\n",
            "                 Open       High        Low      Close  rate_return\n",
            "Date                                                               \n",
            "2016-01-31  23.202218  23.286230  22.850901  23.286230     0.000000\n",
            "2016-02-29  23.211781  23.281207  22.810647  22.887787    -0.017111\n",
            "2016-03-31  23.188641  23.273497  22.764365  22.864649    -0.001011\n",
            "2016-04-30  25.356305  25.418018  25.016884  25.232880     0.103576\n",
            "2016-05-31  26.984350  27.046615  26.758637  27.007698     0.070338\n",
            "2016-06-30  27.350158  27.451340  27.194496  27.404640     0.014697\n",
            "2016-07-31  28.548775  28.758923  28.525427  28.712223     0.047714\n",
            "2016-08-31  27.357774  27.420557  27.161575  27.310686    -0.048813\n",
            "2016-09-30  26.243367  26.698544  26.211976  26.580826    -0.026724\n",
            "2016-10-31  25.144664  25.144664  24.807205  24.885683    -0.063773\n",
            "2016-11-30  25.347887  25.657006  25.165585  25.474705     0.023669\n",
            "2016-12-31  25.633225  25.839306  25.609448  25.744192     0.010579\n"
          ]
        }
      ]
    },
    {
      "cell_type": "markdown",
      "metadata": {
        "id": "0tvoFlKWQxYG"
      },
      "source": [
        "## DataFrame Concat\n",
        "We have seen how to extract a Series from a dataFrame. Now we need to consider how to merge a Series or a DataFrame into another one.\n",
        "\n",
        "In Pandas, the function **concat()** allows us to merge multiple Series into a DataFrame:"
      ]
    },
    {
      "cell_type": "code",
      "metadata": {
        "colab": {
          "base_uri": "https://localhost:8080/"
        },
        "id": "uQrmLIWKHW-C",
        "outputId": "b23837fc-4562-4f2f-9a73-7d192fd87685"
      },
      "source": [
        "s1 = pd.Series([143.5, 144.09, 142.73, 144.18, 143.77], name = 'AAPL')\n",
        "s2 = pd.Series([898.7, 911.71, 906.69, 918.59, 926.99], name = 'GOOG')\n",
        "data_frame = pd.concat([s1,s2], axis = 1)\n",
        "print(data_frame)"
      ],
      "execution_count": 419,
      "outputs": [
        {
          "output_type": "stream",
          "name": "stdout",
          "text": [
            "     AAPL    GOOG\n",
            "0  143.50  898.70\n",
            "1  144.09  911.71\n",
            "2  142.73  906.69\n",
            "3  144.18  918.59\n",
            "4  143.77  926.99\n"
          ]
        }
      ]
    },
    {
      "cell_type": "code",
      "metadata": {
        "colab": {
          "base_uri": "https://localhost:8080/"
        },
        "id": "AimsJbPSkHT6",
        "outputId": "161c2fb3-c62e-439e-9b93-b514c29f8dce"
      },
      "source": [
        "e_s1 = pd.Series([14, 144, 142, 11, 143], name = 'EL1')\n",
        "e_s2 = pd.Series([89, 91, 90, 98, 92], name = 'GOOG')\n",
        "e_data_frame = pd.concat([e_s1,e_s2], axis = 1)\n",
        "print(e_data_frame)"
      ],
      "execution_count": 421,
      "outputs": [
        {
          "output_type": "stream",
          "name": "stdout",
          "text": [
            "   EL1  GOOG\n",
            "0   14    89\n",
            "1  144    91\n",
            "2  142    90\n",
            "3   11    98\n",
            "4  143    92\n"
          ]
        }
      ]
    },
    {
      "cell_type": "markdown",
      "metadata": {
        "id": "3ojbNYJLR2vv"
      },
      "source": [
        "The \"axis = 1\" parameter will join two DataFrames by columns:"
      ]
    },
    {
      "cell_type": "code",
      "metadata": {
        "colab": {
          "base_uri": "https://localhost:8080/"
        },
        "id": "DJsaLd-cRoIm",
        "outputId": "6cc1c021-1188-4e83-d7e2-a2b7068cbbc9"
      },
      "source": [
        "log_price = np.log(aapl_bar.Close)\n",
        "log_price.name = 'log_price'\n",
        "print(log_price)\n",
        "print('\\n---------------------- separate line--------------------\\n')\n",
        "concat = pd.concat([aapl_bar, log_price], axis = 1)\n",
        "print(concat)"
      ],
      "execution_count": 422,
      "outputs": [
        {
          "output_type": "stream",
          "name": "stdout",
          "text": [
            "Date\n",
            "2016-01-31    3.110856\n",
            "2016-02-29    3.109568\n",
            "2016-03-31    3.229314\n",
            "2016-04-30    3.078582\n",
            "2016-05-31    3.147897\n",
            "2016-06-30    3.104300\n",
            "2016-07-31    3.190536\n",
            "2016-08-31    3.213912\n",
            "2016-09-30    3.277360\n",
            "2016-10-31    3.281685\n",
            "2016-11-30    3.259848\n",
            "2016-12-31    3.306689\n",
            "Freq: M, Name: log_price, dtype: float64\n",
            "\n",
            "---------------------- separate line--------------------\n",
            "\n",
            "                 Open       High        Low      Close  rate_return  log_price\n",
            "Date                                                                          \n",
            "2016-01-31  21.852382  22.440245  21.750946  22.440245          NaN   3.110856\n",
            "2016-02-29  22.450759  22.768306  22.402084  22.411356    -0.001287   3.109568\n",
            "2016-03-31  25.431522  25.473243  25.236821  25.262318     0.127211   3.229314\n",
            "2016-04-30  21.785527  21.954732  21.442486  21.727581    -0.139921   3.078582\n",
            "2016-05-31  23.226407  23.412965  23.044514  23.287039     0.071773   3.147897\n",
            "2016-06-30  22.023110  22.333260  21.990462  22.293617    -0.042660   3.104300\n",
            "2016-07-31  24.296780  24.380731  24.177849  24.301443     0.090063   3.190536\n",
            "2016-08-31  24.773056  24.986413  24.768365  24.876217     0.023652   3.213912\n",
            "2016-09-30  26.367386  26.580745  26.212643  26.505718     0.065504   3.277360\n",
            "2016-10-31  26.646391  26.782378  26.540882  26.620600     0.004334   3.281685\n",
            "2016-11-30  26.300090  26.441488  25.986656  26.045572    -0.021601   3.259848\n",
            "2016-12-31  27.490193  27.619807  27.202683  27.294592     0.047955   3.306689\n"
          ]
        }
      ]
    },
    {
      "cell_type": "code",
      "metadata": {
        "colab": {
          "base_uri": "https://localhost:8080/"
        },
        "id": "WIHuO1dlkkQo",
        "outputId": "3b50931d-da1f-43a1-fe12-f2f3e4b85d0f"
      },
      "source": [
        "e_log_price = np.log(pfizer_bar.Close)\n",
        "e_log_price.name = 'e_log_price'\n",
        "print(e_log_price)\n",
        "print('\\n---------------------- separate line--------------------\\n')\n",
        "e_concat = pd.concat([pfizer_bar, e_log_price], axis = 1)\n",
        "print(e_concat)"
      ],
      "execution_count": 423,
      "outputs": [
        {
          "output_type": "stream",
          "name": "stdout",
          "text": [
            "Date\n",
            "2016-01-31    3.147862\n",
            "2016-02-29    3.130603\n",
            "2016-03-31    3.129592\n",
            "2016-04-30    3.228148\n",
            "2016-05-31    3.296122\n",
            "2016-06-30    3.310712\n",
            "2016-07-31    3.357323\n",
            "2016-08-31    3.307278\n",
            "2016-09-30    3.280190\n",
            "2016-10-31    3.214293\n",
            "2016-11-30    3.237686\n",
            "2016-12-31    3.248209\n",
            "Freq: M, Name: e_log_price, dtype: float64\n",
            "\n",
            "---------------------- separate line--------------------\n",
            "\n",
            "                 Open       High  ...  rate_return  e_log_price\n",
            "Date                              ...                          \n",
            "2016-01-31  23.202218  23.286230  ...          NaN     3.147862\n",
            "2016-02-29  23.211781  23.281207  ...    -0.017111     3.130603\n",
            "2016-03-31  23.188641  23.273497  ...    -0.001011     3.129592\n",
            "2016-04-30  25.356305  25.418018  ...     0.103576     3.228148\n",
            "2016-05-31  26.984350  27.046615  ...     0.070338     3.296122\n",
            "2016-06-30  27.350158  27.451340  ...     0.014697     3.310712\n",
            "2016-07-31  28.548775  28.758923  ...     0.047714     3.357323\n",
            "2016-08-31  27.357774  27.420557  ...    -0.048813     3.307278\n",
            "2016-09-30  26.243367  26.698544  ...    -0.026724     3.280190\n",
            "2016-10-31  25.144664  25.144664  ...    -0.063773     3.214293\n",
            "2016-11-30  25.347887  25.657006  ...     0.023669     3.237686\n",
            "2016-12-31  25.633225  25.839306  ...     0.010579     3.248209\n",
            "\n",
            "[12 rows x 6 columns]\n"
          ]
        }
      ]
    },
    {
      "cell_type": "markdown",
      "metadata": {
        "id": "mIZz-FUyR_62"
      },
      "source": [
        "We can also join two DataFrames by rows. Consider these two DataFrames:"
      ]
    },
    {
      "cell_type": "code",
      "metadata": {
        "colab": {
          "base_uri": "https://localhost:8080/"
        },
        "id": "W7uXZptLHW-C",
        "outputId": "30b794ae-9f9a-4046-b252-cd6b0e56c703"
      },
      "source": [
        "df_volume = aapl_table.loc['2016-10':'2017-04',['Volume', 'Stock Splits']].resample('M').agg(lambda x: x[-1])\n",
        "print(df_volume)\n",
        "print('\\n---------------------- separate line--------------------\\n')\n",
        "df_2017 = aapl_table.loc['2016-10':'2017-04',['Open', 'High', 'Low', 'Close']].resample('M').agg(lambda x: x[-1])\n",
        "print(df_2017)"
      ],
      "execution_count": 424,
      "outputs": [
        {
          "output_type": "stream",
          "name": "stdout",
          "text": [
            "               Volume  Stock Splits\n",
            "Date                               \n",
            "2016-10-31  105677600             0\n",
            "2016-11-30  144649200             0\n",
            "2016-12-31  122345200             0\n",
            "2017-01-31  196804000             0\n",
            "2017-02-28   93931600             0\n",
            "2017-03-31   78646800             0\n",
            "2017-04-30   83441600             0\n",
            "\n",
            "---------------------- separate line--------------------\n",
            "\n",
            "                 Open       High        Low      Close\n",
            "Date                                                  \n",
            "2016-10-31  26.646391  26.782378  26.540882  26.620600\n",
            "2016-11-30  26.300090  26.441488  25.986656  26.045572\n",
            "2016-12-31  27.490193  27.619807  27.202683  27.294592\n",
            "2017-01-31  28.550681  28.607239  28.425779  28.597813\n",
            "2017-02-28  32.444858  32.530065  32.354916  32.423557\n",
            "2017-03-31  34.016455  34.146633  33.848407  34.002254\n",
            "2017-04-30  34.104035  34.153741  33.909955  33.999893\n"
          ]
        }
      ]
    },
    {
      "cell_type": "code",
      "metadata": {
        "colab": {
          "base_uri": "https://localhost:8080/"
        },
        "id": "BgTtvDDTk6C2",
        "outputId": "dcb626f7-67ae-44c8-8ecc-ad7e5104b696"
      },
      "source": [
        "e_df_volume = pfizer_table.loc['2016-10':'2017-04',['Volume', 'Stock Splits']].resample('M').agg(lambda x: x[-1])\n",
        "print(e_df_volume)\n",
        "print('\\n---------------------- separate line--------------------\\n')\n",
        "e_df_2017 = pfizer_table.loc['2016-10':'2017-04',['Open', 'High', 'Low', 'Close']].resample('M').agg(lambda x: x[-1])\n",
        "print(e_df_2017)"
      ],
      "execution_count": 425,
      "outputs": [
        {
          "output_type": "stream",
          "name": "stdout",
          "text": [
            "              Volume  Stock Splits\n",
            "Date                              \n",
            "2016-10-31  37890668             0\n",
            "2016-11-30  40599553             0\n",
            "2016-12-31  19885396             0\n",
            "2017-01-31  39472300             0\n",
            "2017-02-28  28964658             0\n",
            "2017-03-31  19616837             0\n",
            "2017-04-30  16842077             0\n",
            "\n",
            "---------------------- separate line--------------------\n",
            "\n",
            "                 Open       High        Low      Close\n",
            "Date                                                  \n",
            "2016-10-31  25.144664  25.144664  24.807205  24.885683\n",
            "2016-11-30  25.347887  25.657006  25.165585  25.474705\n",
            "2016-12-31  25.633225  25.839306  25.609448  25.744192\n",
            "2017-01-31  24.579048  25.308257  24.515638  25.149733\n",
            "2017-02-28  27.303592  27.431706  27.151463  27.319609\n",
            "2017-03-31  27.391668  27.527785  27.351633  27.391668\n",
            "2017-04-30  27.127442  27.175481  27.023351  27.159468\n"
          ]
        }
      ]
    },
    {
      "cell_type": "markdown",
      "metadata": {
        "id": "iZk_C9aSSLeP"
      },
      "source": [
        "Now we merge the DataFrames with our DataFrame 'aapl_bar'"
      ]
    },
    {
      "cell_type": "code",
      "metadata": {
        "colab": {
          "base_uri": "https://localhost:8080/"
        },
        "id": "aFqmjokOHW-C",
        "outputId": "4902e2f4-a6f7-4cbc-c607-5630730ea6ca"
      },
      "source": [
        "concat = pd.concat([aapl_bar, df_volume], axis = 1)\n",
        "print(concat)"
      ],
      "execution_count": 426,
      "outputs": [
        {
          "output_type": "stream",
          "name": "stdout",
          "text": [
            "                 Open       High  ...       Volume  Stock Splits\n",
            "Date                              ...                           \n",
            "2016-01-31  21.852382  22.440245  ...          NaN           NaN\n",
            "2016-02-29  22.450759  22.768306  ...          NaN           NaN\n",
            "2016-03-31  25.431522  25.473243  ...          NaN           NaN\n",
            "2016-04-30  21.785527  21.954732  ...          NaN           NaN\n",
            "2016-05-31  23.226407  23.412965  ...          NaN           NaN\n",
            "2016-06-30  22.023110  22.333260  ...          NaN           NaN\n",
            "2016-07-31  24.296780  24.380731  ...          NaN           NaN\n",
            "2016-08-31  24.773056  24.986413  ...          NaN           NaN\n",
            "2016-09-30  26.367386  26.580745  ...          NaN           NaN\n",
            "2016-10-31  26.646391  26.782378  ...  105677600.0           0.0\n",
            "2016-11-30  26.300090  26.441488  ...  144649200.0           0.0\n",
            "2016-12-31  27.490193  27.619807  ...  122345200.0           0.0\n",
            "2017-01-31        NaN        NaN  ...  196804000.0           0.0\n",
            "2017-02-28        NaN        NaN  ...   93931600.0           0.0\n",
            "2017-03-31        NaN        NaN  ...   78646800.0           0.0\n",
            "2017-04-30        NaN        NaN  ...   83441600.0           0.0\n",
            "\n",
            "[16 rows x 7 columns]\n"
          ]
        }
      ]
    },
    {
      "cell_type": "code",
      "metadata": {
        "colab": {
          "base_uri": "https://localhost:8080/"
        },
        "id": "4tiShuFilGzH",
        "outputId": "2571853e-3e98-4f5a-b1e5-b63d56f01c6e"
      },
      "source": [
        "e_concat = pd.concat([pfizer_bar, e_df_volume], axis = 1)\n",
        "print(e_concat)"
      ],
      "execution_count": 427,
      "outputs": [
        {
          "output_type": "stream",
          "name": "stdout",
          "text": [
            "                 Open       High  ...      Volume  Stock Splits\n",
            "Date                              ...                          \n",
            "2016-01-31  23.202218  23.286230  ...         NaN           NaN\n",
            "2016-02-29  23.211781  23.281207  ...         NaN           NaN\n",
            "2016-03-31  23.188641  23.273497  ...         NaN           NaN\n",
            "2016-04-30  25.356305  25.418018  ...         NaN           NaN\n",
            "2016-05-31  26.984350  27.046615  ...         NaN           NaN\n",
            "2016-06-30  27.350158  27.451340  ...         NaN           NaN\n",
            "2016-07-31  28.548775  28.758923  ...         NaN           NaN\n",
            "2016-08-31  27.357774  27.420557  ...         NaN           NaN\n",
            "2016-09-30  26.243367  26.698544  ...         NaN           NaN\n",
            "2016-10-31  25.144664  25.144664  ...  37890668.0           0.0\n",
            "2016-11-30  25.347887  25.657006  ...  40599553.0           0.0\n",
            "2016-12-31  25.633225  25.839306  ...  19885396.0           0.0\n",
            "2017-01-31        NaN        NaN  ...  39472300.0           0.0\n",
            "2017-02-28        NaN        NaN  ...  28964658.0           0.0\n",
            "2017-03-31        NaN        NaN  ...  19616837.0           0.0\n",
            "2017-04-30        NaN        NaN  ...  16842077.0           0.0\n",
            "\n",
            "[16 rows x 7 columns]\n"
          ]
        }
      ]
    },
    {
      "cell_type": "markdown",
      "metadata": {
        "id": "7yI3tgB4SR4O"
      },
      "source": [
        "By default the DataFrame are joined with all of the data. This default options results in zero information loss. We can also merge them by intersection, this is called 'inner join"
      ]
    },
    {
      "cell_type": "code",
      "metadata": {
        "colab": {
          "base_uri": "https://localhost:8080/"
        },
        "id": "31QGLyijHW-C",
        "outputId": "369e1abd-4618-4bbc-d5dd-d4f1360d3ab9"
      },
      "source": [
        "concat = pd.concat([aapl_bar,df_volume],axis = 1, join = 'inner')\n",
        "print(concat)"
      ],
      "execution_count": 428,
      "outputs": [
        {
          "output_type": "stream",
          "name": "stdout",
          "text": [
            "                 Open       High  ...     Volume  Stock Splits\n",
            "Date                              ...                         \n",
            "2016-10-31  26.646391  26.782378  ...  105677600             0\n",
            "2016-11-30  26.300090  26.441488  ...  144649200             0\n",
            "2016-12-31  27.490193  27.619807  ...  122345200             0\n",
            "\n",
            "[3 rows x 7 columns]\n"
          ]
        }
      ]
    },
    {
      "cell_type": "code",
      "metadata": {
        "colab": {
          "base_uri": "https://localhost:8080/"
        },
        "id": "P-9W1bsTlRe1",
        "outputId": "4213019f-6185-4352-8d3b-ed567648955b"
      },
      "source": [
        "e_concat = pd.concat([pfizer_bar,e_df_volume],axis = 1, join = 'inner')\n",
        "print(e_concat)"
      ],
      "execution_count": 429,
      "outputs": [
        {
          "output_type": "stream",
          "name": "stdout",
          "text": [
            "                 Open       High  ...    Volume  Stock Splits\n",
            "Date                              ...                        \n",
            "2016-10-31  25.144664  25.144664  ...  37890668             0\n",
            "2016-11-30  25.347887  25.657006  ...  40599553             0\n",
            "2016-12-31  25.633225  25.839306  ...  19885396             0\n",
            "\n",
            "[3 rows x 7 columns]\n"
          ]
        }
      ]
    },
    {
      "cell_type": "markdown",
      "metadata": {
        "id": "oudcWMm5Sd0u"
      },
      "source": [
        "Only the intersection part was left if use 'inner join' method. Now let's try to append a DataFrame to another one:"
      ]
    },
    {
      "cell_type": "code",
      "metadata": {
        "colab": {
          "base_uri": "https://localhost:8080/"
        },
        "id": "lgw0qaOsHW-D",
        "outputId": "9d68ddd3-b716-4649-902d-ad27f9193a06"
      },
      "source": [
        "append = aapl_bar.append(df_2017)\n",
        "print(append)"
      ],
      "execution_count": 430,
      "outputs": [
        {
          "output_type": "stream",
          "name": "stdout",
          "text": [
            "                 Open       High        Low      Close  rate_return\n",
            "Date                                                               \n",
            "2016-01-31  21.852382  22.440245  21.750946  22.440245          NaN\n",
            "2016-02-29  22.450759  22.768306  22.402084  22.411356    -0.001287\n",
            "2016-03-31  25.431522  25.473243  25.236821  25.262318     0.127211\n",
            "2016-04-30  21.785527  21.954732  21.442486  21.727581    -0.139921\n",
            "2016-05-31  23.226407  23.412965  23.044514  23.287039     0.071773\n",
            "2016-06-30  22.023110  22.333260  21.990462  22.293617    -0.042660\n",
            "2016-07-31  24.296780  24.380731  24.177849  24.301443     0.090063\n",
            "2016-08-31  24.773056  24.986413  24.768365  24.876217     0.023652\n",
            "2016-09-30  26.367386  26.580745  26.212643  26.505718     0.065504\n",
            "2016-10-31  26.646391  26.782378  26.540882  26.620600     0.004334\n",
            "2016-11-30  26.300090  26.441488  25.986656  26.045572    -0.021601\n",
            "2016-12-31  27.490193  27.619807  27.202683  27.294592     0.047955\n",
            "2016-10-31  26.646391  26.782378  26.540882  26.620600          NaN\n",
            "2016-11-30  26.300090  26.441488  25.986656  26.045572          NaN\n",
            "2016-12-31  27.490193  27.619807  27.202683  27.294592          NaN\n",
            "2017-01-31  28.550681  28.607239  28.425779  28.597813          NaN\n",
            "2017-02-28  32.444858  32.530065  32.354916  32.423557          NaN\n",
            "2017-03-31  34.016455  34.146633  33.848407  34.002254          NaN\n",
            "2017-04-30  34.104035  34.153741  33.909955  33.999893          NaN\n"
          ]
        }
      ]
    },
    {
      "cell_type": "code",
      "metadata": {
        "colab": {
          "base_uri": "https://localhost:8080/"
        },
        "id": "VHb1b0_JlaWj",
        "outputId": "67b852ac-0d8a-4bba-f303-57d4f847b25e"
      },
      "source": [
        "e_append = pfizer_bar.append(e_df_2017)\n",
        "print(e_append)"
      ],
      "execution_count": 432,
      "outputs": [
        {
          "output_type": "stream",
          "name": "stdout",
          "text": [
            "                 Open       High        Low      Close  rate_return\n",
            "Date                                                               \n",
            "2016-01-31  23.202218  23.286230  22.850901  23.286230          NaN\n",
            "2016-02-29  23.211781  23.281207  22.810647  22.887787    -0.017111\n",
            "2016-03-31  23.188641  23.273497  22.764365  22.864649    -0.001011\n",
            "2016-04-30  25.356305  25.418018  25.016884  25.232880     0.103576\n",
            "2016-05-31  26.984350  27.046615  26.758637  27.007698     0.070338\n",
            "2016-06-30  27.350158  27.451340  27.194496  27.404640     0.014697\n",
            "2016-07-31  28.548775  28.758923  28.525427  28.712223     0.047714\n",
            "2016-08-31  27.357774  27.420557  27.161575  27.310686    -0.048813\n",
            "2016-09-30  26.243367  26.698544  26.211976  26.580826    -0.026724\n",
            "2016-10-31  25.144664  25.144664  24.807205  24.885683    -0.063773\n",
            "2016-11-30  25.347887  25.657006  25.165585  25.474705     0.023669\n",
            "2016-12-31  25.633225  25.839306  25.609448  25.744192     0.010579\n",
            "2016-10-31  25.144664  25.144664  24.807205  24.885683          NaN\n",
            "2016-11-30  25.347887  25.657006  25.165585  25.474705          NaN\n",
            "2016-12-31  25.633225  25.839306  25.609448  25.744192          NaN\n",
            "2017-01-31  24.579048  25.308257  24.515638  25.149733          NaN\n",
            "2017-02-28  27.303592  27.431706  27.151463  27.319609          NaN\n",
            "2017-03-31  27.391668  27.527785  27.351633  27.391668          NaN\n",
            "2017-04-30  27.127442  27.175481  27.023351  27.159468          NaN\n"
          ]
        }
      ]
    },
    {
      "cell_type": "markdown",
      "metadata": {
        "id": "zXT6cMquSq_P"
      },
      "source": [
        "'Append' is essentially to concat two DataFrames by axis = 0, thus here is an alternative way to append:"
      ]
    },
    {
      "cell_type": "code",
      "metadata": {
        "colab": {
          "base_uri": "https://localhost:8080/"
        },
        "id": "2EuSaFO9HW-D",
        "outputId": "2b1ab292-c53d-4c10-d545-6de37f809e85"
      },
      "source": [
        "concat = pd.concat([aapl_bar, df_2017], axis = 0)\n",
        "print(concat)"
      ],
      "execution_count": 433,
      "outputs": [
        {
          "output_type": "stream",
          "name": "stdout",
          "text": [
            "                 Open       High        Low      Close  rate_return\n",
            "Date                                                               \n",
            "2016-01-31  21.852382  22.440245  21.750946  22.440245          NaN\n",
            "2016-02-29  22.450759  22.768306  22.402084  22.411356    -0.001287\n",
            "2016-03-31  25.431522  25.473243  25.236821  25.262318     0.127211\n",
            "2016-04-30  21.785527  21.954732  21.442486  21.727581    -0.139921\n",
            "2016-05-31  23.226407  23.412965  23.044514  23.287039     0.071773\n",
            "2016-06-30  22.023110  22.333260  21.990462  22.293617    -0.042660\n",
            "2016-07-31  24.296780  24.380731  24.177849  24.301443     0.090063\n",
            "2016-08-31  24.773056  24.986413  24.768365  24.876217     0.023652\n",
            "2016-09-30  26.367386  26.580745  26.212643  26.505718     0.065504\n",
            "2016-10-31  26.646391  26.782378  26.540882  26.620600     0.004334\n",
            "2016-11-30  26.300090  26.441488  25.986656  26.045572    -0.021601\n",
            "2016-12-31  27.490193  27.619807  27.202683  27.294592     0.047955\n",
            "2016-10-31  26.646391  26.782378  26.540882  26.620600          NaN\n",
            "2016-11-30  26.300090  26.441488  25.986656  26.045572          NaN\n",
            "2016-12-31  27.490193  27.619807  27.202683  27.294592          NaN\n",
            "2017-01-31  28.550681  28.607239  28.425779  28.597813          NaN\n",
            "2017-02-28  32.444858  32.530065  32.354916  32.423557          NaN\n",
            "2017-03-31  34.016455  34.146633  33.848407  34.002254          NaN\n",
            "2017-04-30  34.104035  34.153741  33.909955  33.999893          NaN\n"
          ]
        }
      ]
    },
    {
      "cell_type": "code",
      "metadata": {
        "colab": {
          "base_uri": "https://localhost:8080/"
        },
        "id": "gNTDcctWlm_R",
        "outputId": "1f6979d4-ce4b-4ae1-d55a-15abd76274f6"
      },
      "source": [
        "e_concat = pd.concat([pfizer_bar, e_df_2017], axis = 0)\n",
        "print(e_concat)"
      ],
      "execution_count": 434,
      "outputs": [
        {
          "output_type": "stream",
          "name": "stdout",
          "text": [
            "                 Open       High        Low      Close  rate_return\n",
            "Date                                                               \n",
            "2016-01-31  23.202218  23.286230  22.850901  23.286230          NaN\n",
            "2016-02-29  23.211781  23.281207  22.810647  22.887787    -0.017111\n",
            "2016-03-31  23.188641  23.273497  22.764365  22.864649    -0.001011\n",
            "2016-04-30  25.356305  25.418018  25.016884  25.232880     0.103576\n",
            "2016-05-31  26.984350  27.046615  26.758637  27.007698     0.070338\n",
            "2016-06-30  27.350158  27.451340  27.194496  27.404640     0.014697\n",
            "2016-07-31  28.548775  28.758923  28.525427  28.712223     0.047714\n",
            "2016-08-31  27.357774  27.420557  27.161575  27.310686    -0.048813\n",
            "2016-09-30  26.243367  26.698544  26.211976  26.580826    -0.026724\n",
            "2016-10-31  25.144664  25.144664  24.807205  24.885683    -0.063773\n",
            "2016-11-30  25.347887  25.657006  25.165585  25.474705     0.023669\n",
            "2016-12-31  25.633225  25.839306  25.609448  25.744192     0.010579\n",
            "2016-10-31  25.144664  25.144664  24.807205  24.885683          NaN\n",
            "2016-11-30  25.347887  25.657006  25.165585  25.474705          NaN\n",
            "2016-12-31  25.633225  25.839306  25.609448  25.744192          NaN\n",
            "2017-01-31  24.579048  25.308257  24.515638  25.149733          NaN\n",
            "2017-02-28  27.303592  27.431706  27.151463  27.319609          NaN\n",
            "2017-03-31  27.391668  27.527785  27.351633  27.391668          NaN\n",
            "2017-04-30  27.127442  27.175481  27.023351  27.159468          NaN\n"
          ]
        }
      ]
    },
    {
      "cell_type": "markdown",
      "metadata": {
        "id": "-YXL7V9ASst9"
      },
      "source": [
        "Please note that if the two DataFrame have some columns with the same column names, these columns are considered to be the same and will be merged. It's very important to have the right column names. If we change a column names here:"
      ]
    },
    {
      "cell_type": "code",
      "metadata": {
        "colab": {
          "base_uri": "https://localhost:8080/"
        },
        "id": "aT1eoa8mHW-D",
        "outputId": "fa07e7a8-e2b8-4dfd-94c2-21fd84a8558f"
      },
      "source": [
        "df_2017.columns = ['Change', 'High','Low','Close']\n",
        "concat = pd.concat([aapl_bar, df_2017], axis = 0)\n",
        "print(concat)"
      ],
      "execution_count": 435,
      "outputs": [
        {
          "output_type": "stream",
          "name": "stdout",
          "text": [
            "                 Open       High        Low      Close  rate_return     Change\n",
            "Date                                                                          \n",
            "2016-01-31  21.852382  22.440245  21.750946  22.440245          NaN        NaN\n",
            "2016-02-29  22.450759  22.768306  22.402084  22.411356    -0.001287        NaN\n",
            "2016-03-31  25.431522  25.473243  25.236821  25.262318     0.127211        NaN\n",
            "2016-04-30  21.785527  21.954732  21.442486  21.727581    -0.139921        NaN\n",
            "2016-05-31  23.226407  23.412965  23.044514  23.287039     0.071773        NaN\n",
            "2016-06-30  22.023110  22.333260  21.990462  22.293617    -0.042660        NaN\n",
            "2016-07-31  24.296780  24.380731  24.177849  24.301443     0.090063        NaN\n",
            "2016-08-31  24.773056  24.986413  24.768365  24.876217     0.023652        NaN\n",
            "2016-09-30  26.367386  26.580745  26.212643  26.505718     0.065504        NaN\n",
            "2016-10-31  26.646391  26.782378  26.540882  26.620600     0.004334        NaN\n",
            "2016-11-30  26.300090  26.441488  25.986656  26.045572    -0.021601        NaN\n",
            "2016-12-31  27.490193  27.619807  27.202683  27.294592     0.047955        NaN\n",
            "2016-10-31        NaN  26.782378  26.540882  26.620600          NaN  26.646391\n",
            "2016-11-30        NaN  26.441488  25.986656  26.045572          NaN  26.300090\n",
            "2016-12-31        NaN  27.619807  27.202683  27.294592          NaN  27.490193\n",
            "2017-01-31        NaN  28.607239  28.425779  28.597813          NaN  28.550681\n",
            "2017-02-28        NaN  32.530065  32.354916  32.423557          NaN  32.444858\n",
            "2017-03-31        NaN  34.146633  33.848407  34.002254          NaN  34.016455\n",
            "2017-04-30        NaN  34.153741  33.909955  33.999893          NaN  34.104035\n"
          ]
        }
      ]
    },
    {
      "cell_type": "code",
      "metadata": {
        "colab": {
          "base_uri": "https://localhost:8080/"
        },
        "id": "MfQlJ7c7luzm",
        "outputId": "e454358d-a40b-492e-f983-f042a9b6699f"
      },
      "source": [
        "e_df_2017.columns = ['Change', 'High','Low','Close']\n",
        "e_concat = pd.concat([pfizer_bar, e_df_2017], axis = 0)\n",
        "print(e_concat)"
      ],
      "execution_count": 438,
      "outputs": [
        {
          "output_type": "stream",
          "name": "stdout",
          "text": [
            "                 Open       High        Low      Close  rate_return     Change\n",
            "Date                                                                          \n",
            "2016-01-31  23.202218  23.286230  22.850901  23.286230          NaN        NaN\n",
            "2016-02-29  23.211781  23.281207  22.810647  22.887787    -0.017111        NaN\n",
            "2016-03-31  23.188641  23.273497  22.764365  22.864649    -0.001011        NaN\n",
            "2016-04-30  25.356305  25.418018  25.016884  25.232880     0.103576        NaN\n",
            "2016-05-31  26.984350  27.046615  26.758637  27.007698     0.070338        NaN\n",
            "2016-06-30  27.350158  27.451340  27.194496  27.404640     0.014697        NaN\n",
            "2016-07-31  28.548775  28.758923  28.525427  28.712223     0.047714        NaN\n",
            "2016-08-31  27.357774  27.420557  27.161575  27.310686    -0.048813        NaN\n",
            "2016-09-30  26.243367  26.698544  26.211976  26.580826    -0.026724        NaN\n",
            "2016-10-31  25.144664  25.144664  24.807205  24.885683    -0.063773        NaN\n",
            "2016-11-30  25.347887  25.657006  25.165585  25.474705     0.023669        NaN\n",
            "2016-12-31  25.633225  25.839306  25.609448  25.744192     0.010579        NaN\n",
            "2016-10-31        NaN  25.144664  24.807205  24.885683          NaN  25.144664\n",
            "2016-11-30        NaN  25.657006  25.165585  25.474705          NaN  25.347887\n",
            "2016-12-31        NaN  25.839306  25.609448  25.744192          NaN  25.633225\n",
            "2017-01-31        NaN  25.308257  24.515638  25.149733          NaN  24.579048\n",
            "2017-02-28        NaN  27.431706  27.151463  27.319609          NaN  27.303592\n",
            "2017-03-31        NaN  27.527785  27.351633  27.391668          NaN  27.391668\n",
            "2017-04-30        NaN  27.175481  27.023351  27.159468          NaN  27.127442\n"
          ]
        }
      ]
    },
    {
      "cell_type": "markdown",
      "metadata": {
        "id": "shbpOFyyS6uV"
      },
      "source": [
        "Since the column name of 'Open' has been changed, the new DataFrame has an new column named 'Change'.\n",
        "\n",
        "# Summary\n",
        "\n",
        "Hereby we introduced the most import part of python: resampling and DataFrame manipulation. We only introduced the most commonly used method in Financial data analysis. There are also many methods used in data mining, which are also beneficial. You can always check the [Pandas](https://pandas.pydata.org/pandas-docs/stable/index.html) official documentations for help."
      ]
    }
  ]
}